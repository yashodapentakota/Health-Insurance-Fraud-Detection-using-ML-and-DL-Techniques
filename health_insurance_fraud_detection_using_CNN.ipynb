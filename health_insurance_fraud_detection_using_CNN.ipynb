{
 "cells": [
  {
   "cell_type": "code",
   "execution_count": 1,
   "id": "0b294628",
   "metadata": {},
   "outputs": [],
   "source": [
    "#installing & set up"
   ]
  },
  {
   "cell_type": "code",
   "execution_count": 2,
   "id": "e9ee98b2",
   "metadata": {},
   "outputs": [
    {
     "name": "stdout",
     "output_type": "stream",
     "text": [
      "Requirement already satisfied: tensorflow in c:\\users\\madhusudan\\anaconda3\\lib\\site-packages (2.16.1)\n",
      "Requirement already satisfied: tensorflow-intel==2.16.1 in c:\\users\\madhusudan\\anaconda3\\lib\\site-packages (from tensorflow) (2.16.1)\n",
      "Requirement already satisfied: absl-py>=1.0.0 in c:\\users\\madhusudan\\anaconda3\\lib\\site-packages (from tensorflow-intel==2.16.1->tensorflow) (2.1.0)\n",
      "Requirement already satisfied: astunparse>=1.6.0 in c:\\users\\madhusudan\\anaconda3\\lib\\site-packages (from tensorflow-intel==2.16.1->tensorflow) (1.6.3)\n",
      "Requirement already satisfied: flatbuffers>=23.5.26 in c:\\users\\madhusudan\\anaconda3\\lib\\site-packages (from tensorflow-intel==2.16.1->tensorflow) (24.3.25)\n",
      "Requirement already satisfied: gast!=0.5.0,!=0.5.1,!=0.5.2,>=0.2.1 in c:\\users\\madhusudan\\anaconda3\\lib\\site-packages (from tensorflow-intel==2.16.1->tensorflow) (0.5.4)\n",
      "Requirement already satisfied: google-pasta>=0.1.1 in c:\\users\\madhusudan\\anaconda3\\lib\\site-packages (from tensorflow-intel==2.16.1->tensorflow) (0.2.0)\n",
      "Requirement already satisfied: h5py>=3.10.0 in c:\\users\\madhusudan\\anaconda3\\lib\\site-packages (from tensorflow-intel==2.16.1->tensorflow) (3.11.0)\n",
      "Requirement already satisfied: libclang>=13.0.0 in c:\\users\\madhusudan\\anaconda3\\lib\\site-packages (from tensorflow-intel==2.16.1->tensorflow) (18.1.1)\n",
      "Requirement already satisfied: ml-dtypes~=0.3.1 in c:\\users\\madhusudan\\anaconda3\\lib\\site-packages (from tensorflow-intel==2.16.1->tensorflow) (0.3.2)\n",
      "Requirement already satisfied: opt-einsum>=2.3.2 in c:\\users\\madhusudan\\anaconda3\\lib\\site-packages (from tensorflow-intel==2.16.1->tensorflow) (3.3.0)\n",
      "Requirement already satisfied: packaging in c:\\users\\madhusudan\\anaconda3\\lib\\site-packages (from tensorflow-intel==2.16.1->tensorflow) (23.0)\n",
      "Requirement already satisfied: protobuf!=4.21.0,!=4.21.1,!=4.21.2,!=4.21.3,!=4.21.4,!=4.21.5,<5.0.0dev,>=3.20.3 in c:\\users\\madhusudan\\anaconda3\\lib\\site-packages (from tensorflow-intel==2.16.1->tensorflow) (4.25.3)\n",
      "Requirement already satisfied: requests<3,>=2.21.0 in c:\\users\\madhusudan\\anaconda3\\lib\\site-packages (from tensorflow-intel==2.16.1->tensorflow) (2.31.0)\n",
      "Requirement already satisfied: setuptools in c:\\users\\madhusudan\\anaconda3\\lib\\site-packages (from tensorflow-intel==2.16.1->tensorflow) (68.0.0)\n",
      "Requirement already satisfied: six>=1.12.0 in c:\\users\\madhusudan\\anaconda3\\lib\\site-packages (from tensorflow-intel==2.16.1->tensorflow) (1.16.0)\n",
      "Requirement already satisfied: termcolor>=1.1.0 in c:\\users\\madhusudan\\anaconda3\\lib\\site-packages (from tensorflow-intel==2.16.1->tensorflow) (2.4.0)\n",
      "Requirement already satisfied: typing-extensions>=3.6.6 in c:\\users\\madhusudan\\anaconda3\\lib\\site-packages (from tensorflow-intel==2.16.1->tensorflow) (4.7.1)\n",
      "Requirement already satisfied: wrapt>=1.11.0 in c:\\users\\madhusudan\\anaconda3\\lib\\site-packages (from tensorflow-intel==2.16.1->tensorflow) (1.14.1)\n",
      "Requirement already satisfied: grpcio<2.0,>=1.24.3 in c:\\users\\madhusudan\\anaconda3\\lib\\site-packages (from tensorflow-intel==2.16.1->tensorflow) (1.64.0)\n",
      "Requirement already satisfied: tensorboard<2.17,>=2.16 in c:\\users\\madhusudan\\anaconda3\\lib\\site-packages (from tensorflow-intel==2.16.1->tensorflow) (2.16.2)\n",
      "Requirement already satisfied: keras>=3.0.0 in c:\\users\\madhusudan\\anaconda3\\lib\\site-packages (from tensorflow-intel==2.16.1->tensorflow) (3.3.3)\n",
      "Requirement already satisfied: tensorflow-io-gcs-filesystem>=0.23.1 in c:\\users\\madhusudan\\anaconda3\\lib\\site-packages (from tensorflow-intel==2.16.1->tensorflow) (0.31.0)\n",
      "Requirement already satisfied: numpy<2.0.0,>=1.23.5 in c:\\users\\madhusudan\\anaconda3\\lib\\site-packages (from tensorflow-intel==2.16.1->tensorflow) (1.24.3)\n",
      "Requirement already satisfied: wheel<1.0,>=0.23.0 in c:\\users\\madhusudan\\anaconda3\\lib\\site-packages (from astunparse>=1.6.0->tensorflow-intel==2.16.1->tensorflow) (0.38.4)\n",
      "Requirement already satisfied: rich in c:\\users\\madhusudan\\anaconda3\\lib\\site-packages (from keras>=3.0.0->tensorflow-intel==2.16.1->tensorflow) (13.7.1)\n",
      "Requirement already satisfied: namex in c:\\users\\madhusudan\\anaconda3\\lib\\site-packages (from keras>=3.0.0->tensorflow-intel==2.16.1->tensorflow) (0.0.8)\n",
      "Requirement already satisfied: optree in c:\\users\\madhusudan\\anaconda3\\lib\\site-packages (from keras>=3.0.0->tensorflow-intel==2.16.1->tensorflow) (0.11.0)\n",
      "Requirement already satisfied: charset-normalizer<4,>=2 in c:\\users\\madhusudan\\anaconda3\\lib\\site-packages (from requests<3,>=2.21.0->tensorflow-intel==2.16.1->tensorflow) (2.0.4)\n",
      "Requirement already satisfied: idna<4,>=2.5 in c:\\users\\madhusudan\\anaconda3\\lib\\site-packages (from requests<3,>=2.21.0->tensorflow-intel==2.16.1->tensorflow) (3.4)\n",
      "Requirement already satisfied: urllib3<3,>=1.21.1 in c:\\users\\madhusudan\\anaconda3\\lib\\site-packages (from requests<3,>=2.21.0->tensorflow-intel==2.16.1->tensorflow) (1.26.16)\n",
      "Requirement already satisfied: certifi>=2017.4.17 in c:\\users\\madhusudan\\anaconda3\\lib\\site-packages (from requests<3,>=2.21.0->tensorflow-intel==2.16.1->tensorflow) (2023.11.17)\n",
      "Requirement already satisfied: markdown>=2.6.8 in c:\\users\\madhusudan\\anaconda3\\lib\\site-packages (from tensorboard<2.17,>=2.16->tensorflow-intel==2.16.1->tensorflow) (3.4.1)\n",
      "Requirement already satisfied: tensorboard-data-server<0.8.0,>=0.7.0 in c:\\users\\madhusudan\\anaconda3\\lib\\site-packages (from tensorboard<2.17,>=2.16->tensorflow-intel==2.16.1->tensorflow) (0.7.2)\n",
      "Requirement already satisfied: werkzeug>=1.0.1 in c:\\users\\madhusudan\\anaconda3\\lib\\site-packages (from tensorboard<2.17,>=2.16->tensorflow-intel==2.16.1->tensorflow) (2.2.3)\n",
      "Requirement already satisfied: MarkupSafe>=2.1.1 in c:\\users\\madhusudan\\anaconda3\\lib\\site-packages (from werkzeug>=1.0.1->tensorboard<2.17,>=2.16->tensorflow-intel==2.16.1->tensorflow) (2.1.1)\n",
      "Requirement already satisfied: markdown-it-py>=2.2.0 in c:\\users\\madhusudan\\anaconda3\\lib\\site-packages (from rich->keras>=3.0.0->tensorflow-intel==2.16.1->tensorflow) (2.2.0)\n",
      "Requirement already satisfied: pygments<3.0.0,>=2.13.0 in c:\\users\\madhusudan\\anaconda3\\lib\\site-packages (from rich->keras>=3.0.0->tensorflow-intel==2.16.1->tensorflow) (2.15.1)\n",
      "Requirement already satisfied: mdurl~=0.1 in c:\\users\\madhusudan\\anaconda3\\lib\\site-packages (from markdown-it-py>=2.2.0->rich->keras>=3.0.0->tensorflow-intel==2.16.1->tensorflow) (0.1.0)\n",
      "Note: you may need to restart the kernel to use updated packages.\n"
     ]
    }
   ],
   "source": [
    "pip install tensorflow"
   ]
  },
  {
   "cell_type": "code",
   "execution_count": 3,
   "id": "b9921498",
   "metadata": {},
   "outputs": [],
   "source": [
    "import tensorflow as tf"
   ]
  },
  {
   "cell_type": "code",
   "execution_count": 4,
   "id": "b134ec2e",
   "metadata": {},
   "outputs": [
    {
     "name": "stdout",
     "output_type": "stream",
     "text": [
      "2.16.1\n"
     ]
    }
   ],
   "source": [
    "print(tf.__version__)"
   ]
  },
  {
   "cell_type": "code",
   "execution_count": 5,
   "id": "45cb15f1",
   "metadata": {},
   "outputs": [],
   "source": [
    "#importing libraries"
   ]
  },
  {
   "cell_type": "code",
   "execution_count": 6,
   "id": "6dfdcaa1",
   "metadata": {},
   "outputs": [],
   "source": [
    "import numpy as np\n",
    "import pandas as pd\n",
    "import matplotlib.pyplot as plt\n",
    "from sklearn.metrics import confusion_matrix, accuracy_score, precision_score, recall_score"
   ]
  },
  {
   "cell_type": "code",
   "execution_count": 7,
   "id": "0748243b",
   "metadata": {},
   "outputs": [],
   "source": [
    "#loading the dataset"
   ]
  },
  {
   "cell_type": "code",
   "execution_count": 8,
   "id": "45fe639e",
   "metadata": {},
   "outputs": [
    {
     "data": {
      "text/html": [
       "<div>\n",
       "<style scoped>\n",
       "    .dataframe tbody tr th:only-of-type {\n",
       "        vertical-align: middle;\n",
       "    }\n",
       "\n",
       "    .dataframe tbody tr th {\n",
       "        vertical-align: top;\n",
       "    }\n",
       "\n",
       "    .dataframe thead th {\n",
       "        text-align: right;\n",
       "    }\n",
       "</style>\n",
       "<table border=\"1\" class=\"dataframe\">\n",
       "  <thead>\n",
       "    <tr style=\"text-align: right;\">\n",
       "      <th></th>\n",
       "      <th>Time</th>\n",
       "      <th>Id</th>\n",
       "      <th>Gender</th>\n",
       "      <th>Race</th>\n",
       "      <th>RenalDiseaseIndicator</th>\n",
       "      <th>State</th>\n",
       "      <th>Country</th>\n",
       "      <th>NoOfMonths_PartACov</th>\n",
       "      <th>NoOfMonths_PartBCov</th>\n",
       "      <th>ChronicCond_Alzheimer</th>\n",
       "      <th>...</th>\n",
       "      <th>IPAnnualDeductibleAmt</th>\n",
       "      <th>OPAnnualReimbursementAmt</th>\n",
       "      <th>OPAnnualDeductibleAmt</th>\n",
       "      <th>Unnamed: 24</th>\n",
       "      <th>total_claim_amount</th>\n",
       "      <th>policy_number</th>\n",
       "      <th>policy_annual_premium</th>\n",
       "      <th>policy_deductable</th>\n",
       "      <th>Amount</th>\n",
       "      <th>Class</th>\n",
       "    </tr>\n",
       "  </thead>\n",
       "  <tbody>\n",
       "    <tr>\n",
       "      <th>0</th>\n",
       "      <td>0.0</td>\n",
       "      <td>-1.359807</td>\n",
       "      <td>-0.072781</td>\n",
       "      <td>2.536347</td>\n",
       "      <td>1.378155</td>\n",
       "      <td>-0.338321</td>\n",
       "      <td>0.462388</td>\n",
       "      <td>0.239599</td>\n",
       "      <td>0.098698</td>\n",
       "      <td>0.363787</td>\n",
       "      <td>...</td>\n",
       "      <td>-0.018307</td>\n",
       "      <td>0.277838</td>\n",
       "      <td>-0.110474</td>\n",
       "      <td>0.066928</td>\n",
       "      <td>0.128539</td>\n",
       "      <td>-0.189115</td>\n",
       "      <td>0.133558</td>\n",
       "      <td>-0.021053</td>\n",
       "      <td>149.62</td>\n",
       "      <td>0</td>\n",
       "    </tr>\n",
       "    <tr>\n",
       "      <th>1</th>\n",
       "      <td>0.0</td>\n",
       "      <td>1.191857</td>\n",
       "      <td>0.266151</td>\n",
       "      <td>0.166480</td>\n",
       "      <td>0.448154</td>\n",
       "      <td>0.060018</td>\n",
       "      <td>-0.082361</td>\n",
       "      <td>-0.078803</td>\n",
       "      <td>0.085102</td>\n",
       "      <td>-0.255425</td>\n",
       "      <td>...</td>\n",
       "      <td>-0.225775</td>\n",
       "      <td>-0.638672</td>\n",
       "      <td>0.101288</td>\n",
       "      <td>-0.339846</td>\n",
       "      <td>0.167170</td>\n",
       "      <td>0.125895</td>\n",
       "      <td>-0.008983</td>\n",
       "      <td>0.014724</td>\n",
       "      <td>2.69</td>\n",
       "      <td>0</td>\n",
       "    </tr>\n",
       "    <tr>\n",
       "      <th>2</th>\n",
       "      <td>1.0</td>\n",
       "      <td>-1.358354</td>\n",
       "      <td>-1.340163</td>\n",
       "      <td>1.773209</td>\n",
       "      <td>0.379780</td>\n",
       "      <td>-0.503198</td>\n",
       "      <td>1.800499</td>\n",
       "      <td>0.791461</td>\n",
       "      <td>0.247676</td>\n",
       "      <td>-1.514654</td>\n",
       "      <td>...</td>\n",
       "      <td>0.247998</td>\n",
       "      <td>0.771679</td>\n",
       "      <td>0.909412</td>\n",
       "      <td>-0.689281</td>\n",
       "      <td>-0.327642</td>\n",
       "      <td>-0.139097</td>\n",
       "      <td>-0.055353</td>\n",
       "      <td>-0.059752</td>\n",
       "      <td>378.66</td>\n",
       "      <td>0</td>\n",
       "    </tr>\n",
       "    <tr>\n",
       "      <th>3</th>\n",
       "      <td>1.0</td>\n",
       "      <td>-0.966272</td>\n",
       "      <td>-0.185226</td>\n",
       "      <td>1.792993</td>\n",
       "      <td>-0.863291</td>\n",
       "      <td>-0.010309</td>\n",
       "      <td>1.247203</td>\n",
       "      <td>0.237609</td>\n",
       "      <td>0.377436</td>\n",
       "      <td>-1.387024</td>\n",
       "      <td>...</td>\n",
       "      <td>-0.108300</td>\n",
       "      <td>0.005274</td>\n",
       "      <td>-0.190321</td>\n",
       "      <td>-1.175575</td>\n",
       "      <td>0.647376</td>\n",
       "      <td>-0.221929</td>\n",
       "      <td>0.062723</td>\n",
       "      <td>0.061458</td>\n",
       "      <td>123.50</td>\n",
       "      <td>0</td>\n",
       "    </tr>\n",
       "    <tr>\n",
       "      <th>4</th>\n",
       "      <td>2.0</td>\n",
       "      <td>-1.158233</td>\n",
       "      <td>0.877737</td>\n",
       "      <td>1.548718</td>\n",
       "      <td>0.403034</td>\n",
       "      <td>-0.407193</td>\n",
       "      <td>0.095921</td>\n",
       "      <td>0.592941</td>\n",
       "      <td>-0.270533</td>\n",
       "      <td>0.817739</td>\n",
       "      <td>...</td>\n",
       "      <td>-0.009431</td>\n",
       "      <td>0.798278</td>\n",
       "      <td>-0.137458</td>\n",
       "      <td>0.141267</td>\n",
       "      <td>-0.206010</td>\n",
       "      <td>0.502292</td>\n",
       "      <td>0.219422</td>\n",
       "      <td>0.215153</td>\n",
       "      <td>69.99</td>\n",
       "      <td>0</td>\n",
       "    </tr>\n",
       "    <tr>\n",
       "      <th>...</th>\n",
       "      <td>...</td>\n",
       "      <td>...</td>\n",
       "      <td>...</td>\n",
       "      <td>...</td>\n",
       "      <td>...</td>\n",
       "      <td>...</td>\n",
       "      <td>...</td>\n",
       "      <td>...</td>\n",
       "      <td>...</td>\n",
       "      <td>...</td>\n",
       "      <td>...</td>\n",
       "      <td>...</td>\n",
       "      <td>...</td>\n",
       "      <td>...</td>\n",
       "      <td>...</td>\n",
       "      <td>...</td>\n",
       "      <td>...</td>\n",
       "      <td>...</td>\n",
       "      <td>...</td>\n",
       "      <td>...</td>\n",
       "      <td>...</td>\n",
       "    </tr>\n",
       "    <tr>\n",
       "      <th>284802</th>\n",
       "      <td>172786.0</td>\n",
       "      <td>-11.881118</td>\n",
       "      <td>10.071785</td>\n",
       "      <td>-9.834783</td>\n",
       "      <td>-2.066656</td>\n",
       "      <td>-5.364473</td>\n",
       "      <td>-2.606837</td>\n",
       "      <td>-4.918215</td>\n",
       "      <td>7.305334</td>\n",
       "      <td>1.914428</td>\n",
       "      <td>...</td>\n",
       "      <td>0.213454</td>\n",
       "      <td>0.111864</td>\n",
       "      <td>1.014480</td>\n",
       "      <td>-0.509348</td>\n",
       "      <td>1.436807</td>\n",
       "      <td>0.250034</td>\n",
       "      <td>0.943651</td>\n",
       "      <td>0.823731</td>\n",
       "      <td>0.77</td>\n",
       "      <td>0</td>\n",
       "    </tr>\n",
       "    <tr>\n",
       "      <th>284803</th>\n",
       "      <td>172787.0</td>\n",
       "      <td>-0.732789</td>\n",
       "      <td>-0.055080</td>\n",
       "      <td>2.035030</td>\n",
       "      <td>-0.738589</td>\n",
       "      <td>0.868229</td>\n",
       "      <td>1.058415</td>\n",
       "      <td>0.024330</td>\n",
       "      <td>0.294869</td>\n",
       "      <td>0.584800</td>\n",
       "      <td>...</td>\n",
       "      <td>0.214205</td>\n",
       "      <td>0.924384</td>\n",
       "      <td>0.012463</td>\n",
       "      <td>-1.016226</td>\n",
       "      <td>-0.606624</td>\n",
       "      <td>-0.395255</td>\n",
       "      <td>0.068472</td>\n",
       "      <td>-0.053527</td>\n",
       "      <td>24.79</td>\n",
       "      <td>0</td>\n",
       "    </tr>\n",
       "    <tr>\n",
       "      <th>284804</th>\n",
       "      <td>172788.0</td>\n",
       "      <td>1.919565</td>\n",
       "      <td>-0.301254</td>\n",
       "      <td>-3.249640</td>\n",
       "      <td>-0.557828</td>\n",
       "      <td>2.630515</td>\n",
       "      <td>3.031260</td>\n",
       "      <td>-0.296827</td>\n",
       "      <td>0.708417</td>\n",
       "      <td>0.432454</td>\n",
       "      <td>...</td>\n",
       "      <td>0.232045</td>\n",
       "      <td>0.578229</td>\n",
       "      <td>-0.037501</td>\n",
       "      <td>0.640134</td>\n",
       "      <td>0.265745</td>\n",
       "      <td>-0.087371</td>\n",
       "      <td>0.004455</td>\n",
       "      <td>-0.026561</td>\n",
       "      <td>67.88</td>\n",
       "      <td>0</td>\n",
       "    </tr>\n",
       "    <tr>\n",
       "      <th>284805</th>\n",
       "      <td>172788.0</td>\n",
       "      <td>-0.240440</td>\n",
       "      <td>0.530483</td>\n",
       "      <td>0.702510</td>\n",
       "      <td>0.689799</td>\n",
       "      <td>-0.377961</td>\n",
       "      <td>0.623708</td>\n",
       "      <td>-0.686180</td>\n",
       "      <td>0.679145</td>\n",
       "      <td>0.392087</td>\n",
       "      <td>...</td>\n",
       "      <td>0.265245</td>\n",
       "      <td>0.800049</td>\n",
       "      <td>-0.163298</td>\n",
       "      <td>0.123205</td>\n",
       "      <td>-0.569159</td>\n",
       "      <td>0.546668</td>\n",
       "      <td>0.108821</td>\n",
       "      <td>0.104533</td>\n",
       "      <td>10.00</td>\n",
       "      <td>0</td>\n",
       "    </tr>\n",
       "    <tr>\n",
       "      <th>284806</th>\n",
       "      <td>172792.0</td>\n",
       "      <td>-0.533413</td>\n",
       "      <td>-0.189733</td>\n",
       "      <td>0.703337</td>\n",
       "      <td>-0.506271</td>\n",
       "      <td>-0.012546</td>\n",
       "      <td>-0.649617</td>\n",
       "      <td>1.577006</td>\n",
       "      <td>-0.414650</td>\n",
       "      <td>0.486180</td>\n",
       "      <td>...</td>\n",
       "      <td>0.261057</td>\n",
       "      <td>0.643078</td>\n",
       "      <td>0.376777</td>\n",
       "      <td>0.008797</td>\n",
       "      <td>-0.473649</td>\n",
       "      <td>-0.818267</td>\n",
       "      <td>-0.002415</td>\n",
       "      <td>0.013649</td>\n",
       "      <td>217.00</td>\n",
       "      <td>0</td>\n",
       "    </tr>\n",
       "  </tbody>\n",
       "</table>\n",
       "<p>284807 rows × 31 columns</p>\n",
       "</div>"
      ],
      "text/plain": [
       "            Time         Id     Gender      Race  RenalDiseaseIndicator  \\\n",
       "0            0.0  -1.359807  -0.072781  2.536347               1.378155   \n",
       "1            0.0   1.191857   0.266151  0.166480               0.448154   \n",
       "2            1.0  -1.358354  -1.340163  1.773209               0.379780   \n",
       "3            1.0  -0.966272  -0.185226  1.792993              -0.863291   \n",
       "4            2.0  -1.158233   0.877737  1.548718               0.403034   \n",
       "...          ...        ...        ...       ...                    ...   \n",
       "284802  172786.0 -11.881118  10.071785 -9.834783              -2.066656   \n",
       "284803  172787.0  -0.732789  -0.055080  2.035030              -0.738589   \n",
       "284804  172788.0   1.919565  -0.301254 -3.249640              -0.557828   \n",
       "284805  172788.0  -0.240440   0.530483  0.702510               0.689799   \n",
       "284806  172792.0  -0.533413  -0.189733  0.703337              -0.506271   \n",
       "\n",
       "           State   Country  NoOfMonths_PartACov  NoOfMonths_PartBCov  \\\n",
       "0      -0.338321  0.462388             0.239599             0.098698   \n",
       "1       0.060018 -0.082361            -0.078803             0.085102   \n",
       "2      -0.503198  1.800499             0.791461             0.247676   \n",
       "3      -0.010309  1.247203             0.237609             0.377436   \n",
       "4      -0.407193  0.095921             0.592941            -0.270533   \n",
       "...          ...       ...                  ...                  ...   \n",
       "284802 -5.364473 -2.606837            -4.918215             7.305334   \n",
       "284803  0.868229  1.058415             0.024330             0.294869   \n",
       "284804  2.630515  3.031260            -0.296827             0.708417   \n",
       "284805 -0.377961  0.623708            -0.686180             0.679145   \n",
       "284806 -0.012546 -0.649617             1.577006            -0.414650   \n",
       "\n",
       "        ChronicCond_Alzheimer  ...  IPAnnualDeductibleAmt  \\\n",
       "0                    0.363787  ...              -0.018307   \n",
       "1                   -0.255425  ...              -0.225775   \n",
       "2                   -1.514654  ...               0.247998   \n",
       "3                   -1.387024  ...              -0.108300   \n",
       "4                    0.817739  ...              -0.009431   \n",
       "...                       ...  ...                    ...   \n",
       "284802               1.914428  ...               0.213454   \n",
       "284803               0.584800  ...               0.214205   \n",
       "284804               0.432454  ...               0.232045   \n",
       "284805               0.392087  ...               0.265245   \n",
       "284806               0.486180  ...               0.261057   \n",
       "\n",
       "        OPAnnualReimbursementAmt  OPAnnualDeductibleAmt  Unnamed: 24  \\\n",
       "0                       0.277838              -0.110474     0.066928   \n",
       "1                      -0.638672               0.101288    -0.339846   \n",
       "2                       0.771679               0.909412    -0.689281   \n",
       "3                       0.005274              -0.190321    -1.175575   \n",
       "4                       0.798278              -0.137458     0.141267   \n",
       "...                          ...                    ...          ...   \n",
       "284802                  0.111864               1.014480    -0.509348   \n",
       "284803                  0.924384               0.012463    -1.016226   \n",
       "284804                  0.578229              -0.037501     0.640134   \n",
       "284805                  0.800049              -0.163298     0.123205   \n",
       "284806                  0.643078               0.376777     0.008797   \n",
       "\n",
       "        total_claim_amount  policy_number  policy_annual_premium  \\\n",
       "0                 0.128539      -0.189115               0.133558   \n",
       "1                 0.167170       0.125895              -0.008983   \n",
       "2                -0.327642      -0.139097              -0.055353   \n",
       "3                 0.647376      -0.221929               0.062723   \n",
       "4                -0.206010       0.502292               0.219422   \n",
       "...                    ...            ...                    ...   \n",
       "284802            1.436807       0.250034               0.943651   \n",
       "284803           -0.606624      -0.395255               0.068472   \n",
       "284804            0.265745      -0.087371               0.004455   \n",
       "284805           -0.569159       0.546668               0.108821   \n",
       "284806           -0.473649      -0.818267              -0.002415   \n",
       "\n",
       "        policy_deductable  Amount  Class  \n",
       "0               -0.021053  149.62      0  \n",
       "1                0.014724    2.69      0  \n",
       "2               -0.059752  378.66      0  \n",
       "3                0.061458  123.50      0  \n",
       "4                0.215153   69.99      0  \n",
       "...                   ...     ...    ...  \n",
       "284802           0.823731    0.77      0  \n",
       "284803          -0.053527   24.79      0  \n",
       "284804          -0.026561   67.88      0  \n",
       "284805           0.104533   10.00      0  \n",
       "284806           0.013649  217.00      0  \n",
       "\n",
       "[284807 rows x 31 columns]"
      ]
     },
     "execution_count": 8,
     "metadata": {},
     "output_type": "execute_result"
    }
   ],
   "source": [
    "df = pd.read_csv(\"C:/Users/MADHUSUDAN/Downloads/fraud.csv\")\n",
    "df"
   ]
  },
  {
   "cell_type": "code",
   "execution_count": 9,
   "id": "af299382",
   "metadata": {},
   "outputs": [
    {
     "data": {
      "text/html": [
       "<div>\n",
       "<style scoped>\n",
       "    .dataframe tbody tr th:only-of-type {\n",
       "        vertical-align: middle;\n",
       "    }\n",
       "\n",
       "    .dataframe tbody tr th {\n",
       "        vertical-align: top;\n",
       "    }\n",
       "\n",
       "    .dataframe thead th {\n",
       "        text-align: right;\n",
       "    }\n",
       "</style>\n",
       "<table border=\"1\" class=\"dataframe\">\n",
       "  <thead>\n",
       "    <tr style=\"text-align: right;\">\n",
       "      <th></th>\n",
       "      <th>Time</th>\n",
       "      <th>Id</th>\n",
       "      <th>Gender</th>\n",
       "      <th>Race</th>\n",
       "      <th>RenalDiseaseIndicator</th>\n",
       "      <th>State</th>\n",
       "      <th>Country</th>\n",
       "      <th>NoOfMonths_PartACov</th>\n",
       "      <th>NoOfMonths_PartBCov</th>\n",
       "      <th>ChronicCond_Alzheimer</th>\n",
       "      <th>...</th>\n",
       "      <th>IPAnnualDeductibleAmt</th>\n",
       "      <th>OPAnnualReimbursementAmt</th>\n",
       "      <th>OPAnnualDeductibleAmt</th>\n",
       "      <th>Unnamed: 24</th>\n",
       "      <th>total_claim_amount</th>\n",
       "      <th>policy_number</th>\n",
       "      <th>policy_annual_premium</th>\n",
       "      <th>policy_deductable</th>\n",
       "      <th>Amount</th>\n",
       "      <th>Class</th>\n",
       "    </tr>\n",
       "  </thead>\n",
       "  <tbody>\n",
       "    <tr>\n",
       "      <th>0</th>\n",
       "      <td>0.0</td>\n",
       "      <td>-1.359807</td>\n",
       "      <td>-0.072781</td>\n",
       "      <td>2.536347</td>\n",
       "      <td>1.378155</td>\n",
       "      <td>-0.338321</td>\n",
       "      <td>0.462388</td>\n",
       "      <td>0.239599</td>\n",
       "      <td>0.098698</td>\n",
       "      <td>0.363787</td>\n",
       "      <td>...</td>\n",
       "      <td>-0.018307</td>\n",
       "      <td>0.277838</td>\n",
       "      <td>-0.110474</td>\n",
       "      <td>0.066928</td>\n",
       "      <td>0.128539</td>\n",
       "      <td>-0.189115</td>\n",
       "      <td>0.133558</td>\n",
       "      <td>-0.021053</td>\n",
       "      <td>149.62</td>\n",
       "      <td>0</td>\n",
       "    </tr>\n",
       "    <tr>\n",
       "      <th>1</th>\n",
       "      <td>0.0</td>\n",
       "      <td>1.191857</td>\n",
       "      <td>0.266151</td>\n",
       "      <td>0.166480</td>\n",
       "      <td>0.448154</td>\n",
       "      <td>0.060018</td>\n",
       "      <td>-0.082361</td>\n",
       "      <td>-0.078803</td>\n",
       "      <td>0.085102</td>\n",
       "      <td>-0.255425</td>\n",
       "      <td>...</td>\n",
       "      <td>-0.225775</td>\n",
       "      <td>-0.638672</td>\n",
       "      <td>0.101288</td>\n",
       "      <td>-0.339846</td>\n",
       "      <td>0.167170</td>\n",
       "      <td>0.125895</td>\n",
       "      <td>-0.008983</td>\n",
       "      <td>0.014724</td>\n",
       "      <td>2.69</td>\n",
       "      <td>0</td>\n",
       "    </tr>\n",
       "    <tr>\n",
       "      <th>2</th>\n",
       "      <td>1.0</td>\n",
       "      <td>-1.358354</td>\n",
       "      <td>-1.340163</td>\n",
       "      <td>1.773209</td>\n",
       "      <td>0.379780</td>\n",
       "      <td>-0.503198</td>\n",
       "      <td>1.800499</td>\n",
       "      <td>0.791461</td>\n",
       "      <td>0.247676</td>\n",
       "      <td>-1.514654</td>\n",
       "      <td>...</td>\n",
       "      <td>0.247998</td>\n",
       "      <td>0.771679</td>\n",
       "      <td>0.909412</td>\n",
       "      <td>-0.689281</td>\n",
       "      <td>-0.327642</td>\n",
       "      <td>-0.139097</td>\n",
       "      <td>-0.055353</td>\n",
       "      <td>-0.059752</td>\n",
       "      <td>378.66</td>\n",
       "      <td>0</td>\n",
       "    </tr>\n",
       "    <tr>\n",
       "      <th>3</th>\n",
       "      <td>1.0</td>\n",
       "      <td>-0.966272</td>\n",
       "      <td>-0.185226</td>\n",
       "      <td>1.792993</td>\n",
       "      <td>-0.863291</td>\n",
       "      <td>-0.010309</td>\n",
       "      <td>1.247203</td>\n",
       "      <td>0.237609</td>\n",
       "      <td>0.377436</td>\n",
       "      <td>-1.387024</td>\n",
       "      <td>...</td>\n",
       "      <td>-0.108300</td>\n",
       "      <td>0.005274</td>\n",
       "      <td>-0.190321</td>\n",
       "      <td>-1.175575</td>\n",
       "      <td>0.647376</td>\n",
       "      <td>-0.221929</td>\n",
       "      <td>0.062723</td>\n",
       "      <td>0.061458</td>\n",
       "      <td>123.50</td>\n",
       "      <td>0</td>\n",
       "    </tr>\n",
       "    <tr>\n",
       "      <th>4</th>\n",
       "      <td>2.0</td>\n",
       "      <td>-1.158233</td>\n",
       "      <td>0.877737</td>\n",
       "      <td>1.548718</td>\n",
       "      <td>0.403034</td>\n",
       "      <td>-0.407193</td>\n",
       "      <td>0.095921</td>\n",
       "      <td>0.592941</td>\n",
       "      <td>-0.270533</td>\n",
       "      <td>0.817739</td>\n",
       "      <td>...</td>\n",
       "      <td>-0.009431</td>\n",
       "      <td>0.798278</td>\n",
       "      <td>-0.137458</td>\n",
       "      <td>0.141267</td>\n",
       "      <td>-0.206010</td>\n",
       "      <td>0.502292</td>\n",
       "      <td>0.219422</td>\n",
       "      <td>0.215153</td>\n",
       "      <td>69.99</td>\n",
       "      <td>0</td>\n",
       "    </tr>\n",
       "  </tbody>\n",
       "</table>\n",
       "<p>5 rows × 31 columns</p>\n",
       "</div>"
      ],
      "text/plain": [
       "   Time        Id    Gender      Race  RenalDiseaseIndicator     State  \\\n",
       "0   0.0 -1.359807 -0.072781  2.536347               1.378155 -0.338321   \n",
       "1   0.0  1.191857  0.266151  0.166480               0.448154  0.060018   \n",
       "2   1.0 -1.358354 -1.340163  1.773209               0.379780 -0.503198   \n",
       "3   1.0 -0.966272 -0.185226  1.792993              -0.863291 -0.010309   \n",
       "4   2.0 -1.158233  0.877737  1.548718               0.403034 -0.407193   \n",
       "\n",
       "    Country  NoOfMonths_PartACov  NoOfMonths_PartBCov  ChronicCond_Alzheimer  \\\n",
       "0  0.462388             0.239599             0.098698               0.363787   \n",
       "1 -0.082361            -0.078803             0.085102              -0.255425   \n",
       "2  1.800499             0.791461             0.247676              -1.514654   \n",
       "3  1.247203             0.237609             0.377436              -1.387024   \n",
       "4  0.095921             0.592941            -0.270533               0.817739   \n",
       "\n",
       "   ...  IPAnnualDeductibleAmt  OPAnnualReimbursementAmt  \\\n",
       "0  ...              -0.018307                  0.277838   \n",
       "1  ...              -0.225775                 -0.638672   \n",
       "2  ...               0.247998                  0.771679   \n",
       "3  ...              -0.108300                  0.005274   \n",
       "4  ...              -0.009431                  0.798278   \n",
       "\n",
       "   OPAnnualDeductibleAmt  Unnamed: 24  total_claim_amount  policy_number  \\\n",
       "0              -0.110474     0.066928            0.128539      -0.189115   \n",
       "1               0.101288    -0.339846            0.167170       0.125895   \n",
       "2               0.909412    -0.689281           -0.327642      -0.139097   \n",
       "3              -0.190321    -1.175575            0.647376      -0.221929   \n",
       "4              -0.137458     0.141267           -0.206010       0.502292   \n",
       "\n",
       "   policy_annual_premium  policy_deductable  Amount  Class  \n",
       "0               0.133558          -0.021053  149.62      0  \n",
       "1              -0.008983           0.014724    2.69      0  \n",
       "2              -0.055353          -0.059752  378.66      0  \n",
       "3               0.062723           0.061458  123.50      0  \n",
       "4               0.219422           0.215153   69.99      0  \n",
       "\n",
       "[5 rows x 31 columns]"
      ]
     },
     "execution_count": 9,
     "metadata": {},
     "output_type": "execute_result"
    }
   ],
   "source": [
    "df.head()"
   ]
  },
  {
   "cell_type": "code",
   "execution_count": 10,
   "id": "4052cf59",
   "metadata": {},
   "outputs": [],
   "source": [
    "#data_preprocessing"
   ]
  },
  {
   "cell_type": "code",
   "execution_count": 11,
   "id": "fbe92350",
   "metadata": {},
   "outputs": [
    {
     "data": {
      "text/plain": [
       "(284807, 31)"
      ]
     },
     "execution_count": 11,
     "metadata": {},
     "output_type": "execute_result"
    }
   ],
   "source": [
    "df.shape"
   ]
  },
  {
   "cell_type": "code",
   "execution_count": 12,
   "id": "79df4fb9",
   "metadata": {},
   "outputs": [],
   "source": [
    "#null_values"
   ]
  },
  {
   "cell_type": "code",
   "execution_count": 13,
   "id": "cd6391c3",
   "metadata": {},
   "outputs": [
    {
     "data": {
      "text/plain": [
       "Time                               0\n",
       "Id                                 0\n",
       "Gender                             0\n",
       "Race                               0\n",
       "RenalDiseaseIndicator              0\n",
       "State                              0\n",
       "Country                            0\n",
       "NoOfMonths_PartACov                0\n",
       "NoOfMonths_PartBCov                0\n",
       "ChronicCond_Alzheimer              0\n",
       "ChronicCond_Heartfailure           0\n",
       "ChronicCond_KidneyDisease          0\n",
       "ChronicCond_Cancer                 0\n",
       "ChronicCond_ObstrPulmonary         0\n",
       "ChronicCond_Depression             0\n",
       "ChronicCond_Diabetes               0\n",
       "ChronicCond_IschemicHeart          0\n",
       "ChronicCond_Osteoporasis           0\n",
       "ChronicCond_rheumatoidarthritis    0\n",
       "ChronicCond_stroke                 0\n",
       "IPAnnualReimbursementAmt           0\n",
       "IPAnnualDeductibleAmt              0\n",
       "OPAnnualReimbursementAmt           0\n",
       "OPAnnualDeductibleAmt              0\n",
       "Unnamed: 24                        0\n",
       "total_claim_amount                 0\n",
       "policy_number                      0\n",
       "policy_annual_premium              0\n",
       "policy_deductable                  0\n",
       "Amount                             0\n",
       "Class                              0\n",
       "dtype: int64"
      ]
     },
     "execution_count": 13,
     "metadata": {},
     "output_type": "execute_result"
    }
   ],
   "source": [
    "df.isnull().sum()"
   ]
  },
  {
   "cell_type": "code",
   "execution_count": 14,
   "id": "fb247236",
   "metadata": {},
   "outputs": [
    {
     "name": "stdout",
     "output_type": "stream",
     "text": [
      "<class 'pandas.core.frame.DataFrame'>\n",
      "RangeIndex: 284807 entries, 0 to 284806\n",
      "Data columns (total 31 columns):\n",
      " #   Column                           Non-Null Count   Dtype  \n",
      "---  ------                           --------------   -----  \n",
      " 0   Time                             284807 non-null  float64\n",
      " 1   Id                               284807 non-null  float64\n",
      " 2   Gender                           284807 non-null  float64\n",
      " 3   Race                             284807 non-null  float64\n",
      " 4   RenalDiseaseIndicator            284807 non-null  float64\n",
      " 5   State                            284807 non-null  float64\n",
      " 6   Country                          284807 non-null  float64\n",
      " 7   NoOfMonths_PartACov              284807 non-null  float64\n",
      " 8   NoOfMonths_PartBCov              284807 non-null  float64\n",
      " 9   ChronicCond_Alzheimer            284807 non-null  float64\n",
      " 10  ChronicCond_Heartfailure         284807 non-null  float64\n",
      " 11  ChronicCond_KidneyDisease        284807 non-null  float64\n",
      " 12  ChronicCond_Cancer               284807 non-null  float64\n",
      " 13  ChronicCond_ObstrPulmonary       284807 non-null  float64\n",
      " 14  ChronicCond_Depression           284807 non-null  float64\n",
      " 15  ChronicCond_Diabetes             284807 non-null  float64\n",
      " 16  ChronicCond_IschemicHeart        284807 non-null  float64\n",
      " 17  ChronicCond_Osteoporasis         284807 non-null  float64\n",
      " 18  ChronicCond_rheumatoidarthritis  284807 non-null  float64\n",
      " 19  ChronicCond_stroke               284807 non-null  float64\n",
      " 20  IPAnnualReimbursementAmt         284807 non-null  float64\n",
      " 21  IPAnnualDeductibleAmt            284807 non-null  float64\n",
      " 22  OPAnnualReimbursementAmt         284807 non-null  float64\n",
      " 23  OPAnnualDeductibleAmt            284807 non-null  float64\n",
      " 24  Unnamed: 24                      284807 non-null  float64\n",
      " 25  total_claim_amount               284807 non-null  float64\n",
      " 26  policy_number                    284807 non-null  float64\n",
      " 27  policy_annual_premium            284807 non-null  float64\n",
      " 28  policy_deductable                284807 non-null  float64\n",
      " 29  Amount                           284807 non-null  float64\n",
      " 30  Class                            284807 non-null  int64  \n",
      "dtypes: float64(30), int64(1)\n",
      "memory usage: 67.4 MB\n"
     ]
    }
   ],
   "source": [
    "df.info()"
   ]
  },
  {
   "cell_type": "code",
   "execution_count": 15,
   "id": "3c3124aa",
   "metadata": {},
   "outputs": [
    {
     "data": {
      "text/plain": [
       "0    284315\n",
       "1       492\n",
       "Name: Class, dtype: int64"
      ]
     },
     "execution_count": 15,
     "metadata": {},
     "output_type": "execute_result"
    }
   ],
   "source": [
    "df['Class'].value_counts()"
   ]
  },
  {
   "cell_type": "code",
   "execution_count": 16,
   "id": "b947c469",
   "metadata": {},
   "outputs": [],
   "source": [
    "#balancing_the_dataset"
   ]
  },
  {
   "cell_type": "code",
   "execution_count": 17,
   "id": "6c8500a9",
   "metadata": {},
   "outputs": [],
   "source": [
    "frauds = df[df['Class'] == 1]\n",
    "no_fraud = df[df['Class'] == 0]"
   ]
  },
  {
   "cell_type": "code",
   "execution_count": 18,
   "id": "6217501c",
   "metadata": {},
   "outputs": [
    {
     "data": {
      "text/plain": [
       "((492, 31), (284315, 31))"
      ]
     },
     "execution_count": 18,
     "metadata": {},
     "output_type": "execute_result"
    }
   ],
   "source": [
    "frauds.shape, no_fraud.shape"
   ]
  },
  {
   "cell_type": "code",
   "execution_count": 19,
   "id": "5ad4c1ae",
   "metadata": {},
   "outputs": [],
   "source": [
    "#random_selection_of_samples"
   ]
  },
  {
   "cell_type": "code",
   "execution_count": 20,
   "id": "1523ba35",
   "metadata": {},
   "outputs": [],
   "source": [
    "non_fraud = no_fraud.sample(n = 492)"
   ]
  },
  {
   "cell_type": "code",
   "execution_count": 21,
   "id": "a8b3170a",
   "metadata": {},
   "outputs": [
    {
     "data": {
      "text/plain": [
       "(492, 31)"
      ]
     },
     "execution_count": 21,
     "metadata": {},
     "output_type": "execute_result"
    }
   ],
   "source": [
    "non_fraud.shape"
   ]
  },
  {
   "cell_type": "code",
   "execution_count": 22,
   "id": "03135010",
   "metadata": {},
   "outputs": [],
   "source": [
    "#merging_the_dataset"
   ]
  },
  {
   "cell_type": "code",
   "execution_count": 23,
   "id": "d7cff4e7",
   "metadata": {},
   "outputs": [],
   "source": [
    "dataset = pd.concat([frauds,non_fraud], ignore_index = True)"
   ]
  },
  {
   "cell_type": "code",
   "execution_count": 24,
   "id": "93e097fc",
   "metadata": {},
   "outputs": [
    {
     "data": {
      "text/html": [
       "<div>\n",
       "<style scoped>\n",
       "    .dataframe tbody tr th:only-of-type {\n",
       "        vertical-align: middle;\n",
       "    }\n",
       "\n",
       "    .dataframe tbody tr th {\n",
       "        vertical-align: top;\n",
       "    }\n",
       "\n",
       "    .dataframe thead th {\n",
       "        text-align: right;\n",
       "    }\n",
       "</style>\n",
       "<table border=\"1\" class=\"dataframe\">\n",
       "  <thead>\n",
       "    <tr style=\"text-align: right;\">\n",
       "      <th></th>\n",
       "      <th>Time</th>\n",
       "      <th>Id</th>\n",
       "      <th>Gender</th>\n",
       "      <th>Race</th>\n",
       "      <th>RenalDiseaseIndicator</th>\n",
       "      <th>State</th>\n",
       "      <th>Country</th>\n",
       "      <th>NoOfMonths_PartACov</th>\n",
       "      <th>NoOfMonths_PartBCov</th>\n",
       "      <th>ChronicCond_Alzheimer</th>\n",
       "      <th>...</th>\n",
       "      <th>IPAnnualDeductibleAmt</th>\n",
       "      <th>OPAnnualReimbursementAmt</th>\n",
       "      <th>OPAnnualDeductibleAmt</th>\n",
       "      <th>Unnamed: 24</th>\n",
       "      <th>total_claim_amount</th>\n",
       "      <th>policy_number</th>\n",
       "      <th>policy_annual_premium</th>\n",
       "      <th>policy_deductable</th>\n",
       "      <th>Amount</th>\n",
       "      <th>Class</th>\n",
       "    </tr>\n",
       "  </thead>\n",
       "  <tbody>\n",
       "    <tr>\n",
       "      <th>0</th>\n",
       "      <td>406.0</td>\n",
       "      <td>-2.312227</td>\n",
       "      <td>1.951992</td>\n",
       "      <td>-1.609851</td>\n",
       "      <td>3.997906</td>\n",
       "      <td>-0.522188</td>\n",
       "      <td>-1.426545</td>\n",
       "      <td>-2.537387</td>\n",
       "      <td>1.391657</td>\n",
       "      <td>-2.770089</td>\n",
       "      <td>...</td>\n",
       "      <td>0.517232</td>\n",
       "      <td>-0.035049</td>\n",
       "      <td>-0.465211</td>\n",
       "      <td>0.320198</td>\n",
       "      <td>0.044519</td>\n",
       "      <td>0.177840</td>\n",
       "      <td>0.261145</td>\n",
       "      <td>-0.143276</td>\n",
       "      <td>0.00</td>\n",
       "      <td>1</td>\n",
       "    </tr>\n",
       "    <tr>\n",
       "      <th>1</th>\n",
       "      <td>472.0</td>\n",
       "      <td>-3.043541</td>\n",
       "      <td>-3.157307</td>\n",
       "      <td>1.088463</td>\n",
       "      <td>2.288644</td>\n",
       "      <td>1.359805</td>\n",
       "      <td>-1.064823</td>\n",
       "      <td>0.325574</td>\n",
       "      <td>-0.067794</td>\n",
       "      <td>-0.270953</td>\n",
       "      <td>...</td>\n",
       "      <td>0.661696</td>\n",
       "      <td>0.435477</td>\n",
       "      <td>1.375966</td>\n",
       "      <td>-0.293803</td>\n",
       "      <td>0.279798</td>\n",
       "      <td>-0.145362</td>\n",
       "      <td>-0.252773</td>\n",
       "      <td>0.035764</td>\n",
       "      <td>529.00</td>\n",
       "      <td>1</td>\n",
       "    </tr>\n",
       "    <tr>\n",
       "      <th>2</th>\n",
       "      <td>4462.0</td>\n",
       "      <td>-2.303350</td>\n",
       "      <td>1.759247</td>\n",
       "      <td>-0.359745</td>\n",
       "      <td>2.330243</td>\n",
       "      <td>-0.821628</td>\n",
       "      <td>-0.075788</td>\n",
       "      <td>0.562320</td>\n",
       "      <td>-0.399147</td>\n",
       "      <td>-0.238253</td>\n",
       "      <td>...</td>\n",
       "      <td>-0.294166</td>\n",
       "      <td>-0.932391</td>\n",
       "      <td>0.172726</td>\n",
       "      <td>-0.087330</td>\n",
       "      <td>-0.156114</td>\n",
       "      <td>-0.542628</td>\n",
       "      <td>0.039566</td>\n",
       "      <td>-0.153029</td>\n",
       "      <td>239.93</td>\n",
       "      <td>1</td>\n",
       "    </tr>\n",
       "    <tr>\n",
       "      <th>3</th>\n",
       "      <td>6986.0</td>\n",
       "      <td>-4.397974</td>\n",
       "      <td>1.358367</td>\n",
       "      <td>-2.592844</td>\n",
       "      <td>2.679787</td>\n",
       "      <td>-1.128131</td>\n",
       "      <td>-1.706536</td>\n",
       "      <td>-3.496197</td>\n",
       "      <td>-0.248778</td>\n",
       "      <td>-0.247768</td>\n",
       "      <td>...</td>\n",
       "      <td>0.573574</td>\n",
       "      <td>0.176968</td>\n",
       "      <td>-0.436207</td>\n",
       "      <td>-0.053502</td>\n",
       "      <td>0.252405</td>\n",
       "      <td>-0.657488</td>\n",
       "      <td>-0.827136</td>\n",
       "      <td>0.849573</td>\n",
       "      <td>59.00</td>\n",
       "      <td>1</td>\n",
       "    </tr>\n",
       "    <tr>\n",
       "      <th>4</th>\n",
       "      <td>7519.0</td>\n",
       "      <td>1.234235</td>\n",
       "      <td>3.019740</td>\n",
       "      <td>-4.304597</td>\n",
       "      <td>4.732795</td>\n",
       "      <td>3.624201</td>\n",
       "      <td>-1.357746</td>\n",
       "      <td>1.713445</td>\n",
       "      <td>-0.496358</td>\n",
       "      <td>-1.282858</td>\n",
       "      <td>...</td>\n",
       "      <td>-0.379068</td>\n",
       "      <td>-0.704181</td>\n",
       "      <td>-0.656805</td>\n",
       "      <td>-1.632653</td>\n",
       "      <td>1.488901</td>\n",
       "      <td>0.566797</td>\n",
       "      <td>-0.010016</td>\n",
       "      <td>0.146793</td>\n",
       "      <td>1.00</td>\n",
       "      <td>1</td>\n",
       "    </tr>\n",
       "    <tr>\n",
       "      <th>...</th>\n",
       "      <td>...</td>\n",
       "      <td>...</td>\n",
       "      <td>...</td>\n",
       "      <td>...</td>\n",
       "      <td>...</td>\n",
       "      <td>...</td>\n",
       "      <td>...</td>\n",
       "      <td>...</td>\n",
       "      <td>...</td>\n",
       "      <td>...</td>\n",
       "      <td>...</td>\n",
       "      <td>...</td>\n",
       "      <td>...</td>\n",
       "      <td>...</td>\n",
       "      <td>...</td>\n",
       "      <td>...</td>\n",
       "      <td>...</td>\n",
       "      <td>...</td>\n",
       "      <td>...</td>\n",
       "      <td>...</td>\n",
       "      <td>...</td>\n",
       "    </tr>\n",
       "    <tr>\n",
       "      <th>979</th>\n",
       "      <td>64971.0</td>\n",
       "      <td>-0.473737</td>\n",
       "      <td>0.709497</td>\n",
       "      <td>1.797156</td>\n",
       "      <td>0.954681</td>\n",
       "      <td>0.100925</td>\n",
       "      <td>0.233879</td>\n",
       "      <td>0.459956</td>\n",
       "      <td>-0.194033</td>\n",
       "      <td>-0.367291</td>\n",
       "      <td>...</td>\n",
       "      <td>-0.195891</td>\n",
       "      <td>-0.239117</td>\n",
       "      <td>-0.355762</td>\n",
       "      <td>0.074264</td>\n",
       "      <td>0.184453</td>\n",
       "      <td>0.507546</td>\n",
       "      <td>-0.383432</td>\n",
       "      <td>-0.263028</td>\n",
       "      <td>24.80</td>\n",
       "      <td>0</td>\n",
       "    </tr>\n",
       "    <tr>\n",
       "      <th>980</th>\n",
       "      <td>131422.0</td>\n",
       "      <td>-0.357947</td>\n",
       "      <td>1.529554</td>\n",
       "      <td>-1.088718</td>\n",
       "      <td>0.534983</td>\n",
       "      <td>1.827581</td>\n",
       "      <td>-0.976053</td>\n",
       "      <td>1.243980</td>\n",
       "      <td>-0.042856</td>\n",
       "      <td>-0.843209</td>\n",
       "      <td>...</td>\n",
       "      <td>0.200144</td>\n",
       "      <td>0.530509</td>\n",
       "      <td>-0.387546</td>\n",
       "      <td>-0.884469</td>\n",
       "      <td>-0.032070</td>\n",
       "      <td>-0.484036</td>\n",
       "      <td>0.206391</td>\n",
       "      <td>0.248319</td>\n",
       "      <td>23.08</td>\n",
       "      <td>0</td>\n",
       "    </tr>\n",
       "    <tr>\n",
       "      <th>981</th>\n",
       "      <td>38019.0</td>\n",
       "      <td>-0.748541</td>\n",
       "      <td>0.189924</td>\n",
       "      <td>-0.335152</td>\n",
       "      <td>-0.874584</td>\n",
       "      <td>2.587182</td>\n",
       "      <td>3.453010</td>\n",
       "      <td>0.694690</td>\n",
       "      <td>0.836402</td>\n",
       "      <td>-0.672468</td>\n",
       "      <td>...</td>\n",
       "      <td>0.235444</td>\n",
       "      <td>0.207411</td>\n",
       "      <td>0.112762</td>\n",
       "      <td>0.976369</td>\n",
       "      <td>0.140510</td>\n",
       "      <td>-0.492784</td>\n",
       "      <td>0.082692</td>\n",
       "      <td>0.158840</td>\n",
       "      <td>144.00</td>\n",
       "      <td>0</td>\n",
       "    </tr>\n",
       "    <tr>\n",
       "      <th>982</th>\n",
       "      <td>157373.0</td>\n",
       "      <td>0.736497</td>\n",
       "      <td>-1.209004</td>\n",
       "      <td>2.327193</td>\n",
       "      <td>-0.295309</td>\n",
       "      <td>-2.129113</td>\n",
       "      <td>0.943270</td>\n",
       "      <td>-1.746228</td>\n",
       "      <td>0.054018</td>\n",
       "      <td>-0.454928</td>\n",
       "      <td>...</td>\n",
       "      <td>0.082371</td>\n",
       "      <td>1.544414</td>\n",
       "      <td>0.106528</td>\n",
       "      <td>0.153698</td>\n",
       "      <td>-1.755117</td>\n",
       "      <td>0.226173</td>\n",
       "      <td>0.319966</td>\n",
       "      <td>0.093665</td>\n",
       "      <td>12.90</td>\n",
       "      <td>0</td>\n",
       "    </tr>\n",
       "    <tr>\n",
       "      <th>983</th>\n",
       "      <td>68254.0</td>\n",
       "      <td>1.168883</td>\n",
       "      <td>-0.419222</td>\n",
       "      <td>1.029568</td>\n",
       "      <td>-0.085262</td>\n",
       "      <td>-0.821430</td>\n",
       "      <td>0.516029</td>\n",
       "      <td>-0.893967</td>\n",
       "      <td>0.355873</td>\n",
       "      <td>0.862435</td>\n",
       "      <td>...</td>\n",
       "      <td>-0.065896</td>\n",
       "      <td>0.017772</td>\n",
       "      <td>0.044825</td>\n",
       "      <td>-0.221850</td>\n",
       "      <td>0.053615</td>\n",
       "      <td>1.023520</td>\n",
       "      <td>-0.020893</td>\n",
       "      <td>-0.001942</td>\n",
       "      <td>1.00</td>\n",
       "      <td>0</td>\n",
       "    </tr>\n",
       "  </tbody>\n",
       "</table>\n",
       "<p>984 rows × 31 columns</p>\n",
       "</div>"
      ],
      "text/plain": [
       "         Time        Id    Gender      Race  RenalDiseaseIndicator     State  \\\n",
       "0       406.0 -2.312227  1.951992 -1.609851               3.997906 -0.522188   \n",
       "1       472.0 -3.043541 -3.157307  1.088463               2.288644  1.359805   \n",
       "2      4462.0 -2.303350  1.759247 -0.359745               2.330243 -0.821628   \n",
       "3      6986.0 -4.397974  1.358367 -2.592844               2.679787 -1.128131   \n",
       "4      7519.0  1.234235  3.019740 -4.304597               4.732795  3.624201   \n",
       "..        ...       ...       ...       ...                    ...       ...   \n",
       "979   64971.0 -0.473737  0.709497  1.797156               0.954681  0.100925   \n",
       "980  131422.0 -0.357947  1.529554 -1.088718               0.534983  1.827581   \n",
       "981   38019.0 -0.748541  0.189924 -0.335152              -0.874584  2.587182   \n",
       "982  157373.0  0.736497 -1.209004  2.327193              -0.295309 -2.129113   \n",
       "983   68254.0  1.168883 -0.419222  1.029568              -0.085262 -0.821430   \n",
       "\n",
       "      Country  NoOfMonths_PartACov  NoOfMonths_PartBCov  \\\n",
       "0   -1.426545            -2.537387             1.391657   \n",
       "1   -1.064823             0.325574            -0.067794   \n",
       "2   -0.075788             0.562320            -0.399147   \n",
       "3   -1.706536            -3.496197            -0.248778   \n",
       "4   -1.357746             1.713445            -0.496358   \n",
       "..        ...                  ...                  ...   \n",
       "979  0.233879             0.459956            -0.194033   \n",
       "980 -0.976053             1.243980            -0.042856   \n",
       "981  3.453010             0.694690             0.836402   \n",
       "982  0.943270            -1.746228             0.054018   \n",
       "983  0.516029            -0.893967             0.355873   \n",
       "\n",
       "     ChronicCond_Alzheimer  ...  IPAnnualDeductibleAmt  \\\n",
       "0                -2.770089  ...               0.517232   \n",
       "1                -0.270953  ...               0.661696   \n",
       "2                -0.238253  ...              -0.294166   \n",
       "3                -0.247768  ...               0.573574   \n",
       "4                -1.282858  ...              -0.379068   \n",
       "..                     ...  ...                    ...   \n",
       "979              -0.367291  ...              -0.195891   \n",
       "980              -0.843209  ...               0.200144   \n",
       "981              -0.672468  ...               0.235444   \n",
       "982              -0.454928  ...               0.082371   \n",
       "983               0.862435  ...              -0.065896   \n",
       "\n",
       "     OPAnnualReimbursementAmt  OPAnnualDeductibleAmt  Unnamed: 24  \\\n",
       "0                   -0.035049              -0.465211     0.320198   \n",
       "1                    0.435477               1.375966    -0.293803   \n",
       "2                   -0.932391               0.172726    -0.087330   \n",
       "3                    0.176968              -0.436207    -0.053502   \n",
       "4                   -0.704181              -0.656805    -1.632653   \n",
       "..                        ...                    ...          ...   \n",
       "979                 -0.239117              -0.355762     0.074264   \n",
       "980                  0.530509              -0.387546    -0.884469   \n",
       "981                  0.207411               0.112762     0.976369   \n",
       "982                  1.544414               0.106528     0.153698   \n",
       "983                  0.017772               0.044825    -0.221850   \n",
       "\n",
       "     total_claim_amount  policy_number  policy_annual_premium  \\\n",
       "0              0.044519       0.177840               0.261145   \n",
       "1              0.279798      -0.145362              -0.252773   \n",
       "2             -0.156114      -0.542628               0.039566   \n",
       "3              0.252405      -0.657488              -0.827136   \n",
       "4              1.488901       0.566797              -0.010016   \n",
       "..                  ...            ...                    ...   \n",
       "979            0.184453       0.507546              -0.383432   \n",
       "980           -0.032070      -0.484036               0.206391   \n",
       "981            0.140510      -0.492784               0.082692   \n",
       "982           -1.755117       0.226173               0.319966   \n",
       "983            0.053615       1.023520              -0.020893   \n",
       "\n",
       "     policy_deductable  Amount  Class  \n",
       "0            -0.143276    0.00      1  \n",
       "1             0.035764  529.00      1  \n",
       "2            -0.153029  239.93      1  \n",
       "3             0.849573   59.00      1  \n",
       "4             0.146793    1.00      1  \n",
       "..                 ...     ...    ...  \n",
       "979          -0.263028   24.80      0  \n",
       "980           0.248319   23.08      0  \n",
       "981           0.158840  144.00      0  \n",
       "982           0.093665   12.90      0  \n",
       "983          -0.001942    1.00      0  \n",
       "\n",
       "[984 rows x 31 columns]"
      ]
     },
     "execution_count": 24,
     "metadata": {},
     "output_type": "execute_result"
    }
   ],
   "source": [
    "dataset"
   ]
  },
  {
   "cell_type": "code",
   "execution_count": 25,
   "id": "e9d4846b",
   "metadata": {},
   "outputs": [
    {
     "data": {
      "text/plain": [
       "1    492\n",
       "0    492\n",
       "Name: Class, dtype: int64"
      ]
     },
     "execution_count": 25,
     "metadata": {},
     "output_type": "execute_result"
    }
   ],
   "source": [
    "dataset['Class'].value_counts()"
   ]
  },
  {
   "cell_type": "code",
   "execution_count": 26,
   "id": "0eb790dc",
   "metadata": {},
   "outputs": [],
   "source": [
    "#defining_feature_matrix"
   ]
  },
  {
   "cell_type": "code",
   "execution_count": 27,
   "id": "d1f6896f",
   "metadata": {},
   "outputs": [],
   "source": [
    "x = dataset.drop(labels = ['Class'], axis = 1)"
   ]
  },
  {
   "cell_type": "code",
   "execution_count": 28,
   "id": "cc5057a6",
   "metadata": {},
   "outputs": [],
   "source": [
    "#dependent_variable"
   ]
  },
  {
   "cell_type": "code",
   "execution_count": 29,
   "id": "913b81e7",
   "metadata": {},
   "outputs": [],
   "source": [
    "y = dataset['Class']"
   ]
  },
  {
   "cell_type": "code",
   "execution_count": 30,
   "id": "3e20a6af",
   "metadata": {},
   "outputs": [
    {
     "data": {
      "text/plain": [
       "((984, 30), (984,))"
      ]
     },
     "execution_count": 30,
     "metadata": {},
     "output_type": "execute_result"
    }
   ],
   "source": [
    "x.shape, y.shape"
   ]
  },
  {
   "cell_type": "code",
   "execution_count": 31,
   "id": "17de9c6d",
   "metadata": {},
   "outputs": [
    {
     "data": {
      "text/html": [
       "<div>\n",
       "<style scoped>\n",
       "    .dataframe tbody tr th:only-of-type {\n",
       "        vertical-align: middle;\n",
       "    }\n",
       "\n",
       "    .dataframe tbody tr th {\n",
       "        vertical-align: top;\n",
       "    }\n",
       "\n",
       "    .dataframe thead th {\n",
       "        text-align: right;\n",
       "    }\n",
       "</style>\n",
       "<table border=\"1\" class=\"dataframe\">\n",
       "  <thead>\n",
       "    <tr style=\"text-align: right;\">\n",
       "      <th></th>\n",
       "      <th>Time</th>\n",
       "      <th>Id</th>\n",
       "      <th>Gender</th>\n",
       "      <th>Race</th>\n",
       "      <th>RenalDiseaseIndicator</th>\n",
       "      <th>State</th>\n",
       "      <th>Country</th>\n",
       "      <th>NoOfMonths_PartACov</th>\n",
       "      <th>NoOfMonths_PartBCov</th>\n",
       "      <th>ChronicCond_Alzheimer</th>\n",
       "      <th>...</th>\n",
       "      <th>IPAnnualReimbursementAmt</th>\n",
       "      <th>IPAnnualDeductibleAmt</th>\n",
       "      <th>OPAnnualReimbursementAmt</th>\n",
       "      <th>OPAnnualDeductibleAmt</th>\n",
       "      <th>Unnamed: 24</th>\n",
       "      <th>total_claim_amount</th>\n",
       "      <th>policy_number</th>\n",
       "      <th>policy_annual_premium</th>\n",
       "      <th>policy_deductable</th>\n",
       "      <th>Amount</th>\n",
       "    </tr>\n",
       "  </thead>\n",
       "  <tbody>\n",
       "    <tr>\n",
       "      <th>0</th>\n",
       "      <td>406.0</td>\n",
       "      <td>-2.312227</td>\n",
       "      <td>1.951992</td>\n",
       "      <td>-1.609851</td>\n",
       "      <td>3.997906</td>\n",
       "      <td>-0.522188</td>\n",
       "      <td>-1.426545</td>\n",
       "      <td>-2.537387</td>\n",
       "      <td>1.391657</td>\n",
       "      <td>-2.770089</td>\n",
       "      <td>...</td>\n",
       "      <td>0.126911</td>\n",
       "      <td>0.517232</td>\n",
       "      <td>-0.035049</td>\n",
       "      <td>-0.465211</td>\n",
       "      <td>0.320198</td>\n",
       "      <td>0.044519</td>\n",
       "      <td>0.177840</td>\n",
       "      <td>0.261145</td>\n",
       "      <td>-0.143276</td>\n",
       "      <td>0.00</td>\n",
       "    </tr>\n",
       "    <tr>\n",
       "      <th>1</th>\n",
       "      <td>472.0</td>\n",
       "      <td>-3.043541</td>\n",
       "      <td>-3.157307</td>\n",
       "      <td>1.088463</td>\n",
       "      <td>2.288644</td>\n",
       "      <td>1.359805</td>\n",
       "      <td>-1.064823</td>\n",
       "      <td>0.325574</td>\n",
       "      <td>-0.067794</td>\n",
       "      <td>-0.270953</td>\n",
       "      <td>...</td>\n",
       "      <td>2.102339</td>\n",
       "      <td>0.661696</td>\n",
       "      <td>0.435477</td>\n",
       "      <td>1.375966</td>\n",
       "      <td>-0.293803</td>\n",
       "      <td>0.279798</td>\n",
       "      <td>-0.145362</td>\n",
       "      <td>-0.252773</td>\n",
       "      <td>0.035764</td>\n",
       "      <td>529.00</td>\n",
       "    </tr>\n",
       "    <tr>\n",
       "      <th>2</th>\n",
       "      <td>4462.0</td>\n",
       "      <td>-2.303350</td>\n",
       "      <td>1.759247</td>\n",
       "      <td>-0.359745</td>\n",
       "      <td>2.330243</td>\n",
       "      <td>-0.821628</td>\n",
       "      <td>-0.075788</td>\n",
       "      <td>0.562320</td>\n",
       "      <td>-0.399147</td>\n",
       "      <td>-0.238253</td>\n",
       "      <td>...</td>\n",
       "      <td>-0.430022</td>\n",
       "      <td>-0.294166</td>\n",
       "      <td>-0.932391</td>\n",
       "      <td>0.172726</td>\n",
       "      <td>-0.087330</td>\n",
       "      <td>-0.156114</td>\n",
       "      <td>-0.542628</td>\n",
       "      <td>0.039566</td>\n",
       "      <td>-0.153029</td>\n",
       "      <td>239.93</td>\n",
       "    </tr>\n",
       "    <tr>\n",
       "      <th>3</th>\n",
       "      <td>6986.0</td>\n",
       "      <td>-4.397974</td>\n",
       "      <td>1.358367</td>\n",
       "      <td>-2.592844</td>\n",
       "      <td>2.679787</td>\n",
       "      <td>-1.128131</td>\n",
       "      <td>-1.706536</td>\n",
       "      <td>-3.496197</td>\n",
       "      <td>-0.248778</td>\n",
       "      <td>-0.247768</td>\n",
       "      <td>...</td>\n",
       "      <td>-0.171608</td>\n",
       "      <td>0.573574</td>\n",
       "      <td>0.176968</td>\n",
       "      <td>-0.436207</td>\n",
       "      <td>-0.053502</td>\n",
       "      <td>0.252405</td>\n",
       "      <td>-0.657488</td>\n",
       "      <td>-0.827136</td>\n",
       "      <td>0.849573</td>\n",
       "      <td>59.00</td>\n",
       "    </tr>\n",
       "    <tr>\n",
       "      <th>4</th>\n",
       "      <td>7519.0</td>\n",
       "      <td>1.234235</td>\n",
       "      <td>3.019740</td>\n",
       "      <td>-4.304597</td>\n",
       "      <td>4.732795</td>\n",
       "      <td>3.624201</td>\n",
       "      <td>-1.357746</td>\n",
       "      <td>1.713445</td>\n",
       "      <td>-0.496358</td>\n",
       "      <td>-1.282858</td>\n",
       "      <td>...</td>\n",
       "      <td>0.009061</td>\n",
       "      <td>-0.379068</td>\n",
       "      <td>-0.704181</td>\n",
       "      <td>-0.656805</td>\n",
       "      <td>-1.632653</td>\n",
       "      <td>1.488901</td>\n",
       "      <td>0.566797</td>\n",
       "      <td>-0.010016</td>\n",
       "      <td>0.146793</td>\n",
       "      <td>1.00</td>\n",
       "    </tr>\n",
       "  </tbody>\n",
       "</table>\n",
       "<p>5 rows × 30 columns</p>\n",
       "</div>"
      ],
      "text/plain": [
       "     Time        Id    Gender      Race  RenalDiseaseIndicator     State  \\\n",
       "0   406.0 -2.312227  1.951992 -1.609851               3.997906 -0.522188   \n",
       "1   472.0 -3.043541 -3.157307  1.088463               2.288644  1.359805   \n",
       "2  4462.0 -2.303350  1.759247 -0.359745               2.330243 -0.821628   \n",
       "3  6986.0 -4.397974  1.358367 -2.592844               2.679787 -1.128131   \n",
       "4  7519.0  1.234235  3.019740 -4.304597               4.732795  3.624201   \n",
       "\n",
       "    Country  NoOfMonths_PartACov  NoOfMonths_PartBCov  ChronicCond_Alzheimer  \\\n",
       "0 -1.426545            -2.537387             1.391657              -2.770089   \n",
       "1 -1.064823             0.325574            -0.067794              -0.270953   \n",
       "2 -0.075788             0.562320            -0.399147              -0.238253   \n",
       "3 -1.706536            -3.496197            -0.248778              -0.247768   \n",
       "4 -1.357746             1.713445            -0.496358              -1.282858   \n",
       "\n",
       "   ...  IPAnnualReimbursementAmt  IPAnnualDeductibleAmt  \\\n",
       "0  ...                  0.126911               0.517232   \n",
       "1  ...                  2.102339               0.661696   \n",
       "2  ...                 -0.430022              -0.294166   \n",
       "3  ...                 -0.171608               0.573574   \n",
       "4  ...                  0.009061              -0.379068   \n",
       "\n",
       "   OPAnnualReimbursementAmt  OPAnnualDeductibleAmt  Unnamed: 24  \\\n",
       "0                 -0.035049              -0.465211     0.320198   \n",
       "1                  0.435477               1.375966    -0.293803   \n",
       "2                 -0.932391               0.172726    -0.087330   \n",
       "3                  0.176968              -0.436207    -0.053502   \n",
       "4                 -0.704181              -0.656805    -1.632653   \n",
       "\n",
       "   total_claim_amount  policy_number  policy_annual_premium  \\\n",
       "0            0.044519       0.177840               0.261145   \n",
       "1            0.279798      -0.145362              -0.252773   \n",
       "2           -0.156114      -0.542628               0.039566   \n",
       "3            0.252405      -0.657488              -0.827136   \n",
       "4            1.488901       0.566797              -0.010016   \n",
       "\n",
       "   policy_deductable  Amount  \n",
       "0          -0.143276    0.00  \n",
       "1           0.035764  529.00  \n",
       "2          -0.153029  239.93  \n",
       "3           0.849573   59.00  \n",
       "4           0.146793    1.00  \n",
       "\n",
       "[5 rows x 30 columns]"
      ]
     },
     "execution_count": 31,
     "metadata": {},
     "output_type": "execute_result"
    }
   ],
   "source": [
    "x.head()"
   ]
  },
  {
   "cell_type": "code",
   "execution_count": 32,
   "id": "c6e603bb",
   "metadata": {},
   "outputs": [],
   "source": [
    "#splitting_dataset"
   ]
  },
  {
   "cell_type": "code",
   "execution_count": 33,
   "id": "6a5c077b",
   "metadata": {},
   "outputs": [],
   "source": [
    "from sklearn.model_selection import train_test_split\n",
    "x_train, x_test, y_train, y_test = train_test_split(x, y, test_size = 0.2, random_state = 0)"
   ]
  },
  {
   "cell_type": "code",
   "execution_count": 34,
   "id": "283405bf",
   "metadata": {},
   "outputs": [
    {
     "data": {
      "text/plain": [
       "((787, 30), (197, 30))"
      ]
     },
     "execution_count": 34,
     "metadata": {},
     "output_type": "execute_result"
    }
   ],
   "source": [
    "x_train.shape, x_test.shape"
   ]
  },
  {
   "cell_type": "code",
   "execution_count": 35,
   "id": "aee09872",
   "metadata": {},
   "outputs": [],
   "source": [
    "#feature_scaling"
   ]
  },
  {
   "cell_type": "code",
   "execution_count": 36,
   "id": "4752c627",
   "metadata": {},
   "outputs": [],
   "source": [
    "from sklearn.preprocessing import StandardScaler\n",
    "sc = StandardScaler()\n",
    "x_train = sc.fit_transform(x_train)\n",
    "x_test = sc.transform(x_test)"
   ]
  },
  {
   "cell_type": "code",
   "execution_count": 37,
   "id": "96a3f4b7",
   "metadata": {},
   "outputs": [
    {
     "data": {
      "text/plain": [
       "array([[-0.85059546,  0.25104094, -0.42630969, ..., -0.17163498,\n",
       "        -0.28644962, -0.32588912],\n",
       "       [-0.83604891,  0.51417306, -0.10428063, ...,  0.45343839,\n",
       "         0.59300444, -0.42859585],\n",
       "       [-0.87350257,  0.19420188,  0.09193799, ...,  0.29679277,\n",
       "         0.45091462, -0.42757474],\n",
       "       ...,\n",
       "       [-0.761965  , -0.79412826,  1.0316074 , ..., -0.12005101,\n",
       "        -0.58470395, -0.04895536],\n",
       "       [ 0.99005936,  0.83167297, -0.5303672 , ..., -0.14945317,\n",
       "        -0.19983592, -0.42757474],\n",
       "       [ 0.86296185,  0.33010017, -0.7956609 , ..., -0.16915537,\n",
       "        -0.04998008,  0.4854685 ]])"
      ]
     },
     "execution_count": 37,
     "metadata": {},
     "output_type": "execute_result"
    }
   ],
   "source": [
    "x_train"
   ]
  },
  {
   "cell_type": "code",
   "execution_count": 38,
   "id": "fcc03a41",
   "metadata": {},
   "outputs": [],
   "source": [
    "y_train = y_train.to_numpy()\n",
    "y_test = y_test.to_numpy()"
   ]
  },
  {
   "cell_type": "code",
   "execution_count": 39,
   "id": "3a867307",
   "metadata": {},
   "outputs": [
    {
     "data": {
      "text/plain": [
       "((787, 30), (197, 30))"
      ]
     },
     "execution_count": 39,
     "metadata": {},
     "output_type": "execute_result"
    }
   ],
   "source": [
    "x_train.shape, x_test.shape"
   ]
  },
  {
   "cell_type": "code",
   "execution_count": 40,
   "id": "7d67cac9",
   "metadata": {},
   "outputs": [],
   "source": [
    "#reshaping"
   ]
  },
  {
   "cell_type": "code",
   "execution_count": 41,
   "id": "37ef3727",
   "metadata": {},
   "outputs": [],
   "source": [
    "x_train = x_train.reshape(787, 30, 1)\n",
    "x_test = x_test.reshape(197, 30, 1)"
   ]
  },
  {
   "cell_type": "code",
   "execution_count": 42,
   "id": "551ef994",
   "metadata": {},
   "outputs": [
    {
     "data": {
      "text/plain": [
       "((787, 30, 1), (197, 30, 1))"
      ]
     },
     "execution_count": 42,
     "metadata": {},
     "output_type": "execute_result"
    }
   ],
   "source": [
    "x_train.shape, x_test.shape"
   ]
  },
  {
   "cell_type": "code",
   "execution_count": 43,
   "id": "e0763d04",
   "metadata": {},
   "outputs": [],
   "source": [
    "#defining_an_object = model"
   ]
  },
  {
   "cell_type": "code",
   "execution_count": 44,
   "id": "07647917",
   "metadata": {},
   "outputs": [],
   "source": [
    "model = tf.keras.models.Sequential()"
   ]
  },
  {
   "cell_type": "code",
   "execution_count": 45,
   "id": "48f0b9d1",
   "metadata": {},
   "outputs": [],
   "source": [
    "#1st_cnn_layer"
   ]
  },
  {
   "cell_type": "code",
   "execution_count": 46,
   "id": "16507a2b",
   "metadata": {},
   "outputs": [
    {
     "name": "stderr",
     "output_type": "stream",
     "text": [
      "C:\\Users\\MADHUSUDAN\\anaconda3\\Lib\\site-packages\\keras\\src\\layers\\convolutional\\base_conv.py:107: UserWarning: Do not pass an `input_shape`/`input_dim` argument to a layer. When using Sequential models, prefer using an `Input(shape)` object as the first layer in the model instead.\n",
      "  super().__init__(activity_regularizer=activity_regularizer, **kwargs)\n"
     ]
    }
   ],
   "source": [
    "model.add(tf.keras.layers.Conv1D(filters = 32, kernel_size = 2, padding = 'same', activation = 'relu', input_shape = (30, 1)))\n",
    "\n",
    "#batch_normalization\n",
    "model.add(tf.keras.layers.BatchNormalization())\n",
    "\n",
    "#max_pool_layer\n",
    "model.add(tf.keras.layers.MaxPool1D(pool_size = 2))\n",
    "\n",
    "#dropout_layer\n",
    "model.add(tf.keras.layers.Dropout(0.2))"
   ]
  },
  {
   "cell_type": "code",
   "execution_count": 47,
   "id": "00ace0ad",
   "metadata": {},
   "outputs": [],
   "source": [
    "#2nd_cnn_layer"
   ]
  },
  {
   "cell_type": "code",
   "execution_count": 48,
   "id": "eeaf21c3",
   "metadata": {},
   "outputs": [],
   "source": [
    "model.add(tf.keras.layers.Conv1D(filters = 64, kernel_size = 2, padding = 'same', activation = 'relu'))\n",
    "\n",
    "#batch_normalization\n",
    "model.add(tf.keras.layers.BatchNormalization())\n",
    "\n",
    "#max_pool_layer\n",
    "model.add(tf.keras.layers.MaxPool1D(pool_size = 2))\n",
    "\n",
    "#dropout_layer\n",
    "model.add(tf.keras.layers.Dropout(0.3))"
   ]
  },
  {
   "cell_type": "code",
   "execution_count": 49,
   "id": "22721a68",
   "metadata": {},
   "outputs": [],
   "source": [
    "#flatten_layer"
   ]
  },
  {
   "cell_type": "code",
   "execution_count": 50,
   "id": "262348d1",
   "metadata": {},
   "outputs": [],
   "source": [
    "model.add(tf.keras.layers.Flatten())"
   ]
  },
  {
   "cell_type": "code",
   "execution_count": 51,
   "id": "17e44c78",
   "metadata": {},
   "outputs": [],
   "source": [
    "#1st_dense_layer"
   ]
  },
  {
   "cell_type": "code",
   "execution_count": 52,
   "id": "03ad080f",
   "metadata": {},
   "outputs": [],
   "source": [
    "model.add(tf.keras.layers.Dense(units = 64, activation = 'relu'))\n",
    "\n",
    "#dropout_layer\n",
    "model.add(tf.keras.layers.Dropout(0.3))"
   ]
  },
  {
   "cell_type": "code",
   "execution_count": 53,
   "id": "2525e80d",
   "metadata": {},
   "outputs": [],
   "source": [
    "#2nd_dense_layer = output_layer"
   ]
  },
  {
   "cell_type": "code",
   "execution_count": 54,
   "id": "17bb7956",
   "metadata": {},
   "outputs": [],
   "source": [
    "model.add(tf.keras.layers.Dense(units = 1, activation = 'sigmoid'))"
   ]
  },
  {
   "cell_type": "code",
   "execution_count": 55,
   "id": "fd06c0f1",
   "metadata": {},
   "outputs": [
    {
     "data": {
      "text/html": [
       "<pre style=\"white-space:pre;overflow-x:auto;line-height:normal;font-family:Menlo,'DejaVu Sans Mono',consolas,'Courier New',monospace\"><span style=\"font-weight: bold\">Model: \"sequential\"</span>\n",
       "</pre>\n"
      ],
      "text/plain": [
       "\u001b[1mModel: \"sequential\"\u001b[0m\n"
      ]
     },
     "metadata": {},
     "output_type": "display_data"
    },
    {
     "data": {
      "text/html": [
       "<pre style=\"white-space:pre;overflow-x:auto;line-height:normal;font-family:Menlo,'DejaVu Sans Mono',consolas,'Courier New',monospace\">┏━━━━━━━━━━━━━━━━━━━━━━━━━━━━━━━━━━━━━━┳━━━━━━━━━━━━━━━━━━━━━━━━━━━━━┳━━━━━━━━━━━━━━━━━┓\n",
       "┃<span style=\"font-weight: bold\"> Layer (type)                         </span>┃<span style=\"font-weight: bold\"> Output Shape                </span>┃<span style=\"font-weight: bold\">         Param # </span>┃\n",
       "┡━━━━━━━━━━━━━━━━━━━━━━━━━━━━━━━━━━━━━━╇━━━━━━━━━━━━━━━━━━━━━━━━━━━━━╇━━━━━━━━━━━━━━━━━┩\n",
       "│ conv1d (<span style=\"color: #0087ff; text-decoration-color: #0087ff\">Conv1D</span>)                      │ (<span style=\"color: #00d7ff; text-decoration-color: #00d7ff\">None</span>, <span style=\"color: #00af00; text-decoration-color: #00af00\">30</span>, <span style=\"color: #00af00; text-decoration-color: #00af00\">32</span>)              │              <span style=\"color: #00af00; text-decoration-color: #00af00\">96</span> │\n",
       "├──────────────────────────────────────┼─────────────────────────────┼─────────────────┤\n",
       "│ batch_normalization                  │ (<span style=\"color: #00d7ff; text-decoration-color: #00d7ff\">None</span>, <span style=\"color: #00af00; text-decoration-color: #00af00\">30</span>, <span style=\"color: #00af00; text-decoration-color: #00af00\">32</span>)              │             <span style=\"color: #00af00; text-decoration-color: #00af00\">128</span> │\n",
       "│ (<span style=\"color: #0087ff; text-decoration-color: #0087ff\">BatchNormalization</span>)                 │                             │                 │\n",
       "├──────────────────────────────────────┼─────────────────────────────┼─────────────────┤\n",
       "│ max_pooling1d (<span style=\"color: #0087ff; text-decoration-color: #0087ff\">MaxPooling1D</span>)         │ (<span style=\"color: #00d7ff; text-decoration-color: #00d7ff\">None</span>, <span style=\"color: #00af00; text-decoration-color: #00af00\">15</span>, <span style=\"color: #00af00; text-decoration-color: #00af00\">32</span>)              │               <span style=\"color: #00af00; text-decoration-color: #00af00\">0</span> │\n",
       "├──────────────────────────────────────┼─────────────────────────────┼─────────────────┤\n",
       "│ dropout (<span style=\"color: #0087ff; text-decoration-color: #0087ff\">Dropout</span>)                    │ (<span style=\"color: #00d7ff; text-decoration-color: #00d7ff\">None</span>, <span style=\"color: #00af00; text-decoration-color: #00af00\">15</span>, <span style=\"color: #00af00; text-decoration-color: #00af00\">32</span>)              │               <span style=\"color: #00af00; text-decoration-color: #00af00\">0</span> │\n",
       "├──────────────────────────────────────┼─────────────────────────────┼─────────────────┤\n",
       "│ conv1d_1 (<span style=\"color: #0087ff; text-decoration-color: #0087ff\">Conv1D</span>)                    │ (<span style=\"color: #00d7ff; text-decoration-color: #00d7ff\">None</span>, <span style=\"color: #00af00; text-decoration-color: #00af00\">15</span>, <span style=\"color: #00af00; text-decoration-color: #00af00\">64</span>)              │           <span style=\"color: #00af00; text-decoration-color: #00af00\">4,160</span> │\n",
       "├──────────────────────────────────────┼─────────────────────────────┼─────────────────┤\n",
       "│ batch_normalization_1                │ (<span style=\"color: #00d7ff; text-decoration-color: #00d7ff\">None</span>, <span style=\"color: #00af00; text-decoration-color: #00af00\">15</span>, <span style=\"color: #00af00; text-decoration-color: #00af00\">64</span>)              │             <span style=\"color: #00af00; text-decoration-color: #00af00\">256</span> │\n",
       "│ (<span style=\"color: #0087ff; text-decoration-color: #0087ff\">BatchNormalization</span>)                 │                             │                 │\n",
       "├──────────────────────────────────────┼─────────────────────────────┼─────────────────┤\n",
       "│ max_pooling1d_1 (<span style=\"color: #0087ff; text-decoration-color: #0087ff\">MaxPooling1D</span>)       │ (<span style=\"color: #00d7ff; text-decoration-color: #00d7ff\">None</span>, <span style=\"color: #00af00; text-decoration-color: #00af00\">7</span>, <span style=\"color: #00af00; text-decoration-color: #00af00\">64</span>)               │               <span style=\"color: #00af00; text-decoration-color: #00af00\">0</span> │\n",
       "├──────────────────────────────────────┼─────────────────────────────┼─────────────────┤\n",
       "│ dropout_1 (<span style=\"color: #0087ff; text-decoration-color: #0087ff\">Dropout</span>)                  │ (<span style=\"color: #00d7ff; text-decoration-color: #00d7ff\">None</span>, <span style=\"color: #00af00; text-decoration-color: #00af00\">7</span>, <span style=\"color: #00af00; text-decoration-color: #00af00\">64</span>)               │               <span style=\"color: #00af00; text-decoration-color: #00af00\">0</span> │\n",
       "├──────────────────────────────────────┼─────────────────────────────┼─────────────────┤\n",
       "│ flatten (<span style=\"color: #0087ff; text-decoration-color: #0087ff\">Flatten</span>)                    │ (<span style=\"color: #00d7ff; text-decoration-color: #00d7ff\">None</span>, <span style=\"color: #00af00; text-decoration-color: #00af00\">448</span>)                 │               <span style=\"color: #00af00; text-decoration-color: #00af00\">0</span> │\n",
       "├──────────────────────────────────────┼─────────────────────────────┼─────────────────┤\n",
       "│ dense (<span style=\"color: #0087ff; text-decoration-color: #0087ff\">Dense</span>)                        │ (<span style=\"color: #00d7ff; text-decoration-color: #00d7ff\">None</span>, <span style=\"color: #00af00; text-decoration-color: #00af00\">64</span>)                  │          <span style=\"color: #00af00; text-decoration-color: #00af00\">28,736</span> │\n",
       "├──────────────────────────────────────┼─────────────────────────────┼─────────────────┤\n",
       "│ dropout_2 (<span style=\"color: #0087ff; text-decoration-color: #0087ff\">Dropout</span>)                  │ (<span style=\"color: #00d7ff; text-decoration-color: #00d7ff\">None</span>, <span style=\"color: #00af00; text-decoration-color: #00af00\">64</span>)                  │               <span style=\"color: #00af00; text-decoration-color: #00af00\">0</span> │\n",
       "├──────────────────────────────────────┼─────────────────────────────┼─────────────────┤\n",
       "│ dense_1 (<span style=\"color: #0087ff; text-decoration-color: #0087ff\">Dense</span>)                      │ (<span style=\"color: #00d7ff; text-decoration-color: #00d7ff\">None</span>, <span style=\"color: #00af00; text-decoration-color: #00af00\">1</span>)                   │              <span style=\"color: #00af00; text-decoration-color: #00af00\">65</span> │\n",
       "└──────────────────────────────────────┴─────────────────────────────┴─────────────────┘\n",
       "</pre>\n"
      ],
      "text/plain": [
       "┏━━━━━━━━━━━━━━━━━━━━━━━━━━━━━━━━━━━━━━┳━━━━━━━━━━━━━━━━━━━━━━━━━━━━━┳━━━━━━━━━━━━━━━━━┓\n",
       "┃\u001b[1m \u001b[0m\u001b[1mLayer (type)                        \u001b[0m\u001b[1m \u001b[0m┃\u001b[1m \u001b[0m\u001b[1mOutput Shape               \u001b[0m\u001b[1m \u001b[0m┃\u001b[1m \u001b[0m\u001b[1m        Param #\u001b[0m\u001b[1m \u001b[0m┃\n",
       "┡━━━━━━━━━━━━━━━━━━━━━━━━━━━━━━━━━━━━━━╇━━━━━━━━━━━━━━━━━━━━━━━━━━━━━╇━━━━━━━━━━━━━━━━━┩\n",
       "│ conv1d (\u001b[38;5;33mConv1D\u001b[0m)                      │ (\u001b[38;5;45mNone\u001b[0m, \u001b[38;5;34m30\u001b[0m, \u001b[38;5;34m32\u001b[0m)              │              \u001b[38;5;34m96\u001b[0m │\n",
       "├──────────────────────────────────────┼─────────────────────────────┼─────────────────┤\n",
       "│ batch_normalization                  │ (\u001b[38;5;45mNone\u001b[0m, \u001b[38;5;34m30\u001b[0m, \u001b[38;5;34m32\u001b[0m)              │             \u001b[38;5;34m128\u001b[0m │\n",
       "│ (\u001b[38;5;33mBatchNormalization\u001b[0m)                 │                             │                 │\n",
       "├──────────────────────────────────────┼─────────────────────────────┼─────────────────┤\n",
       "│ max_pooling1d (\u001b[38;5;33mMaxPooling1D\u001b[0m)         │ (\u001b[38;5;45mNone\u001b[0m, \u001b[38;5;34m15\u001b[0m, \u001b[38;5;34m32\u001b[0m)              │               \u001b[38;5;34m0\u001b[0m │\n",
       "├──────────────────────────────────────┼─────────────────────────────┼─────────────────┤\n",
       "│ dropout (\u001b[38;5;33mDropout\u001b[0m)                    │ (\u001b[38;5;45mNone\u001b[0m, \u001b[38;5;34m15\u001b[0m, \u001b[38;5;34m32\u001b[0m)              │               \u001b[38;5;34m0\u001b[0m │\n",
       "├──────────────────────────────────────┼─────────────────────────────┼─────────────────┤\n",
       "│ conv1d_1 (\u001b[38;5;33mConv1D\u001b[0m)                    │ (\u001b[38;5;45mNone\u001b[0m, \u001b[38;5;34m15\u001b[0m, \u001b[38;5;34m64\u001b[0m)              │           \u001b[38;5;34m4,160\u001b[0m │\n",
       "├──────────────────────────────────────┼─────────────────────────────┼─────────────────┤\n",
       "│ batch_normalization_1                │ (\u001b[38;5;45mNone\u001b[0m, \u001b[38;5;34m15\u001b[0m, \u001b[38;5;34m64\u001b[0m)              │             \u001b[38;5;34m256\u001b[0m │\n",
       "│ (\u001b[38;5;33mBatchNormalization\u001b[0m)                 │                             │                 │\n",
       "├──────────────────────────────────────┼─────────────────────────────┼─────────────────┤\n",
       "│ max_pooling1d_1 (\u001b[38;5;33mMaxPooling1D\u001b[0m)       │ (\u001b[38;5;45mNone\u001b[0m, \u001b[38;5;34m7\u001b[0m, \u001b[38;5;34m64\u001b[0m)               │               \u001b[38;5;34m0\u001b[0m │\n",
       "├──────────────────────────────────────┼─────────────────────────────┼─────────────────┤\n",
       "│ dropout_1 (\u001b[38;5;33mDropout\u001b[0m)                  │ (\u001b[38;5;45mNone\u001b[0m, \u001b[38;5;34m7\u001b[0m, \u001b[38;5;34m64\u001b[0m)               │               \u001b[38;5;34m0\u001b[0m │\n",
       "├──────────────────────────────────────┼─────────────────────────────┼─────────────────┤\n",
       "│ flatten (\u001b[38;5;33mFlatten\u001b[0m)                    │ (\u001b[38;5;45mNone\u001b[0m, \u001b[38;5;34m448\u001b[0m)                 │               \u001b[38;5;34m0\u001b[0m │\n",
       "├──────────────────────────────────────┼─────────────────────────────┼─────────────────┤\n",
       "│ dense (\u001b[38;5;33mDense\u001b[0m)                        │ (\u001b[38;5;45mNone\u001b[0m, \u001b[38;5;34m64\u001b[0m)                  │          \u001b[38;5;34m28,736\u001b[0m │\n",
       "├──────────────────────────────────────┼─────────────────────────────┼─────────────────┤\n",
       "│ dropout_2 (\u001b[38;5;33mDropout\u001b[0m)                  │ (\u001b[38;5;45mNone\u001b[0m, \u001b[38;5;34m64\u001b[0m)                  │               \u001b[38;5;34m0\u001b[0m │\n",
       "├──────────────────────────────────────┼─────────────────────────────┼─────────────────┤\n",
       "│ dense_1 (\u001b[38;5;33mDense\u001b[0m)                      │ (\u001b[38;5;45mNone\u001b[0m, \u001b[38;5;34m1\u001b[0m)                   │              \u001b[38;5;34m65\u001b[0m │\n",
       "└──────────────────────────────────────┴─────────────────────────────┴─────────────────┘\n"
      ]
     },
     "metadata": {},
     "output_type": "display_data"
    },
    {
     "data": {
      "text/html": [
       "<pre style=\"white-space:pre;overflow-x:auto;line-height:normal;font-family:Menlo,'DejaVu Sans Mono',consolas,'Courier New',monospace\"><span style=\"font-weight: bold\"> Total params: </span><span style=\"color: #00af00; text-decoration-color: #00af00\">33,441</span> (130.63 KB)\n",
       "</pre>\n"
      ],
      "text/plain": [
       "\u001b[1m Total params: \u001b[0m\u001b[38;5;34m33,441\u001b[0m (130.63 KB)\n"
      ]
     },
     "metadata": {},
     "output_type": "display_data"
    },
    {
     "data": {
      "text/html": [
       "<pre style=\"white-space:pre;overflow-x:auto;line-height:normal;font-family:Menlo,'DejaVu Sans Mono',consolas,'Courier New',monospace\"><span style=\"font-weight: bold\"> Trainable params: </span><span style=\"color: #00af00; text-decoration-color: #00af00\">33,249</span> (129.88 KB)\n",
       "</pre>\n"
      ],
      "text/plain": [
       "\u001b[1m Trainable params: \u001b[0m\u001b[38;5;34m33,249\u001b[0m (129.88 KB)\n"
      ]
     },
     "metadata": {},
     "output_type": "display_data"
    },
    {
     "data": {
      "text/html": [
       "<pre style=\"white-space:pre;overflow-x:auto;line-height:normal;font-family:Menlo,'DejaVu Sans Mono',consolas,'Courier New',monospace\"><span style=\"font-weight: bold\"> Non-trainable params: </span><span style=\"color: #00af00; text-decoration-color: #00af00\">192</span> (768.00 B)\n",
       "</pre>\n"
      ],
      "text/plain": [
       "\u001b[1m Non-trainable params: \u001b[0m\u001b[38;5;34m192\u001b[0m (768.00 B)\n"
      ]
     },
     "metadata": {},
     "output_type": "display_data"
    }
   ],
   "source": [
    "model.summary()"
   ]
  },
  {
   "cell_type": "code",
   "execution_count": 56,
   "id": "bd3d6422",
   "metadata": {},
   "outputs": [],
   "source": [
    "#compiling_the_model"
   ]
  },
  {
   "cell_type": "code",
   "execution_count": 57,
   "id": "a8c64ed7",
   "metadata": {},
   "outputs": [],
   "source": [
    "opt = tf.keras.optimizers.Adam(learning_rate = 0.0001)"
   ]
  },
  {
   "cell_type": "code",
   "execution_count": 58,
   "id": "2642d02c",
   "metadata": {},
   "outputs": [],
   "source": [
    "model.compile(optimizer = opt, loss = 'binary_crossentropy', metrics = ['accuracy','precision','recall'])"
   ]
  },
  {
   "cell_type": "code",
   "execution_count": 59,
   "id": "4dddecec",
   "metadata": {},
   "outputs": [],
   "source": [
    "#training_the_model"
   ]
  },
  {
   "cell_type": "code",
   "execution_count": 60,
   "id": "ffe2bde0",
   "metadata": {},
   "outputs": [
    {
     "name": "stdout",
     "output_type": "stream",
     "text": [
      "Epoch 1/25\n",
      "\u001b[1m25/25\u001b[0m \u001b[32m━━━━━━━━━━━━━━━━━━━━\u001b[0m\u001b[37m\u001b[0m \u001b[1m6s\u001b[0m 42ms/step - accuracy: 0.5576 - loss: 0.7972 - precision: 0.5576 - recall: 0.5729 - val_accuracy: 0.6904 - val_loss: 0.6585 - val_precision: 0.6923 - val_recall: 0.5934\n",
      "Epoch 2/25\n",
      "\u001b[1m25/25\u001b[0m \u001b[32m━━━━━━━━━━━━━━━━━━━━\u001b[0m\u001b[37m\u001b[0m \u001b[1m1s\u001b[0m 12ms/step - accuracy: 0.7192 - loss: 0.5759 - precision: 0.7099 - recall: 0.7133 - val_accuracy: 0.6954 - val_loss: 0.6158 - val_precision: 0.9189 - val_recall: 0.3736\n",
      "Epoch 3/25\n",
      "\u001b[1m25/25\u001b[0m \u001b[32m━━━━━━━━━━━━━━━━━━━━\u001b[0m\u001b[37m\u001b[0m \u001b[1m0s\u001b[0m 11ms/step - accuracy: 0.7787 - loss: 0.4984 - precision: 0.7999 - recall: 0.7564 - val_accuracy: 0.6853 - val_loss: 0.5838 - val_precision: 0.9394 - val_recall: 0.3407\n",
      "Epoch 4/25\n",
      "\u001b[1m25/25\u001b[0m \u001b[32m━━━━━━━━━━━━━━━━━━━━\u001b[0m\u001b[37m\u001b[0m \u001b[1m0s\u001b[0m 11ms/step - accuracy: 0.8190 - loss: 0.4529 - precision: 0.8363 - recall: 0.7826 - val_accuracy: 0.6904 - val_loss: 0.5562 - val_precision: 0.9688 - val_recall: 0.3407\n",
      "Epoch 5/25\n",
      "\u001b[1m25/25\u001b[0m \u001b[32m━━━━━━━━━━━━━━━━━━━━\u001b[0m\u001b[37m\u001b[0m \u001b[1m0s\u001b[0m 11ms/step - accuracy: 0.8519 - loss: 0.3510 - precision: 0.9173 - recall: 0.7756 - val_accuracy: 0.7056 - val_loss: 0.5251 - val_precision: 0.9714 - val_recall: 0.3736\n",
      "Epoch 6/25\n",
      "\u001b[1m25/25\u001b[0m \u001b[32m━━━━━━━━━━━━━━━━━━━━\u001b[0m\u001b[37m\u001b[0m \u001b[1m0s\u001b[0m 11ms/step - accuracy: 0.8577 - loss: 0.3894 - precision: 0.8985 - recall: 0.8049 - val_accuracy: 0.7411 - val_loss: 0.4964 - val_precision: 0.9762 - val_recall: 0.4505\n",
      "Epoch 7/25\n",
      "\u001b[1m25/25\u001b[0m \u001b[32m━━━━━━━━━━━━━━━━━━━━\u001b[0m\u001b[37m\u001b[0m \u001b[1m0s\u001b[0m 11ms/step - accuracy: 0.8784 - loss: 0.2929 - precision: 0.9319 - recall: 0.8156 - val_accuracy: 0.7716 - val_loss: 0.4648 - val_precision: 0.9792 - val_recall: 0.5165\n",
      "Epoch 8/25\n",
      "\u001b[1m25/25\u001b[0m \u001b[32m━━━━━━━━━━━━━━━━━━━━\u001b[0m\u001b[37m\u001b[0m \u001b[1m0s\u001b[0m 12ms/step - accuracy: 0.8877 - loss: 0.2914 - precision: 0.9106 - recall: 0.8567 - val_accuracy: 0.8020 - val_loss: 0.4309 - val_precision: 0.9815 - val_recall: 0.5824\n",
      "Epoch 9/25\n",
      "\u001b[1m25/25\u001b[0m \u001b[32m━━━━━━━━━━━━━━━━━━━━\u001b[0m\u001b[37m\u001b[0m \u001b[1m0s\u001b[0m 10ms/step - accuracy: 0.8713 - loss: 0.3372 - precision: 0.9207 - recall: 0.8335 - val_accuracy: 0.8426 - val_loss: 0.3949 - val_precision: 0.9839 - val_recall: 0.6703\n",
      "Epoch 10/25\n",
      "\u001b[1m25/25\u001b[0m \u001b[32m━━━━━━━━━━━━━━━━━━━━\u001b[0m\u001b[37m\u001b[0m \u001b[1m0s\u001b[0m 11ms/step - accuracy: 0.8854 - loss: 0.2890 - precision: 0.9188 - recall: 0.8476 - val_accuracy: 0.8782 - val_loss: 0.3597 - val_precision: 0.9855 - val_recall: 0.7473\n",
      "Epoch 11/25\n",
      "\u001b[1m25/25\u001b[0m \u001b[32m━━━━━━━━━━━━━━━━━━━━\u001b[0m\u001b[37m\u001b[0m \u001b[1m0s\u001b[0m 10ms/step - accuracy: 0.8931 - loss: 0.3003 - precision: 0.9382 - recall: 0.8556 - val_accuracy: 0.8832 - val_loss: 0.3282 - val_precision: 0.9857 - val_recall: 0.7582\n",
      "Epoch 12/25\n",
      "\u001b[1m25/25\u001b[0m \u001b[32m━━━━━━━━━━━━━━━━━━━━\u001b[0m\u001b[37m\u001b[0m \u001b[1m0s\u001b[0m 11ms/step - accuracy: 0.9023 - loss: 0.2802 - precision: 0.9212 - recall: 0.8763 - val_accuracy: 0.8934 - val_loss: 0.3002 - val_precision: 0.9861 - val_recall: 0.7802\n",
      "Epoch 13/25\n",
      "\u001b[1m25/25\u001b[0m \u001b[32m━━━━━━━━━━━━━━━━━━━━\u001b[0m\u001b[37m\u001b[0m \u001b[1m0s\u001b[0m 10ms/step - accuracy: 0.9228 - loss: 0.2630 - precision: 0.9516 - recall: 0.8935 - val_accuracy: 0.9036 - val_loss: 0.2755 - val_precision: 0.9865 - val_recall: 0.8022\n",
      "Epoch 14/25\n",
      "\u001b[1m25/25\u001b[0m \u001b[32m━━━━━━━━━━━━━━━━━━━━\u001b[0m\u001b[37m\u001b[0m \u001b[1m0s\u001b[0m 11ms/step - accuracy: 0.8909 - loss: 0.2731 - precision: 0.9405 - recall: 0.8475 - val_accuracy: 0.9188 - val_loss: 0.2535 - val_precision: 0.9870 - val_recall: 0.8352\n",
      "Epoch 15/25\n",
      "\u001b[1m25/25\u001b[0m \u001b[32m━━━━━━━━━━━━━━━━━━━━\u001b[0m\u001b[37m\u001b[0m \u001b[1m0s\u001b[0m 11ms/step - accuracy: 0.9046 - loss: 0.2601 - precision: 0.9292 - recall: 0.8762 - val_accuracy: 0.9239 - val_loss: 0.2335 - val_precision: 0.9750 - val_recall: 0.8571\n",
      "Epoch 16/25\n",
      "\u001b[1m25/25\u001b[0m \u001b[32m━━━━━━━━━━━━━━━━━━━━\u001b[0m\u001b[37m\u001b[0m \u001b[1m0s\u001b[0m 9ms/step - accuracy: 0.9033 - loss: 0.2538 - precision: 0.9324 - recall: 0.8735 - val_accuracy: 0.9239 - val_loss: 0.2186 - val_precision: 0.9750 - val_recall: 0.8571\n",
      "Epoch 17/25\n",
      "\u001b[1m25/25\u001b[0m \u001b[32m━━━━━━━━━━━━━━━━━━━━\u001b[0m\u001b[37m\u001b[0m \u001b[1m0s\u001b[0m 9ms/step - accuracy: 0.9156 - loss: 0.2190 - precision: 0.9459 - recall: 0.8883 - val_accuracy: 0.9188 - val_loss: 0.2072 - val_precision: 0.9630 - val_recall: 0.8571\n",
      "Epoch 18/25\n",
      "\u001b[1m25/25\u001b[0m \u001b[32m━━━━━━━━━━━━━━━━━━━━\u001b[0m\u001b[37m\u001b[0m \u001b[1m0s\u001b[0m 10ms/step - accuracy: 0.9225 - loss: 0.2094 - precision: 0.9446 - recall: 0.8955 - val_accuracy: 0.9391 - val_loss: 0.1976 - val_precision: 0.9759 - val_recall: 0.8901\n",
      "Epoch 19/25\n",
      "\u001b[1m25/25\u001b[0m \u001b[32m━━━━━━━━━━━━━━━━━━━━\u001b[0m\u001b[37m\u001b[0m \u001b[1m0s\u001b[0m 10ms/step - accuracy: 0.9096 - loss: 0.2658 - precision: 0.9401 - recall: 0.8851 - val_accuracy: 0.9391 - val_loss: 0.1888 - val_precision: 0.9759 - val_recall: 0.8901\n",
      "Epoch 20/25\n",
      "\u001b[1m25/25\u001b[0m \u001b[32m━━━━━━━━━━━━━━━━━━━━\u001b[0m\u001b[37m\u001b[0m \u001b[1m0s\u001b[0m 9ms/step - accuracy: 0.8977 - loss: 0.2549 - precision: 0.9316 - recall: 0.8678 - val_accuracy: 0.9442 - val_loss: 0.1827 - val_precision: 0.9762 - val_recall: 0.9011\n",
      "Epoch 21/25\n",
      "\u001b[1m25/25\u001b[0m \u001b[32m━━━━━━━━━━━━━━━━━━━━\u001b[0m\u001b[37m\u001b[0m \u001b[1m0s\u001b[0m 10ms/step - accuracy: 0.9168 - loss: 0.2440 - precision: 0.9323 - recall: 0.8965 - val_accuracy: 0.9492 - val_loss: 0.1773 - val_precision: 0.9765 - val_recall: 0.9121\n",
      "Epoch 22/25\n",
      "\u001b[1m25/25\u001b[0m \u001b[32m━━━━━━━━━━━━━━━━━━━━\u001b[0m\u001b[37m\u001b[0m \u001b[1m0s\u001b[0m 10ms/step - accuracy: 0.8997 - loss: 0.2503 - precision: 0.9268 - recall: 0.8662 - val_accuracy: 0.9442 - val_loss: 0.1736 - val_precision: 0.9651 - val_recall: 0.9121\n",
      "Epoch 23/25\n",
      "\u001b[1m25/25\u001b[0m \u001b[32m━━━━━━━━━━━━━━━━━━━━\u001b[0m\u001b[37m\u001b[0m \u001b[1m0s\u001b[0m 11ms/step - accuracy: 0.9123 - loss: 0.2403 - precision: 0.9541 - recall: 0.8745 - val_accuracy: 0.9543 - val_loss: 0.1690 - val_precision: 0.9881 - val_recall: 0.9121\n",
      "Epoch 24/25\n",
      "\u001b[1m25/25\u001b[0m \u001b[32m━━━━━━━━━━━━━━━━━━━━\u001b[0m\u001b[37m\u001b[0m \u001b[1m0s\u001b[0m 8ms/step - accuracy: 0.9140 - loss: 0.2341 - precision: 0.9434 - recall: 0.8843 - val_accuracy: 0.9492 - val_loss: 0.1665 - val_precision: 0.9765 - val_recall: 0.9121\n",
      "Epoch 25/25\n",
      "\u001b[1m25/25\u001b[0m \u001b[32m━━━━━━━━━━━━━━━━━━━━\u001b[0m\u001b[37m\u001b[0m \u001b[1m0s\u001b[0m 7ms/step - accuracy: 0.9310 - loss: 0.2066 - precision: 0.9456 - recall: 0.9133 - val_accuracy: 0.9492 - val_loss: 0.1639 - val_precision: 0.9765 - val_recall: 0.9121\n"
     ]
    }
   ],
   "source": [
    "history = model.fit(x_train, y_train, epochs = 25, validation_data = (x_test, y_test))"
   ]
  },
  {
   "cell_type": "code",
   "execution_count": 61,
   "id": "909d91da",
   "metadata": {},
   "outputs": [],
   "source": [
    "#model_predictions"
   ]
  },
  {
   "cell_type": "code",
   "execution_count": 62,
   "id": "225af90a",
   "metadata": {
    "scrolled": true
   },
   "outputs": [
    {
     "name": "stdout",
     "output_type": "stream",
     "text": [
      "\u001b[1m7/7\u001b[0m \u001b[32m━━━━━━━━━━━━━━━━━━━━\u001b[0m\u001b[37m\u001b[0m \u001b[1m0s\u001b[0m 28ms/step\n"
     ]
    }
   ],
   "source": [
    "predictions = model.predict(x_test)\n",
    "y_pred = np.argmax(predictions, axis=1)"
   ]
  },
  {
   "cell_type": "code",
   "execution_count": 63,
   "id": "0df0453b",
   "metadata": {},
   "outputs": [
    {
     "data": {
      "image/png": "[encoded data removed]",
      "text/plain": [
       "<Figure size 640x480 with 1 Axes>"
      ]
     },
     "metadata": {},
     "output_type": "display_data"
    }
   ],
   "source": [
    "plt.plot(history.history['val_loss'])\n",
    "plt.show()"
   ]
  },
  {
   "cell_type": "code",
   "execution_count": 64,
   "id": "9f5d2474",
   "metadata": {},
   "outputs": [
    {
     "data": {
      "image/png": "[encoded data removed]",
      "text/plain": [
       "<Figure size 640x480 with 1 Axes>"
      ]
     },
     "metadata": {},
     "output_type": "display_data"
    }
   ],
   "source": [
    "plt.plot(history.history['val_accuracy'])\n",
    "plt.show()"
   ]
  },
  {
   "cell_type": "code",
   "execution_count": 65,
   "id": "be74c4c0",
   "metadata": {},
   "outputs": [],
   "source": [
    "#calculations"
   ]
  },
  {
   "cell_type": "code",
   "execution_count": 66,
   "id": "b8dcdbf9",
   "metadata": {},
   "outputs": [
    {
     "name": "stdout",
     "output_type": "stream",
     "text": [
      "Confusion Matrix : \n",
      "[[106   0]\n",
      " [ 91   0]]\n",
      "Accuracy Score :  0.5380710659898477\n",
      "Precision Score :  0.28952047205545106\n",
      "Recall Score :  0.5380710659898477\n"
     ]
    },
    {
     "name": "stderr",
     "output_type": "stream",
     "text": [
      "C:\\Users\\MADHUSUDAN\\anaconda3\\Lib\\site-packages\\sklearn\\metrics\\_classification.py:1469: UndefinedMetricWarning: Precision is ill-defined and being set to 0.0 in labels with no predicted samples. Use `zero_division` parameter to control this behavior.\n",
      "  _warn_prf(average, modifier, msg_start, len(result))\n"
     ]
    }
   ],
   "source": [
    "cm = confusion_matrix(y_test, y_pred)\n",
    "accuracy = accuracy_score(y_test, y_pred)\n",
    "precision = precision_score(y_test, y_pred, average='weighted')\n",
    "recall = recall_score(y_test, y_pred, average='weighted')\n",
    "print(\"Confusion Matrix : \")\n",
    "print(cm)\n",
    "print(\"Accuracy Score : \",accuracy)\n",
    "print(\"Precision Score : \",precision)\n",
    "print(\"Recall Score : \",recall)"
   ]
  },
  {
   "cell_type": "code",
   "execution_count": 67,
   "id": "16529e3d",
   "metadata": {},
   "outputs": [],
   "source": [
    "#learning_curve"
   ]
  },
  {
   "cell_type": "code",
   "execution_count": 68,
   "id": "3864915f",
   "metadata": {},
   "outputs": [],
   "source": [
    "def learning_curve(history, epoch):    \n",
    "    epoch_range = range(1, epoch+1)    \n",
    "# Plotting Model Accuracy\n",
    "    plt.plot(epoch_range, history.history['accuracy'])\n",
    "    plt.plot(epoch_range, history.history['val_accuracy'])\n",
    "    plt.title('Model Accuracy')\n",
    "    plt.xlabel('Epoch')\n",
    "    plt.ylabel('Accuracy')\n",
    "    plt.legend(['Train', 'Val'], loc='upper left')\n",
    "    plt.show()    \n",
    "# Plotting Model Loss\n",
    "    plt.plot(epoch_range, history.history['loss'])\n",
    "    plt.plot(epoch_range, history.history['val_loss'])\n",
    "    plt.title('Model Loss')\n",
    "    plt.xlabel('Epoch')\n",
    "    plt.ylabel('Loss')\n",
    "    plt.legend(['Train', 'Val'], loc='upper left')\n",
    "    plt.show()\n",
    "# Plotting Precision\n",
    "    plt.plot(epoch_range, history.history['precision'])\n",
    "    plt.plot(epoch_range, history.history['val_precision'])\n",
    "    plt.title('Model Precision')\n",
    "    plt.xlabel('Epoch')\n",
    "    plt.ylabel('Precision')\n",
    "    plt.legend(['Train', 'Val'], loc='upper left')\n",
    "    plt.show()\n",
    "# Plotting Recall\n",
    "    plt.plot(epoch_range, history.history['recall'])\n",
    "    plt.plot(epoch_range, history.history['val_recall'])\n",
    "    plt.title('Model Recall')\n",
    "    plt.xlabel('Epoch')\n",
    "    plt.ylabel('Recall')\n",
    "    plt.legend(['Train', 'Val'], loc='upper left')\n",
    "    plt.show()"
   ]
  },
  {
   "cell_type": "code",
   "execution_count": 70,
   "id": "5c7f4f6a",
   "metadata": {},
   "outputs": [
    {
     "data": {
      "image/png": "[encoded data removed]",
      "text/plain": [
       "<Figure size 640x480 with 1 Axes>"
      ]
     },
     "metadata": {},
     "output_type": "display_data"
    },
    {
     "data": {
      "image/png": "[encoded data removed]",
      "text/plain": [
       "<Figure size 640x480 with 1 Axes>"
      ]
     },
     "metadata": {},
     "output_type": "display_data"
    },
    {
     "data": {
      "image/png": "[encoded data removed]",
      "text/plain": [
       "<Figure size 640x480 with 1 Axes>"
      ]
     },
     "metadata": {},
     "output_type": "display_data"
    },
    {
     "data": {
      "image/png": "[encoded data removed]",
      "text/plain": [
       "<Figure size 640x480 with 1 Axes>"
      ]
     },
     "metadata": {},
     "output_type": "display_data"
    }
   ],
   "source": [
    "learning_curve(history, 25)"
   ]
  },
  {
   "cell_type": "code",
   "execution_count": null,
   "id": "0b3438d3",
   "metadata": {},
   "outputs": [],
   "source": []
  }
 ],
 "metadata": {
  "kernelspec": {
   "display_name": "Python 3 (ipykernel)",
   "language": "python",
   "name": "python3"
  },
  "language_info": {
   "codemirror_mode": {
    "name": "ipython",
    "version": 3
   },
   "file_extension": ".py",
   "mimetype": "text/x-python",
   "name": "python",
   "nbconvert_exporter": "python",
   "pygments_lexer": "ipython3",
   "version": "3.11.4"
  }
 },
 "nbformat": 4,
 "nbformat_minor": 5
}
