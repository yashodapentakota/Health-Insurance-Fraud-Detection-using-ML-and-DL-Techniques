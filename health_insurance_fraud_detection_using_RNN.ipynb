{
 "cells": [
  {
   "cell_type": "code",
   "execution_count": 1,
   "id": "0b294628",
   "metadata": {},
   "outputs": [],
   "source": [
    "#installing & set up"
   ]
  },
  {
   "cell_type": "code",
   "execution_count": 2,
   "id": "e9ee98b2",
   "metadata": {},
   "outputs": [
    {
     "name": "stdout",
     "output_type": "stream",
     "text": [
      "Requirement already satisfied: tensorflow in c:\\users\\madhusudan\\anaconda3\\lib\\site-packages (2.16.1)\n",
      "Requirement already satisfied: tensorflow-intel==2.16.1 in c:\\users\\madhusudan\\anaconda3\\lib\\site-packages (from tensorflow) (2.16.1)\n",
      "Requirement already satisfied: absl-py>=1.0.0 in c:\\users\\madhusudan\\anaconda3\\lib\\site-packages (from tensorflow-intel==2.16.1->tensorflow) (2.1.0)\n",
      "Requirement already satisfied: astunparse>=1.6.0 in c:\\users\\madhusudan\\anaconda3\\lib\\site-packages (from tensorflow-intel==2.16.1->tensorflow) (1.6.3)\n",
      "Requirement already satisfied: flatbuffers>=23.5.26 in c:\\users\\madhusudan\\anaconda3\\lib\\site-packages (from tensorflow-intel==2.16.1->tensorflow) (24.3.25)\n",
      "Requirement already satisfied: gast!=0.5.0,!=0.5.1,!=0.5.2,>=0.2.1 in c:\\users\\madhusudan\\anaconda3\\lib\\site-packages (from tensorflow-intel==2.16.1->tensorflow) (0.5.4)\n",
      "Requirement already satisfied: google-pasta>=0.1.1 in c:\\users\\madhusudan\\anaconda3\\lib\\site-packages (from tensorflow-intel==2.16.1->tensorflow) (0.2.0)\n",
      "Requirement already satisfied: h5py>=3.10.0 in c:\\users\\madhusudan\\anaconda3\\lib\\site-packages (from tensorflow-intel==2.16.1->tensorflow) (3.11.0)\n",
      "Requirement already satisfied: libclang>=13.0.0 in c:\\users\\madhusudan\\anaconda3\\lib\\site-packages (from tensorflow-intel==2.16.1->tensorflow) (18.1.1)\n",
      "Requirement already satisfied: ml-dtypes~=0.3.1 in c:\\users\\madhusudan\\anaconda3\\lib\\site-packages (from tensorflow-intel==2.16.1->tensorflow) (0.3.2)\n",
      "Requirement already satisfied: opt-einsum>=2.3.2 in c:\\users\\madhusudan\\anaconda3\\lib\\site-packages (from tensorflow-intel==2.16.1->tensorflow) (3.3.0)\n",
      "Requirement already satisfied: packaging in c:\\users\\madhusudan\\anaconda3\\lib\\site-packages (from tensorflow-intel==2.16.1->tensorflow) (23.0)\n",
      "Requirement already satisfied: protobuf!=4.21.0,!=4.21.1,!=4.21.2,!=4.21.3,!=4.21.4,!=4.21.5,<5.0.0dev,>=3.20.3 in c:\\users\\madhusudan\\anaconda3\\lib\\site-packages (from tensorflow-intel==2.16.1->tensorflow) (4.25.3)\n",
      "Requirement already satisfied: requests<3,>=2.21.0 in c:\\users\\madhusudan\\anaconda3\\lib\\site-packages (from tensorflow-intel==2.16.1->tensorflow) (2.31.0)\n",
      "Requirement already satisfied: setuptools in c:\\users\\madhusudan\\anaconda3\\lib\\site-packages (from tensorflow-intel==2.16.1->tensorflow) (68.0.0)\n",
      "Requirement already satisfied: six>=1.12.0 in c:\\users\\madhusudan\\anaconda3\\lib\\site-packages (from tensorflow-intel==2.16.1->tensorflow) (1.16.0)\n",
      "Requirement already satisfied: termcolor>=1.1.0 in c:\\users\\madhusudan\\anaconda3\\lib\\site-packages (from tensorflow-intel==2.16.1->tensorflow) (2.4.0)\n",
      "Requirement already satisfied: typing-extensions>=3.6.6 in c:\\users\\madhusudan\\anaconda3\\lib\\site-packages (from tensorflow-intel==2.16.1->tensorflow) (4.7.1)\n",
      "Requirement already satisfied: wrapt>=1.11.0 in c:\\users\\madhusudan\\anaconda3\\lib\\site-packages (from tensorflow-intel==2.16.1->tensorflow) (1.14.1)\n",
      "Requirement already satisfied: grpcio<2.0,>=1.24.3 in c:\\users\\madhusudan\\anaconda3\\lib\\site-packages (from tensorflow-intel==2.16.1->tensorflow) (1.64.0)\n",
      "Requirement already satisfied: tensorboard<2.17,>=2.16 in c:\\users\\madhusudan\\anaconda3\\lib\\site-packages (from tensorflow-intel==2.16.1->tensorflow) (2.16.2)\n",
      "Requirement already satisfied: keras>=3.0.0 in c:\\users\\madhusudan\\anaconda3\\lib\\site-packages (from tensorflow-intel==2.16.1->tensorflow) (3.3.3)\n",
      "Requirement already satisfied: tensorflow-io-gcs-filesystem>=0.23.1 in c:\\users\\madhusudan\\anaconda3\\lib\\site-packages (from tensorflow-intel==2.16.1->tensorflow) (0.31.0)\n",
      "Requirement already satisfied: numpy<2.0.0,>=1.23.5 in c:\\users\\madhusudan\\anaconda3\\lib\\site-packages (from tensorflow-intel==2.16.1->tensorflow) (1.24.3)\n",
      "Requirement already satisfied: wheel<1.0,>=0.23.0 in c:\\users\\madhusudan\\anaconda3\\lib\\site-packages (from astunparse>=1.6.0->tensorflow-intel==2.16.1->tensorflow) (0.38.4)\n",
      "Requirement already satisfied: rich in c:\\users\\madhusudan\\anaconda3\\lib\\site-packages (from keras>=3.0.0->tensorflow-intel==2.16.1->tensorflow) (13.7.1)\n",
      "Requirement already satisfied: namex in c:\\users\\madhusudan\\anaconda3\\lib\\site-packages (from keras>=3.0.0->tensorflow-intel==2.16.1->tensorflow) (0.0.8)\n",
      "Requirement already satisfied: optree in c:\\users\\madhusudan\\anaconda3\\lib\\site-packages (from keras>=3.0.0->tensorflow-intel==2.16.1->tensorflow) (0.11.0)\n",
      "Requirement already satisfied: charset-normalizer<4,>=2 in c:\\users\\madhusudan\\anaconda3\\lib\\site-packages (from requests<3,>=2.21.0->tensorflow-intel==2.16.1->tensorflow) (2.0.4)\n",
      "Requirement already satisfied: idna<4,>=2.5 in c:\\users\\madhusudan\\anaconda3\\lib\\site-packages (from requests<3,>=2.21.0->tensorflow-intel==2.16.1->tensorflow) (3.4)\n",
      "Requirement already satisfied: urllib3<3,>=1.21.1 in c:\\users\\madhusudan\\anaconda3\\lib\\site-packages (from requests<3,>=2.21.0->tensorflow-intel==2.16.1->tensorflow) (1.26.16)\n",
      "Requirement already satisfied: certifi>=2017.4.17 in c:\\users\\madhusudan\\anaconda3\\lib\\site-packages (from requests<3,>=2.21.0->tensorflow-intel==2.16.1->tensorflow) (2023.11.17)\n",
      "Requirement already satisfied: markdown>=2.6.8 in c:\\users\\madhusudan\\anaconda3\\lib\\site-packages (from tensorboard<2.17,>=2.16->tensorflow-intel==2.16.1->tensorflow) (3.4.1)\n",
      "Requirement already satisfied: tensorboard-data-server<0.8.0,>=0.7.0 in c:\\users\\madhusudan\\anaconda3\\lib\\site-packages (from tensorboard<2.17,>=2.16->tensorflow-intel==2.16.1->tensorflow) (0.7.2)\n",
      "Requirement already satisfied: werkzeug>=1.0.1 in c:\\users\\madhusudan\\anaconda3\\lib\\site-packages (from tensorboard<2.17,>=2.16->tensorflow-intel==2.16.1->tensorflow) (2.2.3)\n",
      "Requirement already satisfied: MarkupSafe>=2.1.1 in c:\\users\\madhusudan\\anaconda3\\lib\\site-packages (from werkzeug>=1.0.1->tensorboard<2.17,>=2.16->tensorflow-intel==2.16.1->tensorflow) (2.1.1)\n",
      "Requirement already satisfied: markdown-it-py>=2.2.0 in c:\\users\\madhusudan\\anaconda3\\lib\\site-packages (from rich->keras>=3.0.0->tensorflow-intel==2.16.1->tensorflow) (2.2.0)\n",
      "Requirement already satisfied: pygments<3.0.0,>=2.13.0 in c:\\users\\madhusudan\\anaconda3\\lib\\site-packages (from rich->keras>=3.0.0->tensorflow-intel==2.16.1->tensorflow) (2.15.1)\n",
      "Requirement already satisfied: mdurl~=0.1 in c:\\users\\madhusudan\\anaconda3\\lib\\site-packages (from markdown-it-py>=2.2.0->rich->keras>=3.0.0->tensorflow-intel==2.16.1->tensorflow) (0.1.0)\n",
      "Note: you may need to restart the kernel to use updated packages.\n"
     ]
    }
   ],
   "source": [
    "pip install tensorflow"
   ]
  },
  {
   "cell_type": "code",
   "execution_count": 1,
   "id": "b9921498",
   "metadata": {},
   "outputs": [],
   "source": [
    "import tensorflow as tf\n",
    "from keras.models import Sequential\n",
    "from keras.layers import Dense\n",
    "from keras.layers import LSTM\n",
    "from sklearn.model_selection import train_test_split\n",
    "from sklearn.metrics import confusion_matrix, accuracy_score, precision_score, recall_score"
   ]
  },
  {
   "cell_type": "code",
   "execution_count": 2,
   "id": "b134ec2e",
   "metadata": {},
   "outputs": [
    {
     "name": "stdout",
     "output_type": "stream",
     "text": [
      "2.16.1\n"
     ]
    }
   ],
   "source": [
    "print(tf.__version__)"
   ]
  },
  {
   "cell_type": "code",
   "execution_count": 3,
   "id": "45cb15f1",
   "metadata": {},
   "outputs": [],
   "source": [
    "#importing libraries"
   ]
  },
  {
   "cell_type": "code",
   "execution_count": 4,
   "id": "6dfdcaa1",
   "metadata": {},
   "outputs": [],
   "source": [
    "import numpy as np\n",
    "import pandas as pd\n",
    "import matplotlib.pyplot as plt\n",
    "%matplotlib inline"
   ]
  },
  {
   "cell_type": "code",
   "execution_count": 5,
   "id": "0748243b",
   "metadata": {},
   "outputs": [],
   "source": [
    "#loading the dataset"
   ]
  },
  {
   "cell_type": "code",
   "execution_count": 6,
   "id": "45fe639e",
   "metadata": {},
   "outputs": [
    {
     "data": {
      "text/html": [
       "<div>\n",
       "<style scoped>\n",
       "    .dataframe tbody tr th:only-of-type {\n",
       "        vertical-align: middle;\n",
       "    }\n",
       "\n",
       "    .dataframe tbody tr th {\n",
       "        vertical-align: top;\n",
       "    }\n",
       "\n",
       "    .dataframe thead th {\n",
       "        text-align: right;\n",
       "    }\n",
       "</style>\n",
       "<table border=\"1\" class=\"dataframe\">\n",
       "  <thead>\n",
       "    <tr style=\"text-align: right;\">\n",
       "      <th></th>\n",
       "      <th>Time</th>\n",
       "      <th>Id</th>\n",
       "      <th>Gender</th>\n",
       "      <th>Race</th>\n",
       "      <th>RenalDiseaseIndicator</th>\n",
       "      <th>State</th>\n",
       "      <th>Country</th>\n",
       "      <th>NoOfMonths_PartACov</th>\n",
       "      <th>NoOfMonths_PartBCov</th>\n",
       "      <th>ChronicCond_Alzheimer</th>\n",
       "      <th>...</th>\n",
       "      <th>IPAnnualDeductibleAmt</th>\n",
       "      <th>OPAnnualReimbursementAmt</th>\n",
       "      <th>OPAnnualDeductibleAmt</th>\n",
       "      <th>Unnamed: 24</th>\n",
       "      <th>total_claim_amount</th>\n",
       "      <th>policy_number</th>\n",
       "      <th>policy_annual_premium</th>\n",
       "      <th>policy_deductable</th>\n",
       "      <th>Amount</th>\n",
       "      <th>Class</th>\n",
       "    </tr>\n",
       "  </thead>\n",
       "  <tbody>\n",
       "    <tr>\n",
       "      <th>0</th>\n",
       "      <td>0.0</td>\n",
       "      <td>-1.359807</td>\n",
       "      <td>-0.072781</td>\n",
       "      <td>2.536347</td>\n",
       "      <td>1.378155</td>\n",
       "      <td>-0.338321</td>\n",
       "      <td>0.462388</td>\n",
       "      <td>0.239599</td>\n",
       "      <td>0.098698</td>\n",
       "      <td>0.363787</td>\n",
       "      <td>...</td>\n",
       "      <td>-0.018307</td>\n",
       "      <td>0.277838</td>\n",
       "      <td>-0.110474</td>\n",
       "      <td>0.066928</td>\n",
       "      <td>0.128539</td>\n",
       "      <td>-0.189115</td>\n",
       "      <td>0.133558</td>\n",
       "      <td>-0.021053</td>\n",
       "      <td>149.62</td>\n",
       "      <td>0</td>\n",
       "    </tr>\n",
       "    <tr>\n",
       "      <th>1</th>\n",
       "      <td>0.0</td>\n",
       "      <td>1.191857</td>\n",
       "      <td>0.266151</td>\n",
       "      <td>0.166480</td>\n",
       "      <td>0.448154</td>\n",
       "      <td>0.060018</td>\n",
       "      <td>-0.082361</td>\n",
       "      <td>-0.078803</td>\n",
       "      <td>0.085102</td>\n",
       "      <td>-0.255425</td>\n",
       "      <td>...</td>\n",
       "      <td>-0.225775</td>\n",
       "      <td>-0.638672</td>\n",
       "      <td>0.101288</td>\n",
       "      <td>-0.339846</td>\n",
       "      <td>0.167170</td>\n",
       "      <td>0.125895</td>\n",
       "      <td>-0.008983</td>\n",
       "      <td>0.014724</td>\n",
       "      <td>2.69</td>\n",
       "      <td>0</td>\n",
       "    </tr>\n",
       "    <tr>\n",
       "      <th>2</th>\n",
       "      <td>1.0</td>\n",
       "      <td>-1.358354</td>\n",
       "      <td>-1.340163</td>\n",
       "      <td>1.773209</td>\n",
       "      <td>0.379780</td>\n",
       "      <td>-0.503198</td>\n",
       "      <td>1.800499</td>\n",
       "      <td>0.791461</td>\n",
       "      <td>0.247676</td>\n",
       "      <td>-1.514654</td>\n",
       "      <td>...</td>\n",
       "      <td>0.247998</td>\n",
       "      <td>0.771679</td>\n",
       "      <td>0.909412</td>\n",
       "      <td>-0.689281</td>\n",
       "      <td>-0.327642</td>\n",
       "      <td>-0.139097</td>\n",
       "      <td>-0.055353</td>\n",
       "      <td>-0.059752</td>\n",
       "      <td>378.66</td>\n",
       "      <td>0</td>\n",
       "    </tr>\n",
       "    <tr>\n",
       "      <th>3</th>\n",
       "      <td>1.0</td>\n",
       "      <td>-0.966272</td>\n",
       "      <td>-0.185226</td>\n",
       "      <td>1.792993</td>\n",
       "      <td>-0.863291</td>\n",
       "      <td>-0.010309</td>\n",
       "      <td>1.247203</td>\n",
       "      <td>0.237609</td>\n",
       "      <td>0.377436</td>\n",
       "      <td>-1.387024</td>\n",
       "      <td>...</td>\n",
       "      <td>-0.108300</td>\n",
       "      <td>0.005274</td>\n",
       "      <td>-0.190321</td>\n",
       "      <td>-1.175575</td>\n",
       "      <td>0.647376</td>\n",
       "      <td>-0.221929</td>\n",
       "      <td>0.062723</td>\n",
       "      <td>0.061458</td>\n",
       "      <td>123.50</td>\n",
       "      <td>0</td>\n",
       "    </tr>\n",
       "    <tr>\n",
       "      <th>4</th>\n",
       "      <td>2.0</td>\n",
       "      <td>-1.158233</td>\n",
       "      <td>0.877737</td>\n",
       "      <td>1.548718</td>\n",
       "      <td>0.403034</td>\n",
       "      <td>-0.407193</td>\n",
       "      <td>0.095921</td>\n",
       "      <td>0.592941</td>\n",
       "      <td>-0.270533</td>\n",
       "      <td>0.817739</td>\n",
       "      <td>...</td>\n",
       "      <td>-0.009431</td>\n",
       "      <td>0.798278</td>\n",
       "      <td>-0.137458</td>\n",
       "      <td>0.141267</td>\n",
       "      <td>-0.206010</td>\n",
       "      <td>0.502292</td>\n",
       "      <td>0.219422</td>\n",
       "      <td>0.215153</td>\n",
       "      <td>69.99</td>\n",
       "      <td>0</td>\n",
       "    </tr>\n",
       "    <tr>\n",
       "      <th>...</th>\n",
       "      <td>...</td>\n",
       "      <td>...</td>\n",
       "      <td>...</td>\n",
       "      <td>...</td>\n",
       "      <td>...</td>\n",
       "      <td>...</td>\n",
       "      <td>...</td>\n",
       "      <td>...</td>\n",
       "      <td>...</td>\n",
       "      <td>...</td>\n",
       "      <td>...</td>\n",
       "      <td>...</td>\n",
       "      <td>...</td>\n",
       "      <td>...</td>\n",
       "      <td>...</td>\n",
       "      <td>...</td>\n",
       "      <td>...</td>\n",
       "      <td>...</td>\n",
       "      <td>...</td>\n",
       "      <td>...</td>\n",
       "      <td>...</td>\n",
       "    </tr>\n",
       "    <tr>\n",
       "      <th>284802</th>\n",
       "      <td>172786.0</td>\n",
       "      <td>-11.881118</td>\n",
       "      <td>10.071785</td>\n",
       "      <td>-9.834783</td>\n",
       "      <td>-2.066656</td>\n",
       "      <td>-5.364473</td>\n",
       "      <td>-2.606837</td>\n",
       "      <td>-4.918215</td>\n",
       "      <td>7.305334</td>\n",
       "      <td>1.914428</td>\n",
       "      <td>...</td>\n",
       "      <td>0.213454</td>\n",
       "      <td>0.111864</td>\n",
       "      <td>1.014480</td>\n",
       "      <td>-0.509348</td>\n",
       "      <td>1.436807</td>\n",
       "      <td>0.250034</td>\n",
       "      <td>0.943651</td>\n",
       "      <td>0.823731</td>\n",
       "      <td>0.77</td>\n",
       "      <td>0</td>\n",
       "    </tr>\n",
       "    <tr>\n",
       "      <th>284803</th>\n",
       "      <td>172787.0</td>\n",
       "      <td>-0.732789</td>\n",
       "      <td>-0.055080</td>\n",
       "      <td>2.035030</td>\n",
       "      <td>-0.738589</td>\n",
       "      <td>0.868229</td>\n",
       "      <td>1.058415</td>\n",
       "      <td>0.024330</td>\n",
       "      <td>0.294869</td>\n",
       "      <td>0.584800</td>\n",
       "      <td>...</td>\n",
       "      <td>0.214205</td>\n",
       "      <td>0.924384</td>\n",
       "      <td>0.012463</td>\n",
       "      <td>-1.016226</td>\n",
       "      <td>-0.606624</td>\n",
       "      <td>-0.395255</td>\n",
       "      <td>0.068472</td>\n",
       "      <td>-0.053527</td>\n",
       "      <td>24.79</td>\n",
       "      <td>0</td>\n",
       "    </tr>\n",
       "    <tr>\n",
       "      <th>284804</th>\n",
       "      <td>172788.0</td>\n",
       "      <td>1.919565</td>\n",
       "      <td>-0.301254</td>\n",
       "      <td>-3.249640</td>\n",
       "      <td>-0.557828</td>\n",
       "      <td>2.630515</td>\n",
       "      <td>3.031260</td>\n",
       "      <td>-0.296827</td>\n",
       "      <td>0.708417</td>\n",
       "      <td>0.432454</td>\n",
       "      <td>...</td>\n",
       "      <td>0.232045</td>\n",
       "      <td>0.578229</td>\n",
       "      <td>-0.037501</td>\n",
       "      <td>0.640134</td>\n",
       "      <td>0.265745</td>\n",
       "      <td>-0.087371</td>\n",
       "      <td>0.004455</td>\n",
       "      <td>-0.026561</td>\n",
       "      <td>67.88</td>\n",
       "      <td>0</td>\n",
       "    </tr>\n",
       "    <tr>\n",
       "      <th>284805</th>\n",
       "      <td>172788.0</td>\n",
       "      <td>-0.240440</td>\n",
       "      <td>0.530483</td>\n",
       "      <td>0.702510</td>\n",
       "      <td>0.689799</td>\n",
       "      <td>-0.377961</td>\n",
       "      <td>0.623708</td>\n",
       "      <td>-0.686180</td>\n",
       "      <td>0.679145</td>\n",
       "      <td>0.392087</td>\n",
       "      <td>...</td>\n",
       "      <td>0.265245</td>\n",
       "      <td>0.800049</td>\n",
       "      <td>-0.163298</td>\n",
       "      <td>0.123205</td>\n",
       "      <td>-0.569159</td>\n",
       "      <td>0.546668</td>\n",
       "      <td>0.108821</td>\n",
       "      <td>0.104533</td>\n",
       "      <td>10.00</td>\n",
       "      <td>0</td>\n",
       "    </tr>\n",
       "    <tr>\n",
       "      <th>284806</th>\n",
       "      <td>172792.0</td>\n",
       "      <td>-0.533413</td>\n",
       "      <td>-0.189733</td>\n",
       "      <td>0.703337</td>\n",
       "      <td>-0.506271</td>\n",
       "      <td>-0.012546</td>\n",
       "      <td>-0.649617</td>\n",
       "      <td>1.577006</td>\n",
       "      <td>-0.414650</td>\n",
       "      <td>0.486180</td>\n",
       "      <td>...</td>\n",
       "      <td>0.261057</td>\n",
       "      <td>0.643078</td>\n",
       "      <td>0.376777</td>\n",
       "      <td>0.008797</td>\n",
       "      <td>-0.473649</td>\n",
       "      <td>-0.818267</td>\n",
       "      <td>-0.002415</td>\n",
       "      <td>0.013649</td>\n",
       "      <td>217.00</td>\n",
       "      <td>0</td>\n",
       "    </tr>\n",
       "  </tbody>\n",
       "</table>\n",
       "<p>284807 rows × 31 columns</p>\n",
       "</div>"
      ],
      "text/plain": [
       "            Time         Id     Gender      Race  RenalDiseaseIndicator  \\\n",
       "0            0.0  -1.359807  -0.072781  2.536347               1.378155   \n",
       "1            0.0   1.191857   0.266151  0.166480               0.448154   \n",
       "2            1.0  -1.358354  -1.340163  1.773209               0.379780   \n",
       "3            1.0  -0.966272  -0.185226  1.792993              -0.863291   \n",
       "4            2.0  -1.158233   0.877737  1.548718               0.403034   \n",
       "...          ...        ...        ...       ...                    ...   \n",
       "284802  172786.0 -11.881118  10.071785 -9.834783              -2.066656   \n",
       "284803  172787.0  -0.732789  -0.055080  2.035030              -0.738589   \n",
       "284804  172788.0   1.919565  -0.301254 -3.249640              -0.557828   \n",
       "284805  172788.0  -0.240440   0.530483  0.702510               0.689799   \n",
       "284806  172792.0  -0.533413  -0.189733  0.703337              -0.506271   \n",
       "\n",
       "           State   Country  NoOfMonths_PartACov  NoOfMonths_PartBCov  \\\n",
       "0      -0.338321  0.462388             0.239599             0.098698   \n",
       "1       0.060018 -0.082361            -0.078803             0.085102   \n",
       "2      -0.503198  1.800499             0.791461             0.247676   \n",
       "3      -0.010309  1.247203             0.237609             0.377436   \n",
       "4      -0.407193  0.095921             0.592941            -0.270533   \n",
       "...          ...       ...                  ...                  ...   \n",
       "284802 -5.364473 -2.606837            -4.918215             7.305334   \n",
       "284803  0.868229  1.058415             0.024330             0.294869   \n",
       "284804  2.630515  3.031260            -0.296827             0.708417   \n",
       "284805 -0.377961  0.623708            -0.686180             0.679145   \n",
       "284806 -0.012546 -0.649617             1.577006            -0.414650   \n",
       "\n",
       "        ChronicCond_Alzheimer  ...  IPAnnualDeductibleAmt  \\\n",
       "0                    0.363787  ...              -0.018307   \n",
       "1                   -0.255425  ...              -0.225775   \n",
       "2                   -1.514654  ...               0.247998   \n",
       "3                   -1.387024  ...              -0.108300   \n",
       "4                    0.817739  ...              -0.009431   \n",
       "...                       ...  ...                    ...   \n",
       "284802               1.914428  ...               0.213454   \n",
       "284803               0.584800  ...               0.214205   \n",
       "284804               0.432454  ...               0.232045   \n",
       "284805               0.392087  ...               0.265245   \n",
       "284806               0.486180  ...               0.261057   \n",
       "\n",
       "        OPAnnualReimbursementAmt  OPAnnualDeductibleAmt  Unnamed: 24  \\\n",
       "0                       0.277838              -0.110474     0.066928   \n",
       "1                      -0.638672               0.101288    -0.339846   \n",
       "2                       0.771679               0.909412    -0.689281   \n",
       "3                       0.005274              -0.190321    -1.175575   \n",
       "4                       0.798278              -0.137458     0.141267   \n",
       "...                          ...                    ...          ...   \n",
       "284802                  0.111864               1.014480    -0.509348   \n",
       "284803                  0.924384               0.012463    -1.016226   \n",
       "284804                  0.578229              -0.037501     0.640134   \n",
       "284805                  0.800049              -0.163298     0.123205   \n",
       "284806                  0.643078               0.376777     0.008797   \n",
       "\n",
       "        total_claim_amount  policy_number  policy_annual_premium  \\\n",
       "0                 0.128539      -0.189115               0.133558   \n",
       "1                 0.167170       0.125895              -0.008983   \n",
       "2                -0.327642      -0.139097              -0.055353   \n",
       "3                 0.647376      -0.221929               0.062723   \n",
       "4                -0.206010       0.502292               0.219422   \n",
       "...                    ...            ...                    ...   \n",
       "284802            1.436807       0.250034               0.943651   \n",
       "284803           -0.606624      -0.395255               0.068472   \n",
       "284804            0.265745      -0.087371               0.004455   \n",
       "284805           -0.569159       0.546668               0.108821   \n",
       "284806           -0.473649      -0.818267              -0.002415   \n",
       "\n",
       "        policy_deductable  Amount  Class  \n",
       "0               -0.021053  149.62      0  \n",
       "1                0.014724    2.69      0  \n",
       "2               -0.059752  378.66      0  \n",
       "3                0.061458  123.50      0  \n",
       "4                0.215153   69.99      0  \n",
       "...                   ...     ...    ...  \n",
       "284802           0.823731    0.77      0  \n",
       "284803          -0.053527   24.79      0  \n",
       "284804          -0.026561   67.88      0  \n",
       "284805           0.104533   10.00      0  \n",
       "284806           0.013649  217.00      0  \n",
       "\n",
       "[284807 rows x 31 columns]"
      ]
     },
     "execution_count": 6,
     "metadata": {},
     "output_type": "execute_result"
    }
   ],
   "source": [
    "df = pd.read_csv(\"C:/Users/MADHUSUDAN/Downloads/fraud.csv\")\n",
    "df"
   ]
  },
  {
   "cell_type": "code",
   "execution_count": 7,
   "id": "af299382",
   "metadata": {},
   "outputs": [
    {
     "data": {
      "text/html": [
       "<div>\n",
       "<style scoped>\n",
       "    .dataframe tbody tr th:only-of-type {\n",
       "        vertical-align: middle;\n",
       "    }\n",
       "\n",
       "    .dataframe tbody tr th {\n",
       "        vertical-align: top;\n",
       "    }\n",
       "\n",
       "    .dataframe thead th {\n",
       "        text-align: right;\n",
       "    }\n",
       "</style>\n",
       "<table border=\"1\" class=\"dataframe\">\n",
       "  <thead>\n",
       "    <tr style=\"text-align: right;\">\n",
       "      <th></th>\n",
       "      <th>Time</th>\n",
       "      <th>Id</th>\n",
       "      <th>Gender</th>\n",
       "      <th>Race</th>\n",
       "      <th>RenalDiseaseIndicator</th>\n",
       "      <th>State</th>\n",
       "      <th>Country</th>\n",
       "      <th>NoOfMonths_PartACov</th>\n",
       "      <th>NoOfMonths_PartBCov</th>\n",
       "      <th>ChronicCond_Alzheimer</th>\n",
       "      <th>...</th>\n",
       "      <th>IPAnnualDeductibleAmt</th>\n",
       "      <th>OPAnnualReimbursementAmt</th>\n",
       "      <th>OPAnnualDeductibleAmt</th>\n",
       "      <th>Unnamed: 24</th>\n",
       "      <th>total_claim_amount</th>\n",
       "      <th>policy_number</th>\n",
       "      <th>policy_annual_premium</th>\n",
       "      <th>policy_deductable</th>\n",
       "      <th>Amount</th>\n",
       "      <th>Class</th>\n",
       "    </tr>\n",
       "  </thead>\n",
       "  <tbody>\n",
       "    <tr>\n",
       "      <th>0</th>\n",
       "      <td>0.0</td>\n",
       "      <td>-1.359807</td>\n",
       "      <td>-0.072781</td>\n",
       "      <td>2.536347</td>\n",
       "      <td>1.378155</td>\n",
       "      <td>-0.338321</td>\n",
       "      <td>0.462388</td>\n",
       "      <td>0.239599</td>\n",
       "      <td>0.098698</td>\n",
       "      <td>0.363787</td>\n",
       "      <td>...</td>\n",
       "      <td>-0.018307</td>\n",
       "      <td>0.277838</td>\n",
       "      <td>-0.110474</td>\n",
       "      <td>0.066928</td>\n",
       "      <td>0.128539</td>\n",
       "      <td>-0.189115</td>\n",
       "      <td>0.133558</td>\n",
       "      <td>-0.021053</td>\n",
       "      <td>149.62</td>\n",
       "      <td>0</td>\n",
       "    </tr>\n",
       "    <tr>\n",
       "      <th>1</th>\n",
       "      <td>0.0</td>\n",
       "      <td>1.191857</td>\n",
       "      <td>0.266151</td>\n",
       "      <td>0.166480</td>\n",
       "      <td>0.448154</td>\n",
       "      <td>0.060018</td>\n",
       "      <td>-0.082361</td>\n",
       "      <td>-0.078803</td>\n",
       "      <td>0.085102</td>\n",
       "      <td>-0.255425</td>\n",
       "      <td>...</td>\n",
       "      <td>-0.225775</td>\n",
       "      <td>-0.638672</td>\n",
       "      <td>0.101288</td>\n",
       "      <td>-0.339846</td>\n",
       "      <td>0.167170</td>\n",
       "      <td>0.125895</td>\n",
       "      <td>-0.008983</td>\n",
       "      <td>0.014724</td>\n",
       "      <td>2.69</td>\n",
       "      <td>0</td>\n",
       "    </tr>\n",
       "    <tr>\n",
       "      <th>2</th>\n",
       "      <td>1.0</td>\n",
       "      <td>-1.358354</td>\n",
       "      <td>-1.340163</td>\n",
       "      <td>1.773209</td>\n",
       "      <td>0.379780</td>\n",
       "      <td>-0.503198</td>\n",
       "      <td>1.800499</td>\n",
       "      <td>0.791461</td>\n",
       "      <td>0.247676</td>\n",
       "      <td>-1.514654</td>\n",
       "      <td>...</td>\n",
       "      <td>0.247998</td>\n",
       "      <td>0.771679</td>\n",
       "      <td>0.909412</td>\n",
       "      <td>-0.689281</td>\n",
       "      <td>-0.327642</td>\n",
       "      <td>-0.139097</td>\n",
       "      <td>-0.055353</td>\n",
       "      <td>-0.059752</td>\n",
       "      <td>378.66</td>\n",
       "      <td>0</td>\n",
       "    </tr>\n",
       "    <tr>\n",
       "      <th>3</th>\n",
       "      <td>1.0</td>\n",
       "      <td>-0.966272</td>\n",
       "      <td>-0.185226</td>\n",
       "      <td>1.792993</td>\n",
       "      <td>-0.863291</td>\n",
       "      <td>-0.010309</td>\n",
       "      <td>1.247203</td>\n",
       "      <td>0.237609</td>\n",
       "      <td>0.377436</td>\n",
       "      <td>-1.387024</td>\n",
       "      <td>...</td>\n",
       "      <td>-0.108300</td>\n",
       "      <td>0.005274</td>\n",
       "      <td>-0.190321</td>\n",
       "      <td>-1.175575</td>\n",
       "      <td>0.647376</td>\n",
       "      <td>-0.221929</td>\n",
       "      <td>0.062723</td>\n",
       "      <td>0.061458</td>\n",
       "      <td>123.50</td>\n",
       "      <td>0</td>\n",
       "    </tr>\n",
       "    <tr>\n",
       "      <th>4</th>\n",
       "      <td>2.0</td>\n",
       "      <td>-1.158233</td>\n",
       "      <td>0.877737</td>\n",
       "      <td>1.548718</td>\n",
       "      <td>0.403034</td>\n",
       "      <td>-0.407193</td>\n",
       "      <td>0.095921</td>\n",
       "      <td>0.592941</td>\n",
       "      <td>-0.270533</td>\n",
       "      <td>0.817739</td>\n",
       "      <td>...</td>\n",
       "      <td>-0.009431</td>\n",
       "      <td>0.798278</td>\n",
       "      <td>-0.137458</td>\n",
       "      <td>0.141267</td>\n",
       "      <td>-0.206010</td>\n",
       "      <td>0.502292</td>\n",
       "      <td>0.219422</td>\n",
       "      <td>0.215153</td>\n",
       "      <td>69.99</td>\n",
       "      <td>0</td>\n",
       "    </tr>\n",
       "  </tbody>\n",
       "</table>\n",
       "<p>5 rows × 31 columns</p>\n",
       "</div>"
      ],
      "text/plain": [
       "   Time        Id    Gender      Race  RenalDiseaseIndicator     State  \\\n",
       "0   0.0 -1.359807 -0.072781  2.536347               1.378155 -0.338321   \n",
       "1   0.0  1.191857  0.266151  0.166480               0.448154  0.060018   \n",
       "2   1.0 -1.358354 -1.340163  1.773209               0.379780 -0.503198   \n",
       "3   1.0 -0.966272 -0.185226  1.792993              -0.863291 -0.010309   \n",
       "4   2.0 -1.158233  0.877737  1.548718               0.403034 -0.407193   \n",
       "\n",
       "    Country  NoOfMonths_PartACov  NoOfMonths_PartBCov  ChronicCond_Alzheimer  \\\n",
       "0  0.462388             0.239599             0.098698               0.363787   \n",
       "1 -0.082361            -0.078803             0.085102              -0.255425   \n",
       "2  1.800499             0.791461             0.247676              -1.514654   \n",
       "3  1.247203             0.237609             0.377436              -1.387024   \n",
       "4  0.095921             0.592941            -0.270533               0.817739   \n",
       "\n",
       "   ...  IPAnnualDeductibleAmt  OPAnnualReimbursementAmt  \\\n",
       "0  ...              -0.018307                  0.277838   \n",
       "1  ...              -0.225775                 -0.638672   \n",
       "2  ...               0.247998                  0.771679   \n",
       "3  ...              -0.108300                  0.005274   \n",
       "4  ...              -0.009431                  0.798278   \n",
       "\n",
       "   OPAnnualDeductibleAmt  Unnamed: 24  total_claim_amount  policy_number  \\\n",
       "0              -0.110474     0.066928            0.128539      -0.189115   \n",
       "1               0.101288    -0.339846            0.167170       0.125895   \n",
       "2               0.909412    -0.689281           -0.327642      -0.139097   \n",
       "3              -0.190321    -1.175575            0.647376      -0.221929   \n",
       "4              -0.137458     0.141267           -0.206010       0.502292   \n",
       "\n",
       "   policy_annual_premium  policy_deductable  Amount  Class  \n",
       "0               0.133558          -0.021053  149.62      0  \n",
       "1              -0.008983           0.014724    2.69      0  \n",
       "2              -0.055353          -0.059752  378.66      0  \n",
       "3               0.062723           0.061458  123.50      0  \n",
       "4               0.219422           0.215153   69.99      0  \n",
       "\n",
       "[5 rows x 31 columns]"
      ]
     },
     "execution_count": 7,
     "metadata": {},
     "output_type": "execute_result"
    }
   ],
   "source": [
    "df.head()"
   ]
  },
  {
   "cell_type": "code",
   "execution_count": 8,
   "id": "4052cf59",
   "metadata": {},
   "outputs": [],
   "source": [
    "#data_preprocessing"
   ]
  },
  {
   "cell_type": "code",
   "execution_count": 9,
   "id": "fbe92350",
   "metadata": {},
   "outputs": [
    {
     "data": {
      "text/plain": [
       "(284807, 31)"
      ]
     },
     "execution_count": 9,
     "metadata": {},
     "output_type": "execute_result"
    }
   ],
   "source": [
    "df.shape"
   ]
  },
  {
   "cell_type": "code",
   "execution_count": 10,
   "id": "79df4fb9",
   "metadata": {},
   "outputs": [],
   "source": [
    "#null_values"
   ]
  },
  {
   "cell_type": "code",
   "execution_count": 11,
   "id": "cd6391c3",
   "metadata": {},
   "outputs": [
    {
     "data": {
      "text/plain": [
       "Time                               0\n",
       "Id                                 0\n",
       "Gender                             0\n",
       "Race                               0\n",
       "RenalDiseaseIndicator              0\n",
       "State                              0\n",
       "Country                            0\n",
       "NoOfMonths_PartACov                0\n",
       "NoOfMonths_PartBCov                0\n",
       "ChronicCond_Alzheimer              0\n",
       "ChronicCond_Heartfailure           0\n",
       "ChronicCond_KidneyDisease          0\n",
       "ChronicCond_Cancer                 0\n",
       "ChronicCond_ObstrPulmonary         0\n",
       "ChronicCond_Depression             0\n",
       "ChronicCond_Diabetes               0\n",
       "ChronicCond_IschemicHeart          0\n",
       "ChronicCond_Osteoporasis           0\n",
       "ChronicCond_rheumatoidarthritis    0\n",
       "ChronicCond_stroke                 0\n",
       "IPAnnualReimbursementAmt           0\n",
       "IPAnnualDeductibleAmt              0\n",
       "OPAnnualReimbursementAmt           0\n",
       "OPAnnualDeductibleAmt              0\n",
       "Unnamed: 24                        0\n",
       "total_claim_amount                 0\n",
       "policy_number                      0\n",
       "policy_annual_premium              0\n",
       "policy_deductable                  0\n",
       "Amount                             0\n",
       "Class                              0\n",
       "dtype: int64"
      ]
     },
     "execution_count": 11,
     "metadata": {},
     "output_type": "execute_result"
    }
   ],
   "source": [
    "df.isnull().sum()"
   ]
  },
  {
   "cell_type": "code",
   "execution_count": 12,
   "id": "fb247236",
   "metadata": {},
   "outputs": [
    {
     "name": "stdout",
     "output_type": "stream",
     "text": [
      "<class 'pandas.core.frame.DataFrame'>\n",
      "RangeIndex: 284807 entries, 0 to 284806\n",
      "Data columns (total 31 columns):\n",
      " #   Column                           Non-Null Count   Dtype  \n",
      "---  ------                           --------------   -----  \n",
      " 0   Time                             284807 non-null  float64\n",
      " 1   Id                               284807 non-null  float64\n",
      " 2   Gender                           284807 non-null  float64\n",
      " 3   Race                             284807 non-null  float64\n",
      " 4   RenalDiseaseIndicator            284807 non-null  float64\n",
      " 5   State                            284807 non-null  float64\n",
      " 6   Country                          284807 non-null  float64\n",
      " 7   NoOfMonths_PartACov              284807 non-null  float64\n",
      " 8   NoOfMonths_PartBCov              284807 non-null  float64\n",
      " 9   ChronicCond_Alzheimer            284807 non-null  float64\n",
      " 10  ChronicCond_Heartfailure         284807 non-null  float64\n",
      " 11  ChronicCond_KidneyDisease        284807 non-null  float64\n",
      " 12  ChronicCond_Cancer               284807 non-null  float64\n",
      " 13  ChronicCond_ObstrPulmonary       284807 non-null  float64\n",
      " 14  ChronicCond_Depression           284807 non-null  float64\n",
      " 15  ChronicCond_Diabetes             284807 non-null  float64\n",
      " 16  ChronicCond_IschemicHeart        284807 non-null  float64\n",
      " 17  ChronicCond_Osteoporasis         284807 non-null  float64\n",
      " 18  ChronicCond_rheumatoidarthritis  284807 non-null  float64\n",
      " 19  ChronicCond_stroke               284807 non-null  float64\n",
      " 20  IPAnnualReimbursementAmt         284807 non-null  float64\n",
      " 21  IPAnnualDeductibleAmt            284807 non-null  float64\n",
      " 22  OPAnnualReimbursementAmt         284807 non-null  float64\n",
      " 23  OPAnnualDeductibleAmt            284807 non-null  float64\n",
      " 24  Unnamed: 24                      284807 non-null  float64\n",
      " 25  total_claim_amount               284807 non-null  float64\n",
      " 26  policy_number                    284807 non-null  float64\n",
      " 27  policy_annual_premium            284807 non-null  float64\n",
      " 28  policy_deductable                284807 non-null  float64\n",
      " 29  Amount                           284807 non-null  float64\n",
      " 30  Class                            284807 non-null  int64  \n",
      "dtypes: float64(30), int64(1)\n",
      "memory usage: 67.4 MB\n"
     ]
    }
   ],
   "source": [
    "df.info()"
   ]
  },
  {
   "cell_type": "code",
   "execution_count": 14,
   "id": "3c3124aa",
   "metadata": {},
   "outputs": [
    {
     "data": {
      "text/plain": [
       "0    284315\n",
       "1       492\n",
       "Name: Class, dtype: int64"
      ]
     },
     "execution_count": 14,
     "metadata": {},
     "output_type": "execute_result"
    }
   ],
   "source": [
    "df['Class'].value_counts()"
   ]
  },
  {
   "cell_type": "code",
   "execution_count": 15,
   "id": "b947c469",
   "metadata": {},
   "outputs": [],
   "source": [
    "#balancing_the_dataset"
   ]
  },
  {
   "cell_type": "code",
   "execution_count": 16,
   "id": "6c8500a9",
   "metadata": {},
   "outputs": [],
   "source": [
    "frauds = df[df['Class'] == 1]\n",
    "no_fraud = df[df['Class'] == 0]"
   ]
  },
  {
   "cell_type": "code",
   "execution_count": 17,
   "id": "6217501c",
   "metadata": {},
   "outputs": [
    {
     "data": {
      "text/plain": [
       "((492, 31), (284315, 31))"
      ]
     },
     "execution_count": 17,
     "metadata": {},
     "output_type": "execute_result"
    }
   ],
   "source": [
    "frauds.shape, no_fraud.shape"
   ]
  },
  {
   "cell_type": "code",
   "execution_count": 18,
   "id": "5ad4c1ae",
   "metadata": {},
   "outputs": [],
   "source": [
    "#random_selection_of_samples"
   ]
  },
  {
   "cell_type": "code",
   "execution_count": 19,
   "id": "1523ba35",
   "metadata": {},
   "outputs": [],
   "source": [
    "fraud = frauds.sample(n = 492)"
   ]
  },
  {
   "cell_type": "code",
   "execution_count": 20,
   "id": "a8b3170a",
   "metadata": {},
   "outputs": [
    {
     "data": {
      "text/plain": [
       "(492, 31)"
      ]
     },
     "execution_count": 20,
     "metadata": {},
     "output_type": "execute_result"
    }
   ],
   "source": [
    "fraud.shape"
   ]
  },
  {
   "cell_type": "code",
   "execution_count": 21,
   "id": "d1a7eb5b",
   "metadata": {},
   "outputs": [],
   "source": [
    "non_fraud = no_fraud.sample(n = 492)"
   ]
  },
  {
   "cell_type": "code",
   "execution_count": 22,
   "id": "26459879",
   "metadata": {},
   "outputs": [
    {
     "data": {
      "text/plain": [
       "(492, 31)"
      ]
     },
     "execution_count": 22,
     "metadata": {},
     "output_type": "execute_result"
    }
   ],
   "source": [
    "non_fraud.shape"
   ]
  },
  {
   "cell_type": "code",
   "execution_count": 23,
   "id": "03135010",
   "metadata": {},
   "outputs": [],
   "source": [
    "#merging_the_dataset"
   ]
  },
  {
   "cell_type": "code",
   "execution_count": 24,
   "id": "d7cff4e7",
   "metadata": {},
   "outputs": [],
   "source": [
    "dataset = pd.concat([fraud,non_fraud], ignore_index = True)"
   ]
  },
  {
   "cell_type": "code",
   "execution_count": 25,
   "id": "93e097fc",
   "metadata": {},
   "outputs": [
    {
     "data": {
      "text/html": [
       "<div>\n",
       "<style scoped>\n",
       "    .dataframe tbody tr th:only-of-type {\n",
       "        vertical-align: middle;\n",
       "    }\n",
       "\n",
       "    .dataframe tbody tr th {\n",
       "        vertical-align: top;\n",
       "    }\n",
       "\n",
       "    .dataframe thead th {\n",
       "        text-align: right;\n",
       "    }\n",
       "</style>\n",
       "<table border=\"1\" class=\"dataframe\">\n",
       "  <thead>\n",
       "    <tr style=\"text-align: right;\">\n",
       "      <th></th>\n",
       "      <th>Time</th>\n",
       "      <th>Id</th>\n",
       "      <th>Gender</th>\n",
       "      <th>Race</th>\n",
       "      <th>RenalDiseaseIndicator</th>\n",
       "      <th>State</th>\n",
       "      <th>Country</th>\n",
       "      <th>NoOfMonths_PartACov</th>\n",
       "      <th>NoOfMonths_PartBCov</th>\n",
       "      <th>ChronicCond_Alzheimer</th>\n",
       "      <th>...</th>\n",
       "      <th>IPAnnualDeductibleAmt</th>\n",
       "      <th>OPAnnualReimbursementAmt</th>\n",
       "      <th>OPAnnualDeductibleAmt</th>\n",
       "      <th>Unnamed: 24</th>\n",
       "      <th>total_claim_amount</th>\n",
       "      <th>policy_number</th>\n",
       "      <th>policy_annual_premium</th>\n",
       "      <th>policy_deductable</th>\n",
       "      <th>Amount</th>\n",
       "      <th>Class</th>\n",
       "    </tr>\n",
       "  </thead>\n",
       "  <tbody>\n",
       "    <tr>\n",
       "      <th>0</th>\n",
       "      <td>27219.0</td>\n",
       "      <td>-25.266355</td>\n",
       "      <td>14.323254</td>\n",
       "      <td>-26.823673</td>\n",
       "      <td>6.349248</td>\n",
       "      <td>-18.664251</td>\n",
       "      <td>-4.647403</td>\n",
       "      <td>-17.971212</td>\n",
       "      <td>16.633103</td>\n",
       "      <td>-3.768351</td>\n",
       "      <td>...</td>\n",
       "      <td>1.780701</td>\n",
       "      <td>-1.861318</td>\n",
       "      <td>-1.188167</td>\n",
       "      <td>0.156667</td>\n",
       "      <td>1.768192</td>\n",
       "      <td>-0.219916</td>\n",
       "      <td>1.411855</td>\n",
       "      <td>0.414656</td>\n",
       "      <td>99.99</td>\n",
       "      <td>1</td>\n",
       "    </tr>\n",
       "    <tr>\n",
       "      <th>1</th>\n",
       "      <td>85867.0</td>\n",
       "      <td>-3.586964</td>\n",
       "      <td>2.609127</td>\n",
       "      <td>-5.568577</td>\n",
       "      <td>3.631947</td>\n",
       "      <td>-4.543590</td>\n",
       "      <td>-0.157899</td>\n",
       "      <td>-4.089128</td>\n",
       "      <td>2.417305</td>\n",
       "      <td>-3.239901</td>\n",
       "      <td>...</td>\n",
       "      <td>1.024423</td>\n",
       "      <td>0.428756</td>\n",
       "      <td>0.182032</td>\n",
       "      <td>-0.534598</td>\n",
       "      <td>0.168933</td>\n",
       "      <td>-0.149844</td>\n",
       "      <td>0.685517</td>\n",
       "      <td>-0.299728</td>\n",
       "      <td>310.42</td>\n",
       "      <td>1</td>\n",
       "    </tr>\n",
       "    <tr>\n",
       "      <th>2</th>\n",
       "      <td>93853.0</td>\n",
       "      <td>-6.185857</td>\n",
       "      <td>7.102985</td>\n",
       "      <td>-13.030455</td>\n",
       "      <td>8.010823</td>\n",
       "      <td>-7.885237</td>\n",
       "      <td>-3.974550</td>\n",
       "      <td>-12.229608</td>\n",
       "      <td>4.971232</td>\n",
       "      <td>-4.248307</td>\n",
       "      <td>...</td>\n",
       "      <td>2.502772</td>\n",
       "      <td>0.481691</td>\n",
       "      <td>0.480958</td>\n",
       "      <td>0.360319</td>\n",
       "      <td>-0.293354</td>\n",
       "      <td>-0.199193</td>\n",
       "      <td>-0.203917</td>\n",
       "      <td>0.398927</td>\n",
       "      <td>44.90</td>\n",
       "      <td>1</td>\n",
       "    </tr>\n",
       "    <tr>\n",
       "      <th>3</th>\n",
       "      <td>41582.0</td>\n",
       "      <td>-1.048005</td>\n",
       "      <td>1.300219</td>\n",
       "      <td>-0.180401</td>\n",
       "      <td>2.589843</td>\n",
       "      <td>-1.164794</td>\n",
       "      <td>0.031823</td>\n",
       "      <td>-2.175778</td>\n",
       "      <td>0.699072</td>\n",
       "      <td>-1.140208</td>\n",
       "      <td>...</td>\n",
       "      <td>0.549014</td>\n",
       "      <td>0.624321</td>\n",
       "      <td>-0.136663</td>\n",
       "      <td>0.131738</td>\n",
       "      <td>0.030921</td>\n",
       "      <td>-0.176701</td>\n",
       "      <td>0.504898</td>\n",
       "      <td>0.069882</td>\n",
       "      <td>39.45</td>\n",
       "      <td>1</td>\n",
       "    </tr>\n",
       "    <tr>\n",
       "      <th>4</th>\n",
       "      <td>29753.0</td>\n",
       "      <td>0.269614</td>\n",
       "      <td>3.549755</td>\n",
       "      <td>-5.810353</td>\n",
       "      <td>5.809370</td>\n",
       "      <td>1.538808</td>\n",
       "      <td>-2.269219</td>\n",
       "      <td>-0.824203</td>\n",
       "      <td>0.351070</td>\n",
       "      <td>-3.759059</td>\n",
       "      <td>...</td>\n",
       "      <td>0.371121</td>\n",
       "      <td>-0.322290</td>\n",
       "      <td>-0.549856</td>\n",
       "      <td>-0.520629</td>\n",
       "      <td>1.378210</td>\n",
       "      <td>0.564714</td>\n",
       "      <td>0.553255</td>\n",
       "      <td>0.402400</td>\n",
       "      <td>0.68</td>\n",
       "      <td>1</td>\n",
       "    </tr>\n",
       "    <tr>\n",
       "      <th>...</th>\n",
       "      <td>...</td>\n",
       "      <td>...</td>\n",
       "      <td>...</td>\n",
       "      <td>...</td>\n",
       "      <td>...</td>\n",
       "      <td>...</td>\n",
       "      <td>...</td>\n",
       "      <td>...</td>\n",
       "      <td>...</td>\n",
       "      <td>...</td>\n",
       "      <td>...</td>\n",
       "      <td>...</td>\n",
       "      <td>...</td>\n",
       "      <td>...</td>\n",
       "      <td>...</td>\n",
       "      <td>...</td>\n",
       "      <td>...</td>\n",
       "      <td>...</td>\n",
       "      <td>...</td>\n",
       "      <td>...</td>\n",
       "      <td>...</td>\n",
       "    </tr>\n",
       "    <tr>\n",
       "      <th>979</th>\n",
       "      <td>72099.0</td>\n",
       "      <td>-4.366378</td>\n",
       "      <td>4.592382</td>\n",
       "      <td>-2.877170</td>\n",
       "      <td>-0.049002</td>\n",
       "      <td>-1.184299</td>\n",
       "      <td>-0.889175</td>\n",
       "      <td>-0.598446</td>\n",
       "      <td>1.670197</td>\n",
       "      <td>1.798379</td>\n",
       "      <td>...</td>\n",
       "      <td>-0.188903</td>\n",
       "      <td>0.131525</td>\n",
       "      <td>0.308626</td>\n",
       "      <td>-0.448316</td>\n",
       "      <td>0.144402</td>\n",
       "      <td>-0.337042</td>\n",
       "      <td>1.326709</td>\n",
       "      <td>0.642009</td>\n",
       "      <td>1.79</td>\n",
       "      <td>0</td>\n",
       "    </tr>\n",
       "    <tr>\n",
       "      <th>980</th>\n",
       "      <td>114396.0</td>\n",
       "      <td>0.097168</td>\n",
       "      <td>0.829787</td>\n",
       "      <td>-0.145862</td>\n",
       "      <td>-0.836717</td>\n",
       "      <td>0.972400</td>\n",
       "      <td>-0.435427</td>\n",
       "      <td>0.998236</td>\n",
       "      <td>-0.129963</td>\n",
       "      <td>-0.015003</td>\n",
       "      <td>...</td>\n",
       "      <td>-0.317766</td>\n",
       "      <td>-0.719739</td>\n",
       "      <td>-0.046760</td>\n",
       "      <td>-1.063231</td>\n",
       "      <td>-0.353588</td>\n",
       "      <td>0.207431</td>\n",
       "      <td>0.249221</td>\n",
       "      <td>0.087234</td>\n",
       "      <td>6.47</td>\n",
       "      <td>0</td>\n",
       "    </tr>\n",
       "    <tr>\n",
       "      <th>981</th>\n",
       "      <td>31269.0</td>\n",
       "      <td>0.889001</td>\n",
       "      <td>-2.052409</td>\n",
       "      <td>-0.367701</td>\n",
       "      <td>-1.122829</td>\n",
       "      <td>-1.483460</td>\n",
       "      <td>-0.437207</td>\n",
       "      <td>-0.395115</td>\n",
       "      <td>-0.203522</td>\n",
       "      <td>-2.017949</td>\n",
       "      <td>...</td>\n",
       "      <td>0.010083</td>\n",
       "      <td>-0.238554</td>\n",
       "      <td>-0.416140</td>\n",
       "      <td>0.016020</td>\n",
       "      <td>0.557441</td>\n",
       "      <td>-0.093507</td>\n",
       "      <td>-0.051723</td>\n",
       "      <td>0.050684</td>\n",
       "      <td>335.52</td>\n",
       "      <td>0</td>\n",
       "    </tr>\n",
       "    <tr>\n",
       "      <th>982</th>\n",
       "      <td>159422.0</td>\n",
       "      <td>-0.520724</td>\n",
       "      <td>1.097468</td>\n",
       "      <td>0.781341</td>\n",
       "      <td>0.671975</td>\n",
       "      <td>0.946827</td>\n",
       "      <td>1.992460</td>\n",
       "      <td>-0.352927</td>\n",
       "      <td>-2.696852</td>\n",
       "      <td>0.087215</td>\n",
       "      <td>...</td>\n",
       "      <td>-1.774688</td>\n",
       "      <td>-0.547216</td>\n",
       "      <td>0.187389</td>\n",
       "      <td>-0.446101</td>\n",
       "      <td>-0.836212</td>\n",
       "      <td>-1.078987</td>\n",
       "      <td>-0.227939</td>\n",
       "      <td>-0.217916</td>\n",
       "      <td>17.85</td>\n",
       "      <td>0</td>\n",
       "    </tr>\n",
       "    <tr>\n",
       "      <th>983</th>\n",
       "      <td>64888.0</td>\n",
       "      <td>-1.545833</td>\n",
       "      <td>1.730472</td>\n",
       "      <td>0.395504</td>\n",
       "      <td>-0.123833</td>\n",
       "      <td>-0.765729</td>\n",
       "      <td>-0.588127</td>\n",
       "      <td>0.107228</td>\n",
       "      <td>0.668197</td>\n",
       "      <td>-0.348681</td>\n",
       "      <td>...</td>\n",
       "      <td>-0.128316</td>\n",
       "      <td>-0.758559</td>\n",
       "      <td>0.042161</td>\n",
       "      <td>-0.149365</td>\n",
       "      <td>-0.147648</td>\n",
       "      <td>0.058236</td>\n",
       "      <td>-0.502393</td>\n",
       "      <td>-0.038786</td>\n",
       "      <td>44.99</td>\n",
       "      <td>0</td>\n",
       "    </tr>\n",
       "  </tbody>\n",
       "</table>\n",
       "<p>984 rows × 31 columns</p>\n",
       "</div>"
      ],
      "text/plain": [
       "         Time         Id     Gender       Race  RenalDiseaseIndicator  \\\n",
       "0     27219.0 -25.266355  14.323254 -26.823673               6.349248   \n",
       "1     85867.0  -3.586964   2.609127  -5.568577               3.631947   \n",
       "2     93853.0  -6.185857   7.102985 -13.030455               8.010823   \n",
       "3     41582.0  -1.048005   1.300219  -0.180401               2.589843   \n",
       "4     29753.0   0.269614   3.549755  -5.810353               5.809370   \n",
       "..        ...        ...        ...        ...                    ...   \n",
       "979   72099.0  -4.366378   4.592382  -2.877170              -0.049002   \n",
       "980  114396.0   0.097168   0.829787  -0.145862              -0.836717   \n",
       "981   31269.0   0.889001  -2.052409  -0.367701              -1.122829   \n",
       "982  159422.0  -0.520724   1.097468   0.781341               0.671975   \n",
       "983   64888.0  -1.545833   1.730472   0.395504              -0.123833   \n",
       "\n",
       "         State   Country  NoOfMonths_PartACov  NoOfMonths_PartBCov  \\\n",
       "0   -18.664251 -4.647403           -17.971212            16.633103   \n",
       "1    -4.543590 -0.157899            -4.089128             2.417305   \n",
       "2    -7.885237 -3.974550           -12.229608             4.971232   \n",
       "3    -1.164794  0.031823            -2.175778             0.699072   \n",
       "4     1.538808 -2.269219            -0.824203             0.351070   \n",
       "..         ...       ...                  ...                  ...   \n",
       "979  -1.184299 -0.889175            -0.598446             1.670197   \n",
       "980   0.972400 -0.435427             0.998236            -0.129963   \n",
       "981  -1.483460 -0.437207            -0.395115            -0.203522   \n",
       "982   0.946827  1.992460            -0.352927            -2.696852   \n",
       "983  -0.765729 -0.588127             0.107228             0.668197   \n",
       "\n",
       "     ChronicCond_Alzheimer  ...  IPAnnualDeductibleAmt  \\\n",
       "0                -3.768351  ...               1.780701   \n",
       "1                -3.239901  ...               1.024423   \n",
       "2                -4.248307  ...               2.502772   \n",
       "3                -1.140208  ...               0.549014   \n",
       "4                -3.759059  ...               0.371121   \n",
       "..                     ...  ...                    ...   \n",
       "979               1.798379  ...              -0.188903   \n",
       "980              -0.015003  ...              -0.317766   \n",
       "981              -2.017949  ...               0.010083   \n",
       "982               0.087215  ...              -1.774688   \n",
       "983              -0.348681  ...              -0.128316   \n",
       "\n",
       "     OPAnnualReimbursementAmt  OPAnnualDeductibleAmt  Unnamed: 24  \\\n",
       "0                   -1.861318              -1.188167     0.156667   \n",
       "1                    0.428756               0.182032    -0.534598   \n",
       "2                    0.481691               0.480958     0.360319   \n",
       "3                    0.624321              -0.136663     0.131738   \n",
       "4                   -0.322290              -0.549856    -0.520629   \n",
       "..                        ...                    ...          ...   \n",
       "979                  0.131525               0.308626    -0.448316   \n",
       "980                 -0.719739              -0.046760    -1.063231   \n",
       "981                 -0.238554              -0.416140     0.016020   \n",
       "982                 -0.547216               0.187389    -0.446101   \n",
       "983                 -0.758559               0.042161    -0.149365   \n",
       "\n",
       "     total_claim_amount  policy_number  policy_annual_premium  \\\n",
       "0              1.768192      -0.219916               1.411855   \n",
       "1              0.168933      -0.149844               0.685517   \n",
       "2             -0.293354      -0.199193              -0.203917   \n",
       "3              0.030921      -0.176701               0.504898   \n",
       "4              1.378210       0.564714               0.553255   \n",
       "..                  ...            ...                    ...   \n",
       "979            0.144402      -0.337042               1.326709   \n",
       "980           -0.353588       0.207431               0.249221   \n",
       "981            0.557441      -0.093507              -0.051723   \n",
       "982           -0.836212      -1.078987              -0.227939   \n",
       "983           -0.147648       0.058236              -0.502393   \n",
       "\n",
       "     policy_deductable  Amount  Class  \n",
       "0             0.414656   99.99      1  \n",
       "1            -0.299728  310.42      1  \n",
       "2             0.398927   44.90      1  \n",
       "3             0.069882   39.45      1  \n",
       "4             0.402400    0.68      1  \n",
       "..                 ...     ...    ...  \n",
       "979           0.642009    1.79      0  \n",
       "980           0.087234    6.47      0  \n",
       "981           0.050684  335.52      0  \n",
       "982          -0.217916   17.85      0  \n",
       "983          -0.038786   44.99      0  \n",
       "\n",
       "[984 rows x 31 columns]"
      ]
     },
     "execution_count": 25,
     "metadata": {},
     "output_type": "execute_result"
    }
   ],
   "source": [
    "dataset"
   ]
  },
  {
   "cell_type": "code",
   "execution_count": 27,
   "id": "e9d4846b",
   "metadata": {},
   "outputs": [
    {
     "data": {
      "text/plain": [
       "1    492\n",
       "0    492\n",
       "Name: Class, dtype: int64"
      ]
     },
     "execution_count": 27,
     "metadata": {},
     "output_type": "execute_result"
    }
   ],
   "source": [
    "dataset['Class'].value_counts()"
   ]
  },
  {
   "cell_type": "code",
   "execution_count": 28,
   "id": "0eb790dc",
   "metadata": {},
   "outputs": [],
   "source": [
    "#defining_feature_matrix"
   ]
  },
  {
   "cell_type": "code",
   "execution_count": 29,
   "id": "d1f6896f",
   "metadata": {},
   "outputs": [],
   "source": [
    "x = dataset.drop(labels = ['Class'], axis = 1)"
   ]
  },
  {
   "cell_type": "code",
   "execution_count": 30,
   "id": "cc5057a6",
   "metadata": {},
   "outputs": [],
   "source": [
    "#dependent_variable"
   ]
  },
  {
   "cell_type": "code",
   "execution_count": 31,
   "id": "913b81e7",
   "metadata": {},
   "outputs": [],
   "source": [
    "y = dataset['Class']"
   ]
  },
  {
   "cell_type": "code",
   "execution_count": 32,
   "id": "3e20a6af",
   "metadata": {},
   "outputs": [
    {
     "data": {
      "text/plain": [
       "((984, 30), (984,))"
      ]
     },
     "execution_count": 32,
     "metadata": {},
     "output_type": "execute_result"
    }
   ],
   "source": [
    "x.shape, y.shape"
   ]
  },
  {
   "cell_type": "code",
   "execution_count": 34,
   "id": "17de9c6d",
   "metadata": {},
   "outputs": [
    {
     "data": {
      "text/html": [
       "<div>\n",
       "<style scoped>\n",
       "    .dataframe tbody tr th:only-of-type {\n",
       "        vertical-align: middle;\n",
       "    }\n",
       "\n",
       "    .dataframe tbody tr th {\n",
       "        vertical-align: top;\n",
       "    }\n",
       "\n",
       "    .dataframe thead th {\n",
       "        text-align: right;\n",
       "    }\n",
       "</style>\n",
       "<table border=\"1\" class=\"dataframe\">\n",
       "  <thead>\n",
       "    <tr style=\"text-align: right;\">\n",
       "      <th></th>\n",
       "      <th>Time</th>\n",
       "      <th>Id</th>\n",
       "      <th>Gender</th>\n",
       "      <th>Race</th>\n",
       "      <th>RenalDiseaseIndicator</th>\n",
       "      <th>State</th>\n",
       "      <th>Country</th>\n",
       "      <th>NoOfMonths_PartACov</th>\n",
       "      <th>NoOfMonths_PartBCov</th>\n",
       "      <th>ChronicCond_Alzheimer</th>\n",
       "      <th>...</th>\n",
       "      <th>IPAnnualReimbursementAmt</th>\n",
       "      <th>IPAnnualDeductibleAmt</th>\n",
       "      <th>OPAnnualReimbursementAmt</th>\n",
       "      <th>OPAnnualDeductibleAmt</th>\n",
       "      <th>Unnamed: 24</th>\n",
       "      <th>total_claim_amount</th>\n",
       "      <th>policy_number</th>\n",
       "      <th>policy_annual_premium</th>\n",
       "      <th>policy_deductable</th>\n",
       "      <th>Amount</th>\n",
       "    </tr>\n",
       "  </thead>\n",
       "  <tbody>\n",
       "    <tr>\n",
       "      <th>0</th>\n",
       "      <td>27219.0</td>\n",
       "      <td>-25.266355</td>\n",
       "      <td>14.323254</td>\n",
       "      <td>-26.823673</td>\n",
       "      <td>6.349248</td>\n",
       "      <td>-18.664251</td>\n",
       "      <td>-4.647403</td>\n",
       "      <td>-17.971212</td>\n",
       "      <td>16.633103</td>\n",
       "      <td>-3.768351</td>\n",
       "      <td>...</td>\n",
       "      <td>1.658289</td>\n",
       "      <td>1.780701</td>\n",
       "      <td>-1.861318</td>\n",
       "      <td>-1.188167</td>\n",
       "      <td>0.156667</td>\n",
       "      <td>1.768192</td>\n",
       "      <td>-0.219916</td>\n",
       "      <td>1.411855</td>\n",
       "      <td>0.414656</td>\n",
       "      <td>99.99</td>\n",
       "    </tr>\n",
       "    <tr>\n",
       "      <th>1</th>\n",
       "      <td>85867.0</td>\n",
       "      <td>-3.586964</td>\n",
       "      <td>2.609127</td>\n",
       "      <td>-5.568577</td>\n",
       "      <td>3.631947</td>\n",
       "      <td>-4.543590</td>\n",
       "      <td>-0.157899</td>\n",
       "      <td>-4.089128</td>\n",
       "      <td>2.417305</td>\n",
       "      <td>-3.239901</td>\n",
       "      <td>...</td>\n",
       "      <td>-0.178534</td>\n",
       "      <td>1.024423</td>\n",
       "      <td>0.428756</td>\n",
       "      <td>0.182032</td>\n",
       "      <td>-0.534598</td>\n",
       "      <td>0.168933</td>\n",
       "      <td>-0.149844</td>\n",
       "      <td>0.685517</td>\n",
       "      <td>-0.299728</td>\n",
       "      <td>310.42</td>\n",
       "    </tr>\n",
       "    <tr>\n",
       "      <th>2</th>\n",
       "      <td>93853.0</td>\n",
       "      <td>-6.185857</td>\n",
       "      <td>7.102985</td>\n",
       "      <td>-13.030455</td>\n",
       "      <td>8.010823</td>\n",
       "      <td>-7.885237</td>\n",
       "      <td>-3.974550</td>\n",
       "      <td>-12.229608</td>\n",
       "      <td>4.971232</td>\n",
       "      <td>-4.248307</td>\n",
       "      <td>...</td>\n",
       "      <td>0.483930</td>\n",
       "      <td>2.502772</td>\n",
       "      <td>0.481691</td>\n",
       "      <td>0.480958</td>\n",
       "      <td>0.360319</td>\n",
       "      <td>-0.293354</td>\n",
       "      <td>-0.199193</td>\n",
       "      <td>-0.203917</td>\n",
       "      <td>0.398927</td>\n",
       "      <td>44.90</td>\n",
       "    </tr>\n",
       "    <tr>\n",
       "      <th>3</th>\n",
       "      <td>41582.0</td>\n",
       "      <td>-1.048005</td>\n",
       "      <td>1.300219</td>\n",
       "      <td>-0.180401</td>\n",
       "      <td>2.589843</td>\n",
       "      <td>-1.164794</td>\n",
       "      <td>0.031823</td>\n",
       "      <td>-2.175778</td>\n",
       "      <td>0.699072</td>\n",
       "      <td>-1.140208</td>\n",
       "      <td>...</td>\n",
       "      <td>0.644993</td>\n",
       "      <td>0.549014</td>\n",
       "      <td>0.624321</td>\n",
       "      <td>-0.136663</td>\n",
       "      <td>0.131738</td>\n",
       "      <td>0.030921</td>\n",
       "      <td>-0.176701</td>\n",
       "      <td>0.504898</td>\n",
       "      <td>0.069882</td>\n",
       "      <td>39.45</td>\n",
       "    </tr>\n",
       "    <tr>\n",
       "      <th>4</th>\n",
       "      <td>29753.0</td>\n",
       "      <td>0.269614</td>\n",
       "      <td>3.549755</td>\n",
       "      <td>-5.810353</td>\n",
       "      <td>5.809370</td>\n",
       "      <td>1.538808</td>\n",
       "      <td>-2.269219</td>\n",
       "      <td>-0.824203</td>\n",
       "      <td>0.351070</td>\n",
       "      <td>-3.759059</td>\n",
       "      <td>...</td>\n",
       "      <td>0.310525</td>\n",
       "      <td>0.371121</td>\n",
       "      <td>-0.322290</td>\n",
       "      <td>-0.549856</td>\n",
       "      <td>-0.520629</td>\n",
       "      <td>1.378210</td>\n",
       "      <td>0.564714</td>\n",
       "      <td>0.553255</td>\n",
       "      <td>0.402400</td>\n",
       "      <td>0.68</td>\n",
       "    </tr>\n",
       "  </tbody>\n",
       "</table>\n",
       "<p>5 rows × 30 columns</p>\n",
       "</div>"
      ],
      "text/plain": [
       "      Time         Id     Gender       Race  RenalDiseaseIndicator      State  \\\n",
       "0  27219.0 -25.266355  14.323254 -26.823673               6.349248 -18.664251   \n",
       "1  85867.0  -3.586964   2.609127  -5.568577               3.631947  -4.543590   \n",
       "2  93853.0  -6.185857   7.102985 -13.030455               8.010823  -7.885237   \n",
       "3  41582.0  -1.048005   1.300219  -0.180401               2.589843  -1.164794   \n",
       "4  29753.0   0.269614   3.549755  -5.810353               5.809370   1.538808   \n",
       "\n",
       "    Country  NoOfMonths_PartACov  NoOfMonths_PartBCov  ChronicCond_Alzheimer  \\\n",
       "0 -4.647403           -17.971212            16.633103              -3.768351   \n",
       "1 -0.157899            -4.089128             2.417305              -3.239901   \n",
       "2 -3.974550           -12.229608             4.971232              -4.248307   \n",
       "3  0.031823            -2.175778             0.699072              -1.140208   \n",
       "4 -2.269219            -0.824203             0.351070              -3.759059   \n",
       "\n",
       "   ...  IPAnnualReimbursementAmt  IPAnnualDeductibleAmt  \\\n",
       "0  ...                  1.658289               1.780701   \n",
       "1  ...                 -0.178534               1.024423   \n",
       "2  ...                  0.483930               2.502772   \n",
       "3  ...                  0.644993               0.549014   \n",
       "4  ...                  0.310525               0.371121   \n",
       "\n",
       "   OPAnnualReimbursementAmt  OPAnnualDeductibleAmt  Unnamed: 24  \\\n",
       "0                 -1.861318              -1.188167     0.156667   \n",
       "1                  0.428756               0.182032    -0.534598   \n",
       "2                  0.481691               0.480958     0.360319   \n",
       "3                  0.624321              -0.136663     0.131738   \n",
       "4                 -0.322290              -0.549856    -0.520629   \n",
       "\n",
       "   total_claim_amount  policy_number  policy_annual_premium  \\\n",
       "0            1.768192      -0.219916               1.411855   \n",
       "1            0.168933      -0.149844               0.685517   \n",
       "2           -0.293354      -0.199193              -0.203917   \n",
       "3            0.030921      -0.176701               0.504898   \n",
       "4            1.378210       0.564714               0.553255   \n",
       "\n",
       "   policy_deductable  Amount  \n",
       "0           0.414656   99.99  \n",
       "1          -0.299728  310.42  \n",
       "2           0.398927   44.90  \n",
       "3           0.069882   39.45  \n",
       "4           0.402400    0.68  \n",
       "\n",
       "[5 rows x 30 columns]"
      ]
     },
     "execution_count": 34,
     "metadata": {},
     "output_type": "execute_result"
    }
   ],
   "source": [
    "x.head()"
   ]
  },
  {
   "cell_type": "code",
   "execution_count": 35,
   "id": "86b0e0ae",
   "metadata": {},
   "outputs": [],
   "source": [
    "#splitting_dataset"
   ]
  },
  {
   "cell_type": "code",
   "execution_count": 36,
   "id": "411a4d4c",
   "metadata": {},
   "outputs": [],
   "source": [
    "x_train, x_test, y_train, y_test = train_test_split(x, y, test_size = 0.2, random_state = 0)"
   ]
  },
  {
   "cell_type": "code",
   "execution_count": 37,
   "id": "2d03b1f8",
   "metadata": {},
   "outputs": [
    {
     "data": {
      "text/plain": [
       "((787, 30), (197, 30))"
      ]
     },
     "execution_count": 37,
     "metadata": {},
     "output_type": "execute_result"
    }
   ],
   "source": [
    "x_train.shape, x_test.shape"
   ]
  },
  {
   "cell_type": "code",
   "execution_count": 38,
   "id": "c545d35f",
   "metadata": {},
   "outputs": [],
   "source": [
    "#rnn_model"
   ]
  },
  {
   "cell_type": "code",
   "execution_count": 39,
   "id": "16d40505",
   "metadata": {},
   "outputs": [],
   "source": [
    "model = Sequential()"
   ]
  },
  {
   "cell_type": "code",
   "execution_count": 40,
   "id": "875b373a",
   "metadata": {},
   "outputs": [],
   "source": [
    "from keras.layers import LSTM, InputLayer\n",
    "model.add(InputLayer(batch_input_shape=(None, 5, 1)))"
   ]
  },
  {
   "cell_type": "code",
   "execution_count": 41,
   "id": "42404071",
   "metadata": {},
   "outputs": [],
   "source": [
    "model.add(LSTM(1, return_sequences = True))\n",
    "model.add(LSTM(1, return_sequences = True))\n",
    "model.add(LSTM(1, return_sequences = True))\n",
    "model.add(LSTM(1, return_sequences = False))"
   ]
  },
  {
   "cell_type": "code",
   "execution_count": 42,
   "id": "1aabd125",
   "metadata": {},
   "outputs": [],
   "source": [
    "model.compile(loss = 'mean_absolute_error', optimizer = 'adam', metrics = ['accuracy','precision','recall'])"
   ]
  },
  {
   "cell_type": "code",
   "execution_count": 43,
   "id": "fcaf8d78",
   "metadata": {},
   "outputs": [
    {
     "data": {
      "text/html": [
       "<pre style=\"white-space:pre;overflow-x:auto;line-height:normal;font-family:Menlo,'DejaVu Sans Mono',consolas,'Courier New',monospace\"><span style=\"font-weight: bold\">Model: \"sequential\"</span>\n",
       "</pre>\n"
      ],
      "text/plain": [
       "\u001b[1mModel: \"sequential\"\u001b[0m\n"
      ]
     },
     "metadata": {},
     "output_type": "display_data"
    },
    {
     "data": {
      "text/html": [
       "<pre style=\"white-space:pre;overflow-x:auto;line-height:normal;font-family:Menlo,'DejaVu Sans Mono',consolas,'Courier New',monospace\">┏━━━━━━━━━━━━━━━━━━━━━━━━━━━━━━━━━━━━━━┳━━━━━━━━━━━━━━━━━━━━━━━━━━━━━┳━━━━━━━━━━━━━━━━━┓\n",
       "┃<span style=\"font-weight: bold\"> Layer (type)                         </span>┃<span style=\"font-weight: bold\"> Output Shape                </span>┃<span style=\"font-weight: bold\">         Param # </span>┃\n",
       "┡━━━━━━━━━━━━━━━━━━━━━━━━━━━━━━━━━━━━━━╇━━━━━━━━━━━━━━━━━━━━━━━━━━━━━╇━━━━━━━━━━━━━━━━━┩\n",
       "│ lstm (<span style=\"color: #0087ff; text-decoration-color: #0087ff\">LSTM</span>)                          │ (<span style=\"color: #00d7ff; text-decoration-color: #00d7ff\">None</span>, <span style=\"color: #00af00; text-decoration-color: #00af00\">5</span>, <span style=\"color: #00af00; text-decoration-color: #00af00\">1</span>)                │              <span style=\"color: #00af00; text-decoration-color: #00af00\">12</span> │\n",
       "├──────────────────────────────────────┼─────────────────────────────┼─────────────────┤\n",
       "│ lstm_1 (<span style=\"color: #0087ff; text-decoration-color: #0087ff\">LSTM</span>)                        │ (<span style=\"color: #00d7ff; text-decoration-color: #00d7ff\">None</span>, <span style=\"color: #00af00; text-decoration-color: #00af00\">5</span>, <span style=\"color: #00af00; text-decoration-color: #00af00\">1</span>)                │              <span style=\"color: #00af00; text-decoration-color: #00af00\">12</span> │\n",
       "├──────────────────────────────────────┼─────────────────────────────┼─────────────────┤\n",
       "│ lstm_2 (<span style=\"color: #0087ff; text-decoration-color: #0087ff\">LSTM</span>)                        │ (<span style=\"color: #00d7ff; text-decoration-color: #00d7ff\">None</span>, <span style=\"color: #00af00; text-decoration-color: #00af00\">5</span>, <span style=\"color: #00af00; text-decoration-color: #00af00\">1</span>)                │              <span style=\"color: #00af00; text-decoration-color: #00af00\">12</span> │\n",
       "├──────────────────────────────────────┼─────────────────────────────┼─────────────────┤\n",
       "│ lstm_3 (<span style=\"color: #0087ff; text-decoration-color: #0087ff\">LSTM</span>)                        │ (<span style=\"color: #00d7ff; text-decoration-color: #00d7ff\">None</span>, <span style=\"color: #00af00; text-decoration-color: #00af00\">1</span>)                   │              <span style=\"color: #00af00; text-decoration-color: #00af00\">12</span> │\n",
       "└──────────────────────────────────────┴─────────────────────────────┴─────────────────┘\n",
       "</pre>\n"
      ],
      "text/plain": [
       "┏━━━━━━━━━━━━━━━━━━━━━━━━━━━━━━━━━━━━━━┳━━━━━━━━━━━━━━━━━━━━━━━━━━━━━┳━━━━━━━━━━━━━━━━━┓\n",
       "┃\u001b[1m \u001b[0m\u001b[1mLayer (type)                        \u001b[0m\u001b[1m \u001b[0m┃\u001b[1m \u001b[0m\u001b[1mOutput Shape               \u001b[0m\u001b[1m \u001b[0m┃\u001b[1m \u001b[0m\u001b[1m        Param #\u001b[0m\u001b[1m \u001b[0m┃\n",
       "┡━━━━━━━━━━━━━━━━━━━━━━━━━━━━━━━━━━━━━━╇━━━━━━━━━━━━━━━━━━━━━━━━━━━━━╇━━━━━━━━━━━━━━━━━┩\n",
       "│ lstm (\u001b[38;5;33mLSTM\u001b[0m)                          │ (\u001b[38;5;45mNone\u001b[0m, \u001b[38;5;34m5\u001b[0m, \u001b[38;5;34m1\u001b[0m)                │              \u001b[38;5;34m12\u001b[0m │\n",
       "├──────────────────────────────────────┼─────────────────────────────┼─────────────────┤\n",
       "│ lstm_1 (\u001b[38;5;33mLSTM\u001b[0m)                        │ (\u001b[38;5;45mNone\u001b[0m, \u001b[38;5;34m5\u001b[0m, \u001b[38;5;34m1\u001b[0m)                │              \u001b[38;5;34m12\u001b[0m │\n",
       "├──────────────────────────────────────┼─────────────────────────────┼─────────────────┤\n",
       "│ lstm_2 (\u001b[38;5;33mLSTM\u001b[0m)                        │ (\u001b[38;5;45mNone\u001b[0m, \u001b[38;5;34m5\u001b[0m, \u001b[38;5;34m1\u001b[0m)                │              \u001b[38;5;34m12\u001b[0m │\n",
       "├──────────────────────────────────────┼─────────────────────────────┼─────────────────┤\n",
       "│ lstm_3 (\u001b[38;5;33mLSTM\u001b[0m)                        │ (\u001b[38;5;45mNone\u001b[0m, \u001b[38;5;34m1\u001b[0m)                   │              \u001b[38;5;34m12\u001b[0m │\n",
       "└──────────────────────────────────────┴─────────────────────────────┴─────────────────┘\n"
      ]
     },
     "metadata": {},
     "output_type": "display_data"
    },
    {
     "data": {
      "text/html": [
       "<pre style=\"white-space:pre;overflow-x:auto;line-height:normal;font-family:Menlo,'DejaVu Sans Mono',consolas,'Courier New',monospace\"><span style=\"font-weight: bold\"> Total params: </span><span style=\"color: #00af00; text-decoration-color: #00af00\">48</span> (192.00 B)\n",
       "</pre>\n"
      ],
      "text/plain": [
       "\u001b[1m Total params: \u001b[0m\u001b[38;5;34m48\u001b[0m (192.00 B)\n"
      ]
     },
     "metadata": {},
     "output_type": "display_data"
    },
    {
     "data": {
      "text/html": [
       "<pre style=\"white-space:pre;overflow-x:auto;line-height:normal;font-family:Menlo,'DejaVu Sans Mono',consolas,'Courier New',monospace\"><span style=\"font-weight: bold\"> Trainable params: </span><span style=\"color: #00af00; text-decoration-color: #00af00\">48</span> (192.00 B)\n",
       "</pre>\n"
      ],
      "text/plain": [
       "\u001b[1m Trainable params: \u001b[0m\u001b[38;5;34m48\u001b[0m (192.00 B)\n"
      ]
     },
     "metadata": {},
     "output_type": "display_data"
    },
    {
     "data": {
      "text/html": [
       "<pre style=\"white-space:pre;overflow-x:auto;line-height:normal;font-family:Menlo,'DejaVu Sans Mono',consolas,'Courier New',monospace\"><span style=\"font-weight: bold\"> Non-trainable params: </span><span style=\"color: #00af00; text-decoration-color: #00af00\">0</span> (0.00 B)\n",
       "</pre>\n"
      ],
      "text/plain": [
       "\u001b[1m Non-trainable params: \u001b[0m\u001b[38;5;34m0\u001b[0m (0.00 B)\n"
      ]
     },
     "metadata": {},
     "output_type": "display_data"
    }
   ],
   "source": [
    "model.summary()"
   ]
  },
  {
   "cell_type": "code",
   "execution_count": 44,
   "id": "5d84cc61",
   "metadata": {},
   "outputs": [],
   "source": [
    "#fitting_the_model"
   ]
  },
  {
   "cell_type": "code",
   "execution_count": 45,
   "id": "3c0ae3db",
   "metadata": {},
   "outputs": [
    {
     "name": "stdout",
     "output_type": "stream",
     "text": [
      "Epoch 1/25\n",
      "\u001b[1m25/25\u001b[0m \u001b[32m━━━━━━━━━━━━━━━━━━━━\u001b[0m\u001b[37m\u001b[0m \u001b[1m11s\u001b[0m 85ms/step - accuracy: 0.5014 - loss: 0.5066 - precision: 0.0000e+00 - recall: 0.0000e+00 - val_accuracy: 0.5381 - val_loss: 0.4672 - val_precision: 0.0000e+00 - val_recall: 0.0000e+00\n",
      "Epoch 2/25\n",
      "\u001b[1m25/25\u001b[0m \u001b[32m━━━━━━━━━━━━━━━━━━━━\u001b[0m\u001b[37m\u001b[0m \u001b[1m1s\u001b[0m 34ms/step - accuracy: 0.5007 - loss: 0.5021 - precision: 0.0000e+00 - recall: 0.0000e+00 - val_accuracy: 0.5381 - val_loss: 0.4667 - val_precision: 0.0000e+00 - val_recall: 0.0000e+00\n",
      "Epoch 3/25\n",
      "\u001b[1m25/25\u001b[0m \u001b[32m━━━━━━━━━━━━━━━━━━━━\u001b[0m\u001b[37m\u001b[0m \u001b[1m1s\u001b[0m 33ms/step - accuracy: 0.4929 - loss: 0.5082 - precision: 0.0000e+00 - recall: 0.0000e+00 - val_accuracy: 0.5381 - val_loss: 0.4659 - val_precision: 0.0000e+00 - val_recall: 0.0000e+00\n",
      "Epoch 4/25\n",
      "\u001b[1m25/25\u001b[0m \u001b[32m━━━━━━━━━━━━━━━━━━━━\u001b[0m\u001b[37m\u001b[0m \u001b[1m1s\u001b[0m 32ms/step - accuracy: 0.4610 - loss: 0.5378 - precision: 0.0000e+00 - recall: 0.0000e+00 - val_accuracy: 0.5381 - val_loss: 0.4654 - val_precision: 0.0000e+00 - val_recall: 0.0000e+00\n",
      "Epoch 5/25\n",
      "\u001b[1m25/25\u001b[0m \u001b[32m━━━━━━━━━━━━━━━━━━━━\u001b[0m\u001b[37m\u001b[0m \u001b[1m1s\u001b[0m 33ms/step - accuracy: 0.4964 - loss: 0.5037 - precision: 0.0000e+00 - recall: 0.0000e+00 - val_accuracy: 0.5381 - val_loss: 0.4650 - val_precision: 0.0000e+00 - val_recall: 0.0000e+00\n",
      "Epoch 6/25\n",
      "\u001b[1m25/25\u001b[0m \u001b[32m━━━━━━━━━━━━━━━━━━━━\u001b[0m\u001b[37m\u001b[0m \u001b[1m1s\u001b[0m 33ms/step - accuracy: 0.4994 - loss: 0.5003 - precision: 0.0000e+00 - recall: 0.0000e+00 - val_accuracy: 0.5381 - val_loss: 0.4646 - val_precision: 0.0000e+00 - val_recall: 0.0000e+00\n",
      "Epoch 7/25\n",
      "\u001b[1m25/25\u001b[0m \u001b[32m━━━━━━━━━━━━━━━━━━━━\u001b[0m\u001b[37m\u001b[0m \u001b[1m1s\u001b[0m 34ms/step - accuracy: 0.4887 - loss: 0.5087 - precision: 0.0000e+00 - recall: 0.0000e+00 - val_accuracy: 0.5381 - val_loss: 0.4632 - val_precision: 0.0000e+00 - val_recall: 0.0000e+00\n",
      "Epoch 8/25\n",
      "\u001b[1m25/25\u001b[0m \u001b[32m━━━━━━━━━━━━━━━━━━━━\u001b[0m\u001b[37m\u001b[0m \u001b[1m1s\u001b[0m 32ms/step - accuracy: 0.4993 - loss: 0.4944 - precision: 0.0000e+00 - recall: 0.0000e+00 - val_accuracy: 0.5381 - val_loss: 0.4538 - val_precision: 0.0000e+00 - val_recall: 0.0000e+00\n",
      "Epoch 9/25\n",
      "\u001b[1m25/25\u001b[0m \u001b[32m━━━━━━━━━━━━━━━━━━━━\u001b[0m\u001b[37m\u001b[0m \u001b[1m1s\u001b[0m 30ms/step - accuracy: 0.4808 - loss: 0.4846 - precision: 0.0769 - recall: 3.8366e-04 - val_accuracy: 0.5990 - val_loss: 0.3837 - val_precision: 1.0000 - val_recall: 0.1319\n",
      "Epoch 10/25\n",
      "\u001b[1m25/25\u001b[0m \u001b[32m━━━━━━━━━━━━━━━━━━━━\u001b[0m\u001b[37m\u001b[0m \u001b[1m1s\u001b[0m 33ms/step - accuracy: 0.7351 - loss: 0.3619 - precision: 0.9991 - recall: 0.4972 - val_accuracy: 0.8731 - val_loss: 0.2626 - val_precision: 0.9853 - val_recall: 0.7363\n",
      "Epoch 11/25\n",
      "\u001b[1m25/25\u001b[0m \u001b[32m━━━━━━━━━━━━━━━━━━━━\u001b[0m\u001b[37m\u001b[0m \u001b[1m1s\u001b[0m 34ms/step - accuracy: 0.8688 - loss: 0.2642 - precision: 0.9832 - recall: 0.7636 - val_accuracy: 0.8731 - val_loss: 0.2360 - val_precision: 0.9459 - val_recall: 0.7692\n",
      "Epoch 12/25\n",
      "\u001b[1m25/25\u001b[0m \u001b[32m━━━━━━━━━━━━━━━━━━━━\u001b[0m\u001b[37m\u001b[0m \u001b[1m1s\u001b[0m 33ms/step - accuracy: 0.8866 - loss: 0.2394 - precision: 0.9810 - recall: 0.7983 - val_accuracy: 0.8731 - val_loss: 0.2220 - val_precision: 0.9459 - val_recall: 0.7692\n",
      "Epoch 13/25\n",
      "\u001b[1m25/25\u001b[0m \u001b[32m━━━━━━━━━━━━━━━━━━━━\u001b[0m\u001b[37m\u001b[0m \u001b[1m1s\u001b[0m 35ms/step - accuracy: 0.9050 - loss: 0.2094 - precision: 0.9939 - recall: 0.8195 - val_accuracy: 0.8832 - val_loss: 0.2099 - val_precision: 0.9595 - val_recall: 0.7802\n",
      "Epoch 14/25\n",
      "\u001b[1m25/25\u001b[0m \u001b[32m━━━━━━━━━━━━━━━━━━━━\u001b[0m\u001b[37m\u001b[0m \u001b[1m1s\u001b[0m 33ms/step - accuracy: 0.8864 - loss: 0.2090 - precision: 0.9838 - recall: 0.7828 - val_accuracy: 0.8832 - val_loss: 0.2019 - val_precision: 0.9595 - val_recall: 0.7802\n",
      "Epoch 15/25\n",
      "\u001b[1m25/25\u001b[0m \u001b[32m━━━━━━━━━━━━━━━━━━━━\u001b[0m\u001b[37m\u001b[0m \u001b[1m1s\u001b[0m 33ms/step - accuracy: 0.8943 - loss: 0.1985 - precision: 0.9855 - recall: 0.8040 - val_accuracy: 0.8832 - val_loss: 0.1956 - val_precision: 0.9595 - val_recall: 0.7802\n",
      "Epoch 16/25\n",
      "\u001b[1m25/25\u001b[0m \u001b[32m━━━━━━━━━━━━━━━━━━━━\u001b[0m\u001b[37m\u001b[0m \u001b[1m1s\u001b[0m 33ms/step - accuracy: 0.9165 - loss: 0.1732 - precision: 0.9837 - recall: 0.8471 - val_accuracy: 0.8883 - val_loss: 0.1866 - val_precision: 0.9726 - val_recall: 0.7802\n",
      "Epoch 17/25\n",
      "\u001b[1m25/25\u001b[0m \u001b[32m━━━━━━━━━━━━━━━━━━━━\u001b[0m\u001b[37m\u001b[0m \u001b[1m1s\u001b[0m 32ms/step - accuracy: 0.8996 - loss: 0.1805 - precision: 0.9800 - recall: 0.8181 - val_accuracy: 0.8883 - val_loss: 0.1812 - val_precision: 0.9726 - val_recall: 0.7802\n",
      "Epoch 18/25\n",
      "\u001b[1m25/25\u001b[0m \u001b[32m━━━━━━━━━━━━━━━━━━━━\u001b[0m\u001b[37m\u001b[0m \u001b[1m1s\u001b[0m 33ms/step - accuracy: 0.9142 - loss: 0.1555 - precision: 0.9827 - recall: 0.8382 - val_accuracy: 0.8883 - val_loss: 0.1753 - val_precision: 0.9726 - val_recall: 0.7802\n",
      "Epoch 19/25\n",
      "\u001b[1m25/25\u001b[0m \u001b[32m━━━━━━━━━━━━━━━━━━━━\u001b[0m\u001b[37m\u001b[0m \u001b[1m1s\u001b[0m 33ms/step - accuracy: 0.9104 - loss: 0.1536 - precision: 0.9651 - recall: 0.8546 - val_accuracy: 0.8883 - val_loss: 0.1706 - val_precision: 0.9726 - val_recall: 0.7802\n",
      "Epoch 20/25\n",
      "\u001b[1m25/25\u001b[0m \u001b[32m━━━━━━━━━━━━━━━━━━━━\u001b[0m\u001b[37m\u001b[0m \u001b[1m1s\u001b[0m 30ms/step - accuracy: 0.8955 - loss: 0.1567 - precision: 0.9808 - recall: 0.8037 - val_accuracy: 0.8883 - val_loss: 0.1668 - val_precision: 0.9726 - val_recall: 0.7802\n",
      "Epoch 21/25\n",
      "\u001b[1m25/25\u001b[0m \u001b[32m━━━━━━━━━━━━━━━━━━━━\u001b[0m\u001b[37m\u001b[0m \u001b[1m1s\u001b[0m 33ms/step - accuracy: 0.9017 - loss: 0.1546 - precision: 0.9781 - recall: 0.8345 - val_accuracy: 0.8883 - val_loss: 0.1616 - val_precision: 0.9726 - val_recall: 0.7802\n",
      "Epoch 22/25\n",
      "\u001b[1m25/25\u001b[0m \u001b[32m━━━━━━━━━━━━━━━━━━━━\u001b[0m\u001b[37m\u001b[0m \u001b[1m1s\u001b[0m 34ms/step - accuracy: 0.9068 - loss: 0.1423 - precision: 0.9831 - recall: 0.8250 - val_accuracy: 0.8883 - val_loss: 0.1585 - val_precision: 0.9726 - val_recall: 0.7802\n",
      "Epoch 23/25\n",
      "\u001b[1m25/25\u001b[0m \u001b[32m━━━━━━━━━━━━━━━━━━━━\u001b[0m\u001b[37m\u001b[0m \u001b[1m1s\u001b[0m 33ms/step - accuracy: 0.9015 - loss: 0.1422 - precision: 0.9642 - recall: 0.8371 - val_accuracy: 0.8883 - val_loss: 0.1552 - val_precision: 0.9726 - val_recall: 0.7802\n",
      "Epoch 24/25\n",
      "\u001b[1m25/25\u001b[0m \u001b[32m━━━━━━━━━━━━━━━━━━━━\u001b[0m\u001b[37m\u001b[0m \u001b[1m1s\u001b[0m 33ms/step - accuracy: 0.8963 - loss: 0.1445 - precision: 0.9726 - recall: 0.8200 - val_accuracy: 0.8883 - val_loss: 0.1524 - val_precision: 0.9726 - val_recall: 0.7802\n",
      "Epoch 25/25\n",
      "\u001b[1m25/25\u001b[0m \u001b[32m━━━━━━━━━━━━━━━━━━━━\u001b[0m\u001b[37m\u001b[0m \u001b[1m1s\u001b[0m 32ms/step - accuracy: 0.9139 - loss: 0.1310 - precision: 0.9786 - recall: 0.8525 - val_accuracy: 0.8832 - val_loss: 0.1497 - val_precision: 0.9595 - val_recall: 0.7802\n"
     ]
    }
   ],
   "source": [
    "history = model.fit(x_train, y_train, epochs = 25, validation_data = (x_test, y_test))"
   ]
  },
  {
   "cell_type": "code",
   "execution_count": 46,
   "id": "a9fa9247",
   "metadata": {},
   "outputs": [
    {
     "name": "stdout",
     "output_type": "stream",
     "text": [
      "\u001b[1m7/7\u001b[0m \u001b[32m━━━━━━━━━━━━━━━━━━━━\u001b[0m\u001b[37m\u001b[0m \u001b[1m2s\u001b[0m 154ms/step\n"
     ]
    }
   ],
   "source": [
    "results = model.predict(x_test)"
   ]
  },
  {
   "cell_type": "code",
   "execution_count": 47,
   "id": "d02ef5c8",
   "metadata": {},
   "outputs": [
    {
     "data": {
      "image/png": "[encoded data removed]",
      "text/plain": [
       "<Figure size 640x480 with 1 Axes>"
      ]
     },
     "metadata": {},
     "output_type": "display_data"
    }
   ],
   "source": [
    "plt.scatter(range(len(results)), results, c = 'r', label = 'Results')\n",
    "plt.scatter(range(len(y_test)), y_test, c = 'g', label = 'Test Data')\n",
    "plt.legend()\n",
    "plt.show()"
   ]
  },
  {
   "cell_type": "code",
   "execution_count": 48,
   "id": "8010b5a3",
   "metadata": {},
   "outputs": [],
   "source": [
    "#model_predictions"
   ]
  },
  {
   "cell_type": "code",
   "execution_count": 49,
   "id": "0fae7aa9",
   "metadata": {},
   "outputs": [
    {
     "name": "stdout",
     "output_type": "stream",
     "text": [
      "\u001b[1m7/7\u001b[0m \u001b[32m━━━━━━━━━━━━━━━━━━━━\u001b[0m\u001b[37m\u001b[0m \u001b[1m0s\u001b[0m 7ms/step \n"
     ]
    }
   ],
   "source": [
    "predictions = model.predict(x_test)\n",
    "y_pred = np.argmax(predictions, axis=1)"
   ]
  },
  {
   "cell_type": "code",
   "execution_count": 50,
   "id": "bb1e689e",
   "metadata": {},
   "outputs": [
    {
     "data": {
      "image/png": "[encoded data removed]",
      "text/plain": [
       "<Figure size 640x480 with 1 Axes>"
      ]
     },
     "metadata": {},
     "output_type": "display_data"
    }
   ],
   "source": [
    "plt.plot(history.history['loss'])\n",
    "plt.show()"
   ]
  },
  {
   "cell_type": "code",
   "execution_count": 51,
   "id": "1e23052e",
   "metadata": {},
   "outputs": [
    {
     "data": {
      "image/png": "[encoded data removed]",
      "text/plain": [
       "<Figure size 640x480 with 1 Axes>"
      ]
     },
     "metadata": {},
     "output_type": "display_data"
    }
   ],
   "source": [
    "plt.plot(history.history['accuracy'])\n",
    "plt.show()"
   ]
  },
  {
   "cell_type": "code",
   "execution_count": 52,
   "id": "a9b74ab4",
   "metadata": {},
   "outputs": [],
   "source": [
    "#calculations"
   ]
  },
  {
   "cell_type": "code",
   "execution_count": 53,
   "id": "f652c086",
   "metadata": {},
   "outputs": [
    {
     "name": "stdout",
     "output_type": "stream",
     "text": [
      "Confusion Matrix : \n",
      "[[106   0]\n",
      " [ 91   0]]\n",
      "Accuracy Score :  0.5380710659898477\n",
      "Precision Score :  0.28952047205545106\n",
      "Recall Score :  0.5380710659898477\n"
     ]
    },
    {
     "name": "stderr",
     "output_type": "stream",
     "text": [
      "C:\\Users\\MADHUSUDAN\\anaconda3\\Lib\\site-packages\\sklearn\\metrics\\_classification.py:1469: UndefinedMetricWarning: Precision is ill-defined and being set to 0.0 in labels with no predicted samples. Use `zero_division` parameter to control this behavior.\n",
      "  _warn_prf(average, modifier, msg_start, len(result))\n"
     ]
    }
   ],
   "source": [
    "cm = confusion_matrix(y_test, y_pred)\n",
    "accuracy = accuracy_score(y_test, y_pred)\n",
    "precision = precision_score(y_test, y_pred, average='weighted')\n",
    "recall = recall_score(y_test, y_pred, average='weighted')\n",
    "print(\"Confusion Matrix : \")\n",
    "print(cm)\n",
    "print(\"Accuracy Score : \",accuracy)\n",
    "print(\"Precision Score : \",precision)\n",
    "print(\"Recall Score : \",recall)"
   ]
  },
  {
   "cell_type": "code",
   "execution_count": 54,
   "id": "b42d225f",
   "metadata": {},
   "outputs": [],
   "source": [
    "#learning_curve"
   ]
  },
  {
   "cell_type": "code",
   "execution_count": 55,
   "id": "9c770c9a",
   "metadata": {},
   "outputs": [],
   "source": [
    "def learning_curve(history, epoch):    \n",
    "    epoch_range = range(1, epoch+1)    \n",
    "# Plotting Model Accuracy\n",
    "    plt.plot(epoch_range, history.history['accuracy'])\n",
    "    plt.plot(epoch_range, history.history['val_accuracy'])\n",
    "    plt.title('Model Accuracy')\n",
    "    plt.xlabel('Epoch')\n",
    "    plt.ylabel('Accuracy')\n",
    "    plt.legend(['Train', 'Val'], loc='upper left')\n",
    "    plt.show()    \n",
    "# Plotting Model Loss\n",
    "    plt.plot(epoch_range, history.history['loss'])\n",
    "    plt.plot(epoch_range, history.history['val_loss'])\n",
    "    plt.title('Model Loss')\n",
    "    plt.xlabel('Epoch')\n",
    "    plt.ylabel('Loss')\n",
    "    plt.legend(['Train', 'Val'], loc='upper left')\n",
    "    plt.show()\n",
    "# Plotting Precision\n",
    "    plt.plot(epoch_range, history.history['precision'])\n",
    "    plt.plot(epoch_range, history.history['val_precision'])\n",
    "    plt.title('Model Precision')\n",
    "    plt.xlabel('Epoch')\n",
    "    plt.ylabel('Precision')\n",
    "    plt.legend(['Train', 'Val'], loc='upper left')\n",
    "    plt.show()\n",
    "# Plotting Recall\n",
    "    plt.plot(epoch_range, history.history['recall'])\n",
    "    plt.plot(epoch_range, history.history['val_recall'])\n",
    "    plt.title('Model Recall')\n",
    "    plt.xlabel('Epoch')\n",
    "    plt.ylabel('Recall')\n",
    "    plt.legend(['Train', 'Val'], loc='upper left')\n",
    "    plt.show()"
   ]
  },
  {
   "cell_type": "code",
   "execution_count": 57,
   "id": "50434680",
   "metadata": {},
   "outputs": [
    {
     "data": {
      "image/png": "[encoded data removed]",
      "text/plain": [
       "<Figure size 640x480 with 1 Axes>"
      ]
     },
     "metadata": {},
     "output_type": "display_data"
    },
    {
     "data": {
      "image/png": "[encoded data removed]",
      "text/plain": [
       "<Figure size 640x480 with 1 Axes>"
      ]
     },
     "metadata": {},
     "output_type": "display_data"
    },
    {
     "data": {
      "image/png": "[encoded data removed]",
      "text/plain": [
       "<Figure size 640x480 with 1 Axes>"
      ]
     },
     "metadata": {},
     "output_type": "display_data"
    },
    {
     "data": {
      "image/png": "[encoded data removed]",
      "text/plain": [
       "<Figure size 640x480 with 1 Axes>"
      ]
     },
     "metadata": {},
     "output_type": "display_data"
    }
   ],
   "source": [
    "learning_curve(history, 25)"
   ]
  },
  {
   "cell_type": "code",
   "execution_count": null,
   "id": "52563db0",
   "metadata": {},
   "outputs": [],
   "source": []
  }
 ],
 "metadata": {
  "kernelspec": {
   "display_name": "Python 3 (ipykernel)",
   "language": "python",
   "name": "python3"
  },
  "language_info": {
   "codemirror_mode": {
    "name": "ipython",
    "version": 3
   },
   "file_extension": ".py",
   "mimetype": "text/x-python",
   "name": "python",
   "nbconvert_exporter": "python",
   "pygments_lexer": "ipython3",
   "version": "3.11.4"
  }
 },
 "nbformat": 4,
 "nbformat_minor": 5
}
